{
 "cells": [
  {
   "cell_type": "markdown",
   "metadata": {},
   "source": [
    "# Word2vec basic"
   ]
  },
  {
   "cell_type": "code",
   "execution_count": 1,
   "metadata": {
    "collapsed": false
   },
   "outputs": [
    {
     "name": "stdout",
     "output_type": "stream",
     "text": [
      "Packages loaded\n"
     ]
    }
   ],
   "source": [
    "import collections\n",
    "import math\n",
    "import os\n",
    "import random\n",
    "import zipfile\n",
    "import numpy as np\n",
    "from six.moves import urllib\n",
    "from six.moves import xrange  # pylint: disable=redefined-builtin\n",
    "from sklearn.manifold import TSNE\n",
    "import matplotlib.pyplot as plt\n",
    "import tensorflow as tf\n",
    "%matplotlib inline  \n",
    "print (\"Packages loaded\")"
   ]
  },
  {
   "cell_type": "markdown",
   "metadata": {},
   "source": [
    "# 1. Download the text and make corpus (set of words)"
   ]
  },
  {
   "cell_type": "markdown",
   "metadata": {},
   "source": [
    "## Download (or reuse) the text file that we will use "
   ]
  },
  {
   "cell_type": "code",
   "execution_count": 2,
   "metadata": {
    "collapsed": false
   },
   "outputs": [
    {
     "name": "stdout",
     "output_type": "stream",
     "text": [
      "File already exists\n"
     ]
    }
   ],
   "source": [
    "folder_dir  = \"data\"\n",
    "file_name   = \"text8.zip\"\n",
    "file_path   = os.path.join(folder_dir, file_name)\n",
    "url         = 'http://mattmahoney.net/dc/'\n",
    "if not os.path.exists(file_path):\n",
    "    print (\"No file found. Start downloading\")\n",
    "    downfilename, _ = urllib.request.urlretrieve(\n",
    "        url + file_name, file_path)\n",
    "    print (\"'%s' downloaded\" % (downfilename))\n",
    "else:\n",
    "    print (\"File already exists\")"
   ]
  },
  {
   "cell_type": "markdown",
   "metadata": {},
   "source": [
    "## Check we have correct data "
   ]
  },
  {
   "cell_type": "code",
   "execution_count": 3,
   "metadata": {
    "collapsed": false
   },
   "outputs": [
    {
     "name": "stdout",
     "output_type": "stream",
     "text": [
      "I guess we have correct file at 'data\\text8.zip'\n"
     ]
    }
   ],
   "source": [
    "statinfo = os.stat(file_path)\n",
    "expected_bytes = 31344016\n",
    "if statinfo.st_size == expected_bytes:\n",
    "    print (\"I guess we have correct file at '%s'\" % (file_path))\n",
    "else:\n",
    "    print (\"Something's wrong with the file at '%s'\" % (file_path))"
   ]
  },
  {
   "cell_type": "markdown",
   "metadata": {},
   "source": [
    "## Unzip the file"
   ]
  },
  {
   "cell_type": "code",
   "execution_count": 4,
   "metadata": {
    "collapsed": false
   },
   "outputs": [],
   "source": [
    "def read_data(filename):\n",
    "    with zipfile.ZipFile(filename) as f:\n",
    "        data = f.read(f.namelist()[0]).split()##return [data.filename for data in self.filelist]\n",
    "    return data"
   ]
  },
  {
   "cell_type": "code",
   "execution_count": 5,
   "metadata": {
    "collapsed": false
   },
   "outputs": [
    {
     "name": "stdout",
     "output_type": "stream",
     "text": [
      "Type of 'words' is <class 'list'> / Length is 17005207 \n'words' look like \n [b'anarchism', b'originated', b'as', b'a', b'term', b'of', b'abuse', b'first', b'used', b'against', b'early', b'working', b'class', b'radicals', b'including', b'the', b'diggers', b'of', b'the', b'english', b'revolution', b'and', b'the', b'sans', b'culottes', b'of', b'the', b'french', b'revolution', b'whilst', b'the', b'term', b'is', b'still', b'used', b'in', b'a', b'pejorative', b'way', b'to', b'describe', b'any', b'act', b'that', b'used', b'violent', b'means', b'to', b'destroy', b'the', b'organization', b'of', b'society', b'it', b'has', b'also', b'been', b'taken', b'up', b'as', b'a', b'positive', b'label', b'by', b'self', b'defined', b'anarchists', b'the', b'word', b'anarchism', b'is', b'derived', b'from', b'the', b'greek', b'without', b'archons', b'ruler', b'chief', b'king', b'anarchism', b'as', b'a', b'political', b'philosophy', b'is', b'the', b'belief', b'that', b'rulers', b'are', b'unnecessary', b'and', b'should', b'be', b'abolished', b'although', b'there', b'are', b'differing']\n<class 'list'>\n"
     ]
    }
   ],
   "source": [
    "words = read_data(file_path) \n",
    "print (\"Type of 'words' is %s / Length is %d \" \n",
    "       % (type(words), len(words)))\n",
    "print (\"'words' look like \\n %s\" %(words[0:100]))\n",
    "print(type(words))\n",
    "with zipfile.ZipFile(file_path) as f:\n",
    "    data = f.read(f.namelist()[0]).split()\n",
    "    data2 = f.read(f.namelist()[0])"
   ]
  },
  {
   "cell_type": "code",
   "execution_count": 6,
   "metadata": {},
   "outputs": [
    {
     "data": {
      "text/plain": [
       "bytes"
      ]
     },
     "execution_count": 6,
     "metadata": {},
     "output_type": "execute_result"
    }
   ],
   "source": [
    "#print(data.shape)\n",
    "type(data2)"
   ]
  },
  {
   "cell_type": "markdown",
   "metadata": {
    "collapsed": false
   },
   "source": [
    "# 2. Make a dictionary with fixed length (using UNK token)"
   ]
  },
  {
   "cell_type": "markdown",
   "metadata": {},
   "source": [
    "## Count the words "
   ]
  },
  {
   "cell_type": "code",
   "execution_count": 7,
   "metadata": {
    "collapsed": false
   },
   "outputs": [
    {
     "name": "stdout",
     "output_type": "stream",
     "text": [
      "Type of 'count' is <class 'list'> / Length is 50000 \n'count' looks like \n [['UNK', -1], (b'the', 1061396), (b'of', 593677), (b'and', 416629), (b'one', 411764), (b'in', 372201), (b'a', 325873), (b'to', 316376), (b'zero', 264975), (b'nine', 250430)]\n"
     ]
    }
   ],
   "source": [
    "vocabulary_size = 50000 \n",
    "count = [['UNK', -1]] \n",
    "count.extend(collections.Counter(words)\n",
    "             .most_common(vocabulary_size - 1)) # -1 is for UNK \n",
    "print (\"Type of 'count' is %s / Length is %d \" % (type(count), len(count)))\n",
    "print (\"'count' looks like \\n %s\" % (count[0:10]))"
   ]
  },
  {
   "cell_type": "markdown",
   "metadata": {},
   "source": [
    "## Make a dictionary"
   ]
  },
  {
   "cell_type": "code",
   "execution_count": 11,
   "metadata": {
    "collapsed": true
   },
   "outputs": [
    {
     "name": "stdout",
     "output_type": "stream",
     "text": [
      "Type of 'dictionary' is <class 'dict'> / Length is 50000 \n"
     ]
    },
    {
     "data": {
      "text/plain": [
       "{'UNK': 0,\n b'the': 1,\n b'of': 2,\n b'and': 3,\n b'one': 4,\n b'in': 5,\n b'a': 6,\n b'to': 7,\n b'zero': 8,\n b'nine': 9,\n b'two': 10,\n b'is': 11,\n b'as': 12,\n b'eight': 13,\n b'for': 14,\n b's': 15,\n b'five': 16,\n b'three': 17,\n b'was': 18,\n b'by': 19,\n b'that': 20,\n b'four': 21,\n b'six': 22,\n b'seven': 23,\n b'with': 24,\n b'on': 25,\n b'are': 26,\n b'it': 27,\n b'from': 28,\n b'or': 29,\n b'his': 30,\n b'an': 31,\n b'be': 32,\n b'this': 33,\n b'which': 34,\n b'at': 35,\n b'he': 36,\n b'also': 37,\n b'not': 38,\n b'have': 39,\n b'were': 40,\n b'has': 41,\n b'but': 42,\n b'other': 43,\n b'their': 44,\n b'its': 45,\n b'first': 46,\n b'they': 47,\n b'some': 48,\n b'had': 49,\n b'all': 50,\n b'more': 51,\n b'most': 52,\n b'can': 53,\n b'been': 54,\n b'such': 55,\n b'many': 56,\n b'who': 57,\n b'new': 58,\n b'used': 59,\n b'there': 60,\n b'after': 61,\n b'when': 62,\n b'into': 63,\n b'american': 64,\n b'time': 65,\n b'these': 66,\n b'only': 67,\n b'see': 68,\n b'may': 69,\n b'than': 70,\n b'world': 71,\n b'i': 72,\n b'b': 73,\n b'would': 74,\n b'd': 75,\n b'no': 76,\n b'however': 77,\n b'between': 78,\n b'about': 79,\n b'over': 80,\n b'years': 81,\n b'states': 82,\n b'people': 83,\n b'war': 84,\n b'during': 85,\n b'united': 86,\n b'known': 87,\n b'if': 88,\n b'called': 89,\n b'use': 90,\n b'th': 91,\n b'system': 92,\n b'often': 93,\n b'state': 94,\n b'so': 95,\n b'history': 96,\n b'will': 97,\n b'up': 98,\n b'while': 99,\n b'where': 100,\n b'city': 101,\n b'being': 102,\n b'english': 103,\n b'then': 104,\n b'any': 105,\n b'both': 106,\n b'under': 107,\n b'out': 108,\n b'made': 109,\n b'well': 110,\n b'her': 111,\n b'e': 112,\n b'number': 113,\n b'government': 114,\n b'them': 115,\n b'm': 116,\n b'later': 117,\n b'since': 118,\n b'him': 119,\n b'part': 120,\n b'name': 121,\n b'c': 122,\n b'century': 123,\n b'through': 124,\n b'because': 125,\n b'x': 126,\n b'university': 127,\n b'early': 128,\n b'life': 129,\n b'british': 130,\n b'year': 131,\n b'like': 132,\n b'same': 133,\n b'including': 134,\n b'became': 135,\n b'example': 136,\n b'day': 137,\n b'each': 138,\n b'even': 139,\n b'work': 140,\n b'language': 141,\n b'although': 142,\n b'several': 143,\n b'form': 144,\n b'john': 145,\n b'u': 146,\n b'national': 147,\n b'very': 148,\n b'much': 149,\n b'g': 150,\n b'french': 151,\n b'before': 152,\n b'general': 153,\n b'what': 154,\n b't': 155,\n b'against': 156,\n b'n': 157,\n b'high': 158,\n b'links': 159,\n b'could': 160,\n b'based': 161,\n b'those': 162,\n b'now': 163,\n b'second': 164,\n b'de': 165,\n b'music': 166,\n b'another': 167,\n b'large': 168,\n b'she': 169,\n b'f': 170,\n b'external': 171,\n b'german': 172,\n b'different': 173,\n b'modern': 174,\n b'great': 175,\n b'do': 176,\n b'common': 177,\n b'set': 178,\n b'list': 179,\n b'south': 180,\n b'series': 181,\n b'major': 182,\n b'game': 183,\n b'power': 184,\n b'long': 185,\n b'country': 186,\n b'king': 187,\n b'law': 188,\n b'group': 189,\n b'film': 190,\n b'still': 191,\n b'until': 192,\n b'north': 193,\n b'international': 194,\n b'term': 195,\n b'we': 196,\n b'end': 197,\n b'book': 198,\n b'found': 199,\n b'own': 200,\n b'political': 201,\n b'party': 202,\n b'order': 203,\n b'usually': 204,\n b'president': 205,\n b'church': 206,\n b'you': 207,\n b'death': 208,\n b'theory': 209,\n b'area': 210,\n b'around': 211,\n b'include': 212,\n b'god': 213,\n b'ii': 214,\n b'way': 215,\n b'did': 216,\n b'military': 217,\n b'population': 218,\n b'using': 219,\n b'though': 220,\n b'small': 221,\n b'following': 222,\n b'within': 223,\n b'non': 224,\n b'human': 225,\n b'left': 226,\n b'main': 227,\n b'among': 228,\n b'point': 229,\n b'r': 230,\n b'due': 231,\n b'p': 232,\n b'considered': 233,\n b'public': 234,\n b'popular': 235,\n b'computer': 236,\n b'west': 237,\n b'family': 238,\n b'east': 239,\n b'information': 240,\n b'important': 241,\n b'european': 242,\n b'man': 243,\n b'sometimes': 244,\n b'right': 245,\n b'old': 246,\n b'free': 247,\n b'word': 248,\n b'without': 249,\n b'last': 250,\n b'us': 251,\n b'members': 252,\n b'given': 253,\n b'times': 254,\n b'roman': 255,\n b'make': 256,\n b'h': 257,\n b'age': 258,\n b'place': 259,\n b'l': 260,\n b'thus': 261,\n b'science': 262,\n b'case': 263,\n b'become': 264,\n b'systems': 265,\n b'union': 266,\n b'born': 267,\n b'york': 268,\n b'line': 269,\n b'countries': 270,\n b'does': 271,\n b'isbn': 272,\n b'st': 273,\n b'control': 274,\n b'various': 275,\n b'others': 276,\n b'house': 277,\n b'article': 278,\n b'island': 279,\n b'should': 280,\n b'led': 281,\n b'back': 282,\n b'period': 283,\n b'player': 284,\n b'europe': 285,\n b'languages': 286,\n b'central': 287,\n b'water': 288,\n b'few': 289,\n b'western': 290,\n b'home': 291,\n b'began': 292,\n b'generally': 293,\n b'less': 294,\n b'k': 295,\n b'similar': 296,\n b'written': 297,\n b'original': 298,\n b'best': 299,\n b'must': 300,\n b'according': 301,\n b'school': 302,\n b'france': 303,\n b'air': 304,\n b'single': 305,\n b'force': 306,\n b'v': 307,\n b'land': 308,\n b'groups': 309,\n b'down': 310,\n b'how': 311,\n b'works': 312,\n b'development': 313,\n b'official': 314,\n b'support': 315,\n b'england': 316,\n b'j': 317,\n b'rather': 318,\n b'data': 319,\n b'space': 320,\n b'greek': 321,\n b'km': 322,\n b'named': 323,\n b'germany': 324,\n b'just': 325,\n b'games': 326,\n b'said': 327,\n b'version': 328,\n b'late': 329,\n b'earth': 330,\n b'company': 331,\n b'every': 332,\n b'economic': 333,\n b'short': 334,\n b'published': 335,\n b'black': 336,\n b'army': 337,\n b'off': 338,\n b'london': 339,\n b'million': 340,\n b'body': 341,\n b'field': 342,\n b'christian': 343,\n b'either': 344,\n b'social': 345,\n b'empire': 346,\n b'o': 347,\n b'developed': 348,\n b'standard': 349,\n b'court': 350,\n b'service': 351,\n b'kingdom': 352,\n b'along': 353,\n b'college': 354,\n b'republic': 355,\n b'sea': 356,\n b'america': 357,\n b'today': 358,\n b'result': 359,\n b'held': 360,\n b'team': 361,\n b'light': 362,\n b'means': 363,\n b'never': 364,\n b'especially': 365,\n b'third': 366,\n b'further': 367,\n b'character': 368,\n b'forces': 369,\n b'take': 370,\n b'men': 371,\n b'society': 372,\n b'show': 373,\n b'open': 374,\n b'possible': 375,\n b'fact': 376,\n b'battle': 377,\n b'took': 378,\n b'former': 379,\n b'books': 380,\n b'soviet': 381,\n b'river': 382,\n b'children': 383,\n b'having': 384,\n b'good': 385,\n b'local': 386,\n b'current': 387,\n b'son': 388,\n b'process': 389,\n b'natural': 390,\n b'present': 391,\n b'himself': 392,\n b'islands': 393,\n b'total': 394,\n b'near': 395,\n b'white': 396,\n b'days': 397,\n b'person': 398,\n b'itself': 399,\n b'seen': 400,\n b'culture': 401,\n b'little': 402,\n b'above': 403,\n b'software': 404,\n b'largest': 405,\n b'words': 406,\n b'upon': 407,\n b'level': 408,\n b'father': 409,\n b'created': 410,\n b'side': 411,\n b'red': 412,\n b'references': 413,\n b'press': 414,\n b'full': 415,\n b'region': 416,\n b'almost': 417,\n b'image': 418,\n b'al': 419,\n b'famous': 420,\n b'play': 421,\n b'came': 422,\n b'role': 423,\n b'once': 424,\n b'certain': 425,\n b'league': 426,\n b'jewish': 427,\n b'james': 428,\n b'january': 429,\n b'site': 430,\n b'again': 431,\n b'numbers': 432,\n b'art': 433,\n b'member': 434,\n b'areas': 435,\n b'movement': 436,\n b'religious': 437,\n b'type': 438,\n b'march': 439,\n b'community': 440,\n b'story': 441,\n b'played': 442,\n b'production': 443,\n b'released': 444,\n b'center': 445,\n b'rights': 446,\n b'real': 447,\n b'related': 448,\n b'foreign': 449,\n b'low': 450,\n b'ancient': 451,\n b'terms': 452,\n b'view': 453,\n b'source': 454,\n b'act': 455,\n b'minister': 456,\n b'change': 457,\n b'energy': 458,\n b'produced': 459,\n b'research': 460,\n b'actor': 461,\n b'making': 462,\n b'civil': 463,\n b'december': 464,\n b'women': 465,\n b'special': 466,\n b'style': 467,\n b'william': 468,\n b'design': 469,\n b'japanese': 470,\n b'available': 471,\n b'chinese': 472,\n b'forms': 473,\n b'canada': 474,\n b'northern': 475,\n b'died': 476,\n b'class': 477,\n b'living': 478,\n b'next': 479,\n b'particular': 480,\n b'program': 481,\n b'council': 482,\n b'television': 483,\n b'head': 484,\n b'david': 485,\n b'china': 486,\n b'middle': 487,\n b'established': 488,\n b'hand': 489,\n b'bc': 490,\n b'far': 491,\n b'july': 492,\n b'function': 493,\n b'position': 494,\n b'y': 495,\n b'built': 496,\n b'george': 497,\n b'band': 498,\n b'together': 499,\n b'w': 500,\n b'latin': 501,\n b'thought': 502,\n b'eastern': 503,\n b'charles': 504,\n b'parts': 505,\n b'instead': 506,\n b'study': 507,\n b'might': 508,\n b'india': 509,\n b'code': 510,\n b'included': 511,\n b'meaning': 512,\n b'trade': 513,\n b'per': 514,\n b'june': 515,\n b'least': 516,\n b'half': 517,\n b'model': 518,\n b'economy': 519,\n b'prime': 520,\n b'traditional': 521,\n b'always': 522,\n b'capital': 523,\n b'range': 524,\n b'november': 525,\n b'emperor': 526,\n b'young': 527,\n b'anti': 528,\n b'final': 529,\n b'text': 530,\n b'players': 531,\n b'uk': 532,\n b'april': 533,\n b'run': 534,\n b'september': 535,\n b'addition': 536,\n b'radio': 537,\n b'live': 538,\n b'august': 539,\n b'taken': 540,\n b'note': 541,\n b'italian': 542,\n b'lost': 543,\n b'nature': 544,\n b'project': 545,\n b'technology': 546,\n b'spanish': 547,\n b'october': 548,\n b'recent': 549,\n b'rate': 550,\n b'won': 551,\n b'true': 552,\n b'value': 553,\n b'uses': 554,\n b'russian': 555,\n b'est': 556,\n b'wrote': 557,\n b'effect': 558,\n b'album': 559,\n b'southern': 560,\n b'africa': 561,\n b'whose': 562,\n b'top': 563,\n b'historical': 564,\n b'australia': 565,\n b'catholic': 566,\n b'particularly': 567,\n b'self': 568,\n b'structure': 569,\n b'record': 570,\n b'evidence': 571,\n b'rule': 572,\n b'themselves': 573,\n b'influence': 574,\n b'cases': 575,\n b'subject': 576,\n b'referred': 577,\n b'continued': 578,\n b'nations': 579,\n b'below': 580,\n b'rock': 581,\n b'japan': 582,\n b'com': 583,\n b'song': 584,\n b'throughout': 585,\n b'names': 586,\n b'female': 587,\n b'title': 588,\n b'therefore': 589,\n b'our': 590,\n b'office': 591,\n b'star': 592,\n b'paul': 593,\n b'too': 594,\n b'cities': 595,\n b'february': 596,\n b'independent': 597,\n b'author': 598,\n b'problem': 599,\n b'species': 600,\n b'education': 601,\n b'done': 602,\n b'philosophy': 603,\n b'come': 604,\n b'higher': 605,\n b'originally': 606,\n b'market': 607,\n b'town': 608,\n b'my': 609,\n b'season': 610,\n b'love': 611,\n b'strong': 612,\n b'israel': 613,\n b'irish': 614,\n b'writer': 615,\n b'films': 616,\n b'elements': 617,\n b'robert': 618,\n b'whether': 619,\n b'despite': 620,\n b'eventually': 621,\n b'here': 622,\n b'football': 623,\n b'action': 624,\n b'internet': 625,\n b'individual': 626,\n b'sound': 627,\n b'network': 628,\n b'described': 629,\n b'practice': 630,\n b'characters': 631,\n b're': 632,\n b'royal': 633,\n b'la': 634,\n b'events': 635,\n b'formed': 636,\n b'commonly': 637,\n b'base': 638,\n b'received': 639,\n b'african': 640,\n b'problems': 641,\n b'food': 642,\n b'jews': 643,\n b'able': 644,\n b'male': 645,\n b'typically': 646,\n b'mass': 647,\n b'complex': 648,\n b'lower': 649,\n b'includes': 650,\n b'outside': 651,\n b'legal': 652,\n b'complete': 653,\n b'significant': 654,\n b'parliament': 655,\n b'actually': 656,\n b'business': 657,\n b'fiction': 658,\n b'physical': 659,\n b'followed': 660,\n b'deaths': 661,\n b'key': 662,\n b'leader': 663,\n b'widely': 664,\n b'page': 665,\n b'basic': 666,\n b'types': 667,\n b'henry': 668,\n b'elected': 669,\n b'beginning': 670,\n b'fire': 671,\n b'building': 672,\n b'independence': 673,\n b'went': 674,\n b'movie': 675,\n b'aircraft': 676,\n b'ever': 677,\n b'canadian': 678,\n b'material': 679,\n b'births': 680,\n b'video': 681,\n b'news': 682,\n b'future': 683,\n b'scientific': 684,\n b'simply': 685,\n b'go': 686,\n b'defined': 687,\n b'laws': 688,\n b'get': 689,\n b'close': 690,\n b'industry': 691,\n b'specific': 692,\n b'examples': 693,\n b'believe': 694,\n b'services': 695,\n b'idea': 696,\n b'method': 697,\n b'introduced': 698,\n b'points': 699,\n b'return': 700,\n b'cause': 701,\n b'indian': 702,\n b'britain': 703,\n b'features': 704,\n b'majority': 705,\n b'size': 706,\n b'post': 707,\n b'lead': 708,\n b'organization': 709,\n b'cannot': 710,\n b'designed': 711,\n b'ireland': 712,\n b'cross': 713,\n b'classical': 714,\n b'personal': 715,\n b'writing': 716,\n b'concept': 717,\n b'associated': 718,\n b'required': 719,\n b'soon': 720,\n b'changes': 721,\n b'california': 722,\n b'located': 723,\n b'sense': 724,\n b'believed': 725,\n b'away': 726,\n b'started': 727,\n b'co': 728,\n b'religion': 729,\n b'mother': 730,\n b'county': 731,\n b'rules': 732,\n b'studies': 733,\n b'yet': 734,\n b'find': 735,\n b'knowledge': 736,\n b'put': 737,\n b'founded': 738,\n b'policy': 739,\n b'currently': 740,\n b'provide': 741,\n b'working': 742,\n b'media': 743,\n b'election': 744,\n b'australian': 745,\n b'me': 746,\n b'thomas': 747,\n b'allowed': 748,\n b'russia': 749,\n b'earlier': 750,\n b'greater': 751,\n b'limited': 752,\n b'object': 753,\n b'brought': 754,\n b'online': 755,\n b'association': 756,\n b'lord': 757,\n b'mostly': 758,\n b'blue': 759,\n b'constitution': 760,\n b'across': 761,\n b'added': 762,\n b'interest': 763,\n b'things': 764,\n b'relations': 765,\n b'speed': 766,\n b'federal': 767,\n b'singer': 768,\n b'effects': 769,\n b'growth': 770,\n b'sources': 771,\n b'your': 772,\n b'remains': 773,\n b'z': 774,\n b'probably': 775,\n b'gave': 776,\n b'simple': 777,\n b'attack': 778,\n b'longer': 779,\n b'reference': 780,\n b'saint': 781,\n b'success': 782,\n b'killed': 783,\n b'past': 784,\n b'career': 785,\n b'need': 786,\n b'park': 787,\n b'definition': 788,\n b'say': 789,\n b'etc': 790,\n b'give': 791,\n b'peace': 792,\n b'chief': 793,\n b'stories': 794,\n b'security': 795,\n b'wide': 796,\n b'ball': 797,\n b'saw': 798,\n b'machine': 799,\n b'better': 800,\n b'cell': 801,\n b'leading': 802,\n b'becomes': 803,\n b'spain': 804,\n b'larger': 805,\n b'products': 806,\n b'parties': 807,\n b'night': 808,\n b'remained': 809,\n b'prize': 810,\n b'months': 811,\n b'website': 812,\n b'big': 813,\n b'cultural': 814,\n b'money': 815,\n b'help': 816,\n b'territory': 817,\n b'private': 818,\n b'moved': 819,\n b'letter': 820,\n b'wife': 821,\n b'politics': 822,\n b'lines': 823,\n b'largely': 824,\n b'contains': 825,\n b'companies': 826,\n b'lake': 827,\n b'perhaps': 828,\n b'green': 829,\n b'already': 830,\n b'dead': 831,\n b'iii': 832,\n b'library': 833,\n b'separate': 834,\n b'refer': 835,\n b'makes': 836,\n b'appeared': 837,\n b'dutch': 838,\n b'holy': 839,\n b'era': 840,\n b'novel': 841,\n b'successful': 842,\n b'italy': 843,\n b'letters': 844,\n b'results': 845,\n b'matter': 846,\n b'produce': 847,\n b'origin': 848,\n b'claim': 849,\n b'whole': 850,\n b'directly': 851,\n b'attempt': 852,\n b'actress': 853,\n b'surface': 854,\n b'revolution': 855,\n b'highly': 856,\n b'caused': 857,\n b'status': 858,\n b'musical': 859,\n b'richard': 860,\n b'commercial': 861,\n b'division': 862,\n b'color': 863,\n b'health': 864,\n b'coast': 865,\n b'release': 866,\n b'latter': 867,\n b'authority': 868,\n b'treaty': 869,\n b'turn': 870,\n b'michael': 871,\n b'nation': 872,\n b'direct': 873,\n b'asia': 874,\n b'edition': 875,\n b'programming': 876,\n b'playing': 877,\n b'date': 878,\n b'mary': 879,\n b'native': 880,\n b'whom': 881,\n b'married': 882,\n b'towards': 883,\n b'issues': 884,\n b'double': 885,\n b'primary': 886,\n b'basis': 887,\n b'allow': 888,\n b'enough': 889,\n b'memory': 890,\n b'reason': 891,\n b'web': 892,\n b'exist': 893,\n b'provided': 894,\n b'oil': 895,\n b'course': 896,\n b'functions': 897,\n b'alexander': 898,\n b'analysis': 899,\n b'chemical': 900,\n b'mid': 901,\n b'replaced': 902,\n b'queen': 903,\n b'claims': 904,\n b'tv': 905,\n b'sun': 906,\n b'literature': 907,\n b'metal': 908,\n b'amount': 909,\n b'divided': 910,\n b'blood': 911,\n b'likely': 912,\n b'access': 913,\n b'average': 914,\n b'length': 915,\n b'smaller': 916,\n b'medical': 917,\n b'property': 918,\n b'students': 919,\n b'degree': 920,\n b'elections': 921,\n b'club': 922,\n b'claimed': 923,\n b'performance': 924,\n b'director': 925,\n b'digital': 926,\n b'front': 927,\n b'museum': 928,\n b'difficult': 929,\n b'tradition': 930,\n b'nearly': 931,\n b'schools': 932,\n b'washington': 933,\n b'gas': 934,\n b'jesus': 935,\n b'map': 936,\n b'louis': 937,\n b'rome': 938,\n b'unit': 939,\n b'baseball': 940,\n b'mind': 941,\n b'peter': 942,\n b'mark': 943,\n b'collection': 944,\n b'product': 945,\n b'congress': 946,\n b'programs': 947,\n b'changed': 948,\n b'ideas': 949,\n b'moon': 950,\n b'entire': 951,\n b'user': 952,\n b'ground': 953,\n b'records': 954,\n b'frequently': 955,\n b'increase': 956,\n b'highest': 957,\n b'sent': 958,\n b'finally': 959,\n b'board': 960,\n b'don': 961,\n b'notable': 962,\n b'read': 963,\n b'methods': 964,\n b'recently': 965,\n b'bit': 966,\n b'involved': 967,\n b'variety': 968,\n b'call': 969,\n b'democratic': 970,\n b'ten': 971,\n b'served': 972,\n b'minor': 973,\n b'hard': 974,\n b'birth': 975,\n b'objects': 976,\n b'nuclear': 977,\n b'increased': 978,\n b'section': 979,\n b'street': 980,\n b'windows': 981,\n b'relatively': 982,\n b'car': 983,\n b'move': 984,\n b'create': 985,\n b'returned': 986,\n b'bank': 987,\n b'conditions': 988,\n b'operation': 989,\n b'adopted': 990,\n b'relationship': 991,\n b'christ': 992,\n b'hall': 993,\n b'appear': 994,\n b'rest': 995,\n b'child': 996,\n b'element': 997,\n b'appears': 998,\n b'takes': 999,\n ...}"
      ]
     },
     "execution_count": 11,
     "metadata": {},
     "output_type": "execute_result"
    }
   ],
   "source": [
    "dictionary = dict() \n",
    "for word, _ in count:\n",
    "    dictionary[word] = len(dictionary)\n",
    "print (\"Type of 'dictionary' is %s / Length is %d \" \n",
    "       % (type(dictionary), len(dictionary)))\n",
    "dictionary"
   ]
  },
  {
   "cell_type": "markdown",
   "metadata": {},
   "source": [
    "# Make a reverse dictionary"
   ]
  },
  {
   "cell_type": "code",
   "execution_count": 12,
   "metadata": {
    "collapsed": true
   },
   "outputs": [
    {
     "name": "stdout",
     "output_type": "stream",
     "text": [
      "Type of 'reverse_dictionary' is <class 'dict'> / Length is 50000 \n"
     ]
    },
    {
     "data": {
      "text/plain": [
       "{0: 'UNK',\n 1: b'the',\n 2: b'of',\n 3: b'and',\n 4: b'one',\n 5: b'in',\n 6: b'a',\n 7: b'to',\n 8: b'zero',\n 9: b'nine',\n 10: b'two',\n 11: b'is',\n 12: b'as',\n 13: b'eight',\n 14: b'for',\n 15: b's',\n 16: b'five',\n 17: b'three',\n 18: b'was',\n 19: b'by',\n 20: b'that',\n 21: b'four',\n 22: b'six',\n 23: b'seven',\n 24: b'with',\n 25: b'on',\n 26: b'are',\n 27: b'it',\n 28: b'from',\n 29: b'or',\n 30: b'his',\n 31: b'an',\n 32: b'be',\n 33: b'this',\n 34: b'which',\n 35: b'at',\n 36: b'he',\n 37: b'also',\n 38: b'not',\n 39: b'have',\n 40: b'were',\n 41: b'has',\n 42: b'but',\n 43: b'other',\n 44: b'their',\n 45: b'its',\n 46: b'first',\n 47: b'they',\n 48: b'some',\n 49: b'had',\n 50: b'all',\n 51: b'more',\n 52: b'most',\n 53: b'can',\n 54: b'been',\n 55: b'such',\n 56: b'many',\n 57: b'who',\n 58: b'new',\n 59: b'used',\n 60: b'there',\n 61: b'after',\n 62: b'when',\n 63: b'into',\n 64: b'american',\n 65: b'time',\n 66: b'these',\n 67: b'only',\n 68: b'see',\n 69: b'may',\n 70: b'than',\n 71: b'world',\n 72: b'i',\n 73: b'b',\n 74: b'would',\n 75: b'd',\n 76: b'no',\n 77: b'however',\n 78: b'between',\n 79: b'about',\n 80: b'over',\n 81: b'years',\n 82: b'states',\n 83: b'people',\n 84: b'war',\n 85: b'during',\n 86: b'united',\n 87: b'known',\n 88: b'if',\n 89: b'called',\n 90: b'use',\n 91: b'th',\n 92: b'system',\n 93: b'often',\n 94: b'state',\n 95: b'so',\n 96: b'history',\n 97: b'will',\n 98: b'up',\n 99: b'while',\n 100: b'where',\n 101: b'city',\n 102: b'being',\n 103: b'english',\n 104: b'then',\n 105: b'any',\n 106: b'both',\n 107: b'under',\n 108: b'out',\n 109: b'made',\n 110: b'well',\n 111: b'her',\n 112: b'e',\n 113: b'number',\n 114: b'government',\n 115: b'them',\n 116: b'm',\n 117: b'later',\n 118: b'since',\n 119: b'him',\n 120: b'part',\n 121: b'name',\n 122: b'c',\n 123: b'century',\n 124: b'through',\n 125: b'because',\n 126: b'x',\n 127: b'university',\n 128: b'early',\n 129: b'life',\n 130: b'british',\n 131: b'year',\n 132: b'like',\n 133: b'same',\n 134: b'including',\n 135: b'became',\n 136: b'example',\n 137: b'day',\n 138: b'each',\n 139: b'even',\n 140: b'work',\n 141: b'language',\n 142: b'although',\n 143: b'several',\n 144: b'form',\n 145: b'john',\n 146: b'u',\n 147: b'national',\n 148: b'very',\n 149: b'much',\n 150: b'g',\n 151: b'french',\n 152: b'before',\n 153: b'general',\n 154: b'what',\n 155: b't',\n 156: b'against',\n 157: b'n',\n 158: b'high',\n 159: b'links',\n 160: b'could',\n 161: b'based',\n 162: b'those',\n 163: b'now',\n 164: b'second',\n 165: b'de',\n 166: b'music',\n 167: b'another',\n 168: b'large',\n 169: b'she',\n 170: b'f',\n 171: b'external',\n 172: b'german',\n 173: b'different',\n 174: b'modern',\n 175: b'great',\n 176: b'do',\n 177: b'common',\n 178: b'set',\n 179: b'list',\n 180: b'south',\n 181: b'series',\n 182: b'major',\n 183: b'game',\n 184: b'power',\n 185: b'long',\n 186: b'country',\n 187: b'king',\n 188: b'law',\n 189: b'group',\n 190: b'film',\n 191: b'still',\n 192: b'until',\n 193: b'north',\n 194: b'international',\n 195: b'term',\n 196: b'we',\n 197: b'end',\n 198: b'book',\n 199: b'found',\n 200: b'own',\n 201: b'political',\n 202: b'party',\n 203: b'order',\n 204: b'usually',\n 205: b'president',\n 206: b'church',\n 207: b'you',\n 208: b'death',\n 209: b'theory',\n 210: b'area',\n 211: b'around',\n 212: b'include',\n 213: b'god',\n 214: b'ii',\n 215: b'way',\n 216: b'did',\n 217: b'military',\n 218: b'population',\n 219: b'using',\n 220: b'though',\n 221: b'small',\n 222: b'following',\n 223: b'within',\n 224: b'non',\n 225: b'human',\n 226: b'left',\n 227: b'main',\n 228: b'among',\n 229: b'point',\n 230: b'r',\n 231: b'due',\n 232: b'p',\n 233: b'considered',\n 234: b'public',\n 235: b'popular',\n 236: b'computer',\n 237: b'west',\n 238: b'family',\n 239: b'east',\n 240: b'information',\n 241: b'important',\n 242: b'european',\n 243: b'man',\n 244: b'sometimes',\n 245: b'right',\n 246: b'old',\n 247: b'free',\n 248: b'word',\n 249: b'without',\n 250: b'last',\n 251: b'us',\n 252: b'members',\n 253: b'given',\n 254: b'times',\n 255: b'roman',\n 256: b'make',\n 257: b'h',\n 258: b'age',\n 259: b'place',\n 260: b'l',\n 261: b'thus',\n 262: b'science',\n 263: b'case',\n 264: b'become',\n 265: b'systems',\n 266: b'union',\n 267: b'born',\n 268: b'york',\n 269: b'line',\n 270: b'countries',\n 271: b'does',\n 272: b'isbn',\n 273: b'st',\n 274: b'control',\n 275: b'various',\n 276: b'others',\n 277: b'house',\n 278: b'article',\n 279: b'island',\n 280: b'should',\n 281: b'led',\n 282: b'back',\n 283: b'period',\n 284: b'player',\n 285: b'europe',\n 286: b'languages',\n 287: b'central',\n 288: b'water',\n 289: b'few',\n 290: b'western',\n 291: b'home',\n 292: b'began',\n 293: b'generally',\n 294: b'less',\n 295: b'k',\n 296: b'similar',\n 297: b'written',\n 298: b'original',\n 299: b'best',\n 300: b'must',\n 301: b'according',\n 302: b'school',\n 303: b'france',\n 304: b'air',\n 305: b'single',\n 306: b'force',\n 307: b'v',\n 308: b'land',\n 309: b'groups',\n 310: b'down',\n 311: b'how',\n 312: b'works',\n 313: b'development',\n 314: b'official',\n 315: b'support',\n 316: b'england',\n 317: b'j',\n 318: b'rather',\n 319: b'data',\n 320: b'space',\n 321: b'greek',\n 322: b'km',\n 323: b'named',\n 324: b'germany',\n 325: b'just',\n 326: b'games',\n 327: b'said',\n 328: b'version',\n 329: b'late',\n 330: b'earth',\n 331: b'company',\n 332: b'every',\n 333: b'economic',\n 334: b'short',\n 335: b'published',\n 336: b'black',\n 337: b'army',\n 338: b'off',\n 339: b'london',\n 340: b'million',\n 341: b'body',\n 342: b'field',\n 343: b'christian',\n 344: b'either',\n 345: b'social',\n 346: b'empire',\n 347: b'o',\n 348: b'developed',\n 349: b'standard',\n 350: b'court',\n 351: b'service',\n 352: b'kingdom',\n 353: b'along',\n 354: b'college',\n 355: b'republic',\n 356: b'sea',\n 357: b'america',\n 358: b'today',\n 359: b'result',\n 360: b'held',\n 361: b'team',\n 362: b'light',\n 363: b'means',\n 364: b'never',\n 365: b'especially',\n 366: b'third',\n 367: b'further',\n 368: b'character',\n 369: b'forces',\n 370: b'take',\n 371: b'men',\n 372: b'society',\n 373: b'show',\n 374: b'open',\n 375: b'possible',\n 376: b'fact',\n 377: b'battle',\n 378: b'took',\n 379: b'former',\n 380: b'books',\n 381: b'soviet',\n 382: b'river',\n 383: b'children',\n 384: b'having',\n 385: b'good',\n 386: b'local',\n 387: b'current',\n 388: b'son',\n 389: b'process',\n 390: b'natural',\n 391: b'present',\n 392: b'himself',\n 393: b'islands',\n 394: b'total',\n 395: b'near',\n 396: b'white',\n 397: b'days',\n 398: b'person',\n 399: b'itself',\n 400: b'seen',\n 401: b'culture',\n 402: b'little',\n 403: b'above',\n 404: b'software',\n 405: b'largest',\n 406: b'words',\n 407: b'upon',\n 408: b'level',\n 409: b'father',\n 410: b'created',\n 411: b'side',\n 412: b'red',\n 413: b'references',\n 414: b'press',\n 415: b'full',\n 416: b'region',\n 417: b'almost',\n 418: b'image',\n 419: b'al',\n 420: b'famous',\n 421: b'play',\n 422: b'came',\n 423: b'role',\n 424: b'once',\n 425: b'certain',\n 426: b'league',\n 427: b'jewish',\n 428: b'james',\n 429: b'january',\n 430: b'site',\n 431: b'again',\n 432: b'numbers',\n 433: b'art',\n 434: b'member',\n 435: b'areas',\n 436: b'movement',\n 437: b'religious',\n 438: b'type',\n 439: b'march',\n 440: b'community',\n 441: b'story',\n 442: b'played',\n 443: b'production',\n 444: b'released',\n 445: b'center',\n 446: b'rights',\n 447: b'real',\n 448: b'related',\n 449: b'foreign',\n 450: b'low',\n 451: b'ancient',\n 452: b'terms',\n 453: b'view',\n 454: b'source',\n 455: b'act',\n 456: b'minister',\n 457: b'change',\n 458: b'energy',\n 459: b'produced',\n 460: b'research',\n 461: b'actor',\n 462: b'making',\n 463: b'civil',\n 464: b'december',\n 465: b'women',\n 466: b'special',\n 467: b'style',\n 468: b'william',\n 469: b'design',\n 470: b'japanese',\n 471: b'available',\n 472: b'chinese',\n 473: b'forms',\n 474: b'canada',\n 475: b'northern',\n 476: b'died',\n 477: b'class',\n 478: b'living',\n 479: b'next',\n 480: b'particular',\n 481: b'program',\n 482: b'council',\n 483: b'television',\n 484: b'head',\n 485: b'david',\n 486: b'china',\n 487: b'middle',\n 488: b'established',\n 489: b'hand',\n 490: b'bc',\n 491: b'far',\n 492: b'july',\n 493: b'function',\n 494: b'position',\n 495: b'y',\n 496: b'built',\n 497: b'george',\n 498: b'band',\n 499: b'together',\n 500: b'w',\n 501: b'latin',\n 502: b'thought',\n 503: b'eastern',\n 504: b'charles',\n 505: b'parts',\n 506: b'instead',\n 507: b'study',\n 508: b'might',\n 509: b'india',\n 510: b'code',\n 511: b'included',\n 512: b'meaning',\n 513: b'trade',\n 514: b'per',\n 515: b'june',\n 516: b'least',\n 517: b'half',\n 518: b'model',\n 519: b'economy',\n 520: b'prime',\n 521: b'traditional',\n 522: b'always',\n 523: b'capital',\n 524: b'range',\n 525: b'november',\n 526: b'emperor',\n 527: b'young',\n 528: b'anti',\n 529: b'final',\n 530: b'text',\n 531: b'players',\n 532: b'uk',\n 533: b'april',\n 534: b'run',\n 535: b'september',\n 536: b'addition',\n 537: b'radio',\n 538: b'live',\n 539: b'august',\n 540: b'taken',\n 541: b'note',\n 542: b'italian',\n 543: b'lost',\n 544: b'nature',\n 545: b'project',\n 546: b'technology',\n 547: b'spanish',\n 548: b'october',\n 549: b'recent',\n 550: b'rate',\n 551: b'won',\n 552: b'true',\n 553: b'value',\n 554: b'uses',\n 555: b'russian',\n 556: b'est',\n 557: b'wrote',\n 558: b'effect',\n 559: b'album',\n 560: b'southern',\n 561: b'africa',\n 562: b'whose',\n 563: b'top',\n 564: b'historical',\n 565: b'australia',\n 566: b'catholic',\n 567: b'particularly',\n 568: b'self',\n 569: b'structure',\n 570: b'record',\n 571: b'evidence',\n 572: b'rule',\n 573: b'themselves',\n 574: b'influence',\n 575: b'cases',\n 576: b'subject',\n 577: b'referred',\n 578: b'continued',\n 579: b'nations',\n 580: b'below',\n 581: b'rock',\n 582: b'japan',\n 583: b'com',\n 584: b'song',\n 585: b'throughout',\n 586: b'names',\n 587: b'female',\n 588: b'title',\n 589: b'therefore',\n 590: b'our',\n 591: b'office',\n 592: b'star',\n 593: b'paul',\n 594: b'too',\n 595: b'cities',\n 596: b'february',\n 597: b'independent',\n 598: b'author',\n 599: b'problem',\n 600: b'species',\n 601: b'education',\n 602: b'done',\n 603: b'philosophy',\n 604: b'come',\n 605: b'higher',\n 606: b'originally',\n 607: b'market',\n 608: b'town',\n 609: b'my',\n 610: b'season',\n 611: b'love',\n 612: b'strong',\n 613: b'israel',\n 614: b'irish',\n 615: b'writer',\n 616: b'films',\n 617: b'elements',\n 618: b'robert',\n 619: b'whether',\n 620: b'despite',\n 621: b'eventually',\n 622: b'here',\n 623: b'football',\n 624: b'action',\n 625: b'internet',\n 626: b'individual',\n 627: b'sound',\n 628: b'network',\n 629: b'described',\n 630: b'practice',\n 631: b'characters',\n 632: b're',\n 633: b'royal',\n 634: b'la',\n 635: b'events',\n 636: b'formed',\n 637: b'commonly',\n 638: b'base',\n 639: b'received',\n 640: b'african',\n 641: b'problems',\n 642: b'food',\n 643: b'jews',\n 644: b'able',\n 645: b'male',\n 646: b'typically',\n 647: b'mass',\n 648: b'complex',\n 649: b'lower',\n 650: b'includes',\n 651: b'outside',\n 652: b'legal',\n 653: b'complete',\n 654: b'significant',\n 655: b'parliament',\n 656: b'actually',\n 657: b'business',\n 658: b'fiction',\n 659: b'physical',\n 660: b'followed',\n 661: b'deaths',\n 662: b'key',\n 663: b'leader',\n 664: b'widely',\n 665: b'page',\n 666: b'basic',\n 667: b'types',\n 668: b'henry',\n 669: b'elected',\n 670: b'beginning',\n 671: b'fire',\n 672: b'building',\n 673: b'independence',\n 674: b'went',\n 675: b'movie',\n 676: b'aircraft',\n 677: b'ever',\n 678: b'canadian',\n 679: b'material',\n 680: b'births',\n 681: b'video',\n 682: b'news',\n 683: b'future',\n 684: b'scientific',\n 685: b'simply',\n 686: b'go',\n 687: b'defined',\n 688: b'laws',\n 689: b'get',\n 690: b'close',\n 691: b'industry',\n 692: b'specific',\n 693: b'examples',\n 694: b'believe',\n 695: b'services',\n 696: b'idea',\n 697: b'method',\n 698: b'introduced',\n 699: b'points',\n 700: b'return',\n 701: b'cause',\n 702: b'indian',\n 703: b'britain',\n 704: b'features',\n 705: b'majority',\n 706: b'size',\n 707: b'post',\n 708: b'lead',\n 709: b'organization',\n 710: b'cannot',\n 711: b'designed',\n 712: b'ireland',\n 713: b'cross',\n 714: b'classical',\n 715: b'personal',\n 716: b'writing',\n 717: b'concept',\n 718: b'associated',\n 719: b'required',\n 720: b'soon',\n 721: b'changes',\n 722: b'california',\n 723: b'located',\n 724: b'sense',\n 725: b'believed',\n 726: b'away',\n 727: b'started',\n 728: b'co',\n 729: b'religion',\n 730: b'mother',\n 731: b'county',\n 732: b'rules',\n 733: b'studies',\n 734: b'yet',\n 735: b'find',\n 736: b'knowledge',\n 737: b'put',\n 738: b'founded',\n 739: b'policy',\n 740: b'currently',\n 741: b'provide',\n 742: b'working',\n 743: b'media',\n 744: b'election',\n 745: b'australian',\n 746: b'me',\n 747: b'thomas',\n 748: b'allowed',\n 749: b'russia',\n 750: b'earlier',\n 751: b'greater',\n 752: b'limited',\n 753: b'object',\n 754: b'brought',\n 755: b'online',\n 756: b'association',\n 757: b'lord',\n 758: b'mostly',\n 759: b'blue',\n 760: b'constitution',\n 761: b'across',\n 762: b'added',\n 763: b'interest',\n 764: b'things',\n 765: b'relations',\n 766: b'speed',\n 767: b'federal',\n 768: b'singer',\n 769: b'effects',\n 770: b'growth',\n 771: b'sources',\n 772: b'your',\n 773: b'remains',\n 774: b'z',\n 775: b'probably',\n 776: b'gave',\n 777: b'simple',\n 778: b'attack',\n 779: b'longer',\n 780: b'reference',\n 781: b'saint',\n 782: b'success',\n 783: b'killed',\n 784: b'past',\n 785: b'career',\n 786: b'need',\n 787: b'park',\n 788: b'definition',\n 789: b'say',\n 790: b'etc',\n 791: b'give',\n 792: b'peace',\n 793: b'chief',\n 794: b'stories',\n 795: b'security',\n 796: b'wide',\n 797: b'ball',\n 798: b'saw',\n 799: b'machine',\n 800: b'better',\n 801: b'cell',\n 802: b'leading',\n 803: b'becomes',\n 804: b'spain',\n 805: b'larger',\n 806: b'products',\n 807: b'parties',\n 808: b'night',\n 809: b'remained',\n 810: b'prize',\n 811: b'months',\n 812: b'website',\n 813: b'big',\n 814: b'cultural',\n 815: b'money',\n 816: b'help',\n 817: b'territory',\n 818: b'private',\n 819: b'moved',\n 820: b'letter',\n 821: b'wife',\n 822: b'politics',\n 823: b'lines',\n 824: b'largely',\n 825: b'contains',\n 826: b'companies',\n 827: b'lake',\n 828: b'perhaps',\n 829: b'green',\n 830: b'already',\n 831: b'dead',\n 832: b'iii',\n 833: b'library',\n 834: b'separate',\n 835: b'refer',\n 836: b'makes',\n 837: b'appeared',\n 838: b'dutch',\n 839: b'holy',\n 840: b'era',\n 841: b'novel',\n 842: b'successful',\n 843: b'italy',\n 844: b'letters',\n 845: b'results',\n 846: b'matter',\n 847: b'produce',\n 848: b'origin',\n 849: b'claim',\n 850: b'whole',\n 851: b'directly',\n 852: b'attempt',\n 853: b'actress',\n 854: b'surface',\n 855: b'revolution',\n 856: b'highly',\n 857: b'caused',\n 858: b'status',\n 859: b'musical',\n 860: b'richard',\n 861: b'commercial',\n 862: b'division',\n 863: b'color',\n 864: b'health',\n 865: b'coast',\n 866: b'release',\n 867: b'latter',\n 868: b'authority',\n 869: b'treaty',\n 870: b'turn',\n 871: b'michael',\n 872: b'nation',\n 873: b'direct',\n 874: b'asia',\n 875: b'edition',\n 876: b'programming',\n 877: b'playing',\n 878: b'date',\n 879: b'mary',\n 880: b'native',\n 881: b'whom',\n 882: b'married',\n 883: b'towards',\n 884: b'issues',\n 885: b'double',\n 886: b'primary',\n 887: b'basis',\n 888: b'allow',\n 889: b'enough',\n 890: b'memory',\n 891: b'reason',\n 892: b'web',\n 893: b'exist',\n 894: b'provided',\n 895: b'oil',\n 896: b'course',\n 897: b'functions',\n 898: b'alexander',\n 899: b'analysis',\n 900: b'chemical',\n 901: b'mid',\n 902: b'replaced',\n 903: b'queen',\n 904: b'claims',\n 905: b'tv',\n 906: b'sun',\n 907: b'literature',\n 908: b'metal',\n 909: b'amount',\n 910: b'divided',\n 911: b'blood',\n 912: b'likely',\n 913: b'access',\n 914: b'average',\n 915: b'length',\n 916: b'smaller',\n 917: b'medical',\n 918: b'property',\n 919: b'students',\n 920: b'degree',\n 921: b'elections',\n 922: b'club',\n 923: b'claimed',\n 924: b'performance',\n 925: b'director',\n 926: b'digital',\n 927: b'front',\n 928: b'museum',\n 929: b'difficult',\n 930: b'tradition',\n 931: b'nearly',\n 932: b'schools',\n 933: b'washington',\n 934: b'gas',\n 935: b'jesus',\n 936: b'map',\n 937: b'louis',\n 938: b'rome',\n 939: b'unit',\n 940: b'baseball',\n 941: b'mind',\n 942: b'peter',\n 943: b'mark',\n 944: b'collection',\n 945: b'product',\n 946: b'congress',\n 947: b'programs',\n 948: b'changed',\n 949: b'ideas',\n 950: b'moon',\n 951: b'entire',\n 952: b'user',\n 953: b'ground',\n 954: b'records',\n 955: b'frequently',\n 956: b'increase',\n 957: b'highest',\n 958: b'sent',\n 959: b'finally',\n 960: b'board',\n 961: b'don',\n 962: b'notable',\n 963: b'read',\n 964: b'methods',\n 965: b'recently',\n 966: b'bit',\n 967: b'involved',\n 968: b'variety',\n 969: b'call',\n 970: b'democratic',\n 971: b'ten',\n 972: b'served',\n 973: b'minor',\n 974: b'hard',\n 975: b'birth',\n 976: b'objects',\n 977: b'nuclear',\n 978: b'increased',\n 979: b'section',\n 980: b'street',\n 981: b'windows',\n 982: b'relatively',\n 983: b'car',\n 984: b'move',\n 985: b'create',\n 986: b'returned',\n 987: b'bank',\n 988: b'conditions',\n 989: b'operation',\n 990: b'adopted',\n 991: b'relationship',\n 992: b'christ',\n 993: b'hall',\n 994: b'appear',\n 995: b'rest',\n 996: b'child',\n 997: b'element',\n 998: b'appears',\n 999: b'takes',\n ...}"
      ]
     },
     "execution_count": 12,
     "metadata": {},
     "output_type": "execute_result"
    }
   ],
   "source": [
    "reverse_dictionary = dict(zip(dictionary.values(), dictionary.keys()))\n",
    "print (\"Type of 'reverse_dictionary' is %s / Length is %d \" \n",
    "       % (type(reverse_dictionary), len(reverse_dictionary)))\n",
    "reverse_dictionary"
   ]
  },
  {
   "cell_type": "markdown",
   "metadata": {},
   "source": [
    "## Make data"
   ]
  },
  {
   "cell_type": "code",
   "execution_count": 16,
   "metadata": {
    "collapsed": true
   },
   "outputs": [],
   "source": [
    "data = list()\n",
    "unk_count = 0\n",
    "for word in words:\n",
    "    if word in dictionary:\n",
    "        index = dictionary[word]\n",
    "    else:\n",
    "        index = 0  # dictionary['UNK']\n",
    "        unk_count += 1\n",
    "    data.append(index)\n",
    "count[0][1] = unk_count\n",
    "# del words  # Hint to reduce memory."
   ]
  },
  {
   "cell_type": "markdown",
   "metadata": {},
   "source": [
    "### 'dictionary' converts word to index \n",
    "### 'reverse_dictionary' converts index to word "
   ]
  },
  {
   "cell_type": "code",
   "execution_count": 17,
   "metadata": {
    "collapsed": false
   },
   "outputs": [
    {
     "name": "stdout",
     "output_type": "stream",
     "text": [
      "Most common words (+UNK) are: [['UNK', 418391], (b'the', 1061396), (b'of', 593677), (b'and', 416629), (b'one', 411764)]\n"
     ]
    }
   ],
   "source": [
    "print (\"Most common words (+UNK) are: %s\" % (count[:5]))"
   ]
  },
  {
   "cell_type": "markdown",
   "metadata": {},
   "source": [
    "### Data (in indices)"
   ]
  },
  {
   "cell_type": "code",
   "execution_count": 18,
   "metadata": {
    "collapsed": false
   },
   "outputs": [
    {
     "name": "stdout",
     "output_type": "stream",
     "text": [
      "Sample data: [5234, 3081, 12, 6, 195, 2, 3134, 46, 59, 156]\n"
     ]
    }
   ],
   "source": [
    "print (\"Sample data: %s\" % (data[:10]))"
   ]
  },
  {
   "cell_type": "markdown",
   "metadata": {},
   "source": [
    "### Convert to char (which we can read)"
   ]
  },
  {
   "cell_type": "code",
   "execution_count": 19,
   "metadata": {
    "collapsed": false
   },
   "outputs": [
    {
     "name": "stdout",
     "output_type": "stream",
     "text": [
      "Sample data corresponds to\n__________________\n5234->b'anarchism'\n3081->b'originated'\n12->b'as'\n6->b'a'\n195->b'term'\n2->b'of'\n3134->b'abuse'\n46->b'first'\n59->b'used'\n156->b'against'\n"
     ]
    }
   ],
   "source": [
    "print (\"Sample data corresponds to\\n__________________\")\n",
    "for i in range(10):\n",
    "    print (\"%d->%s\" % (data[i], reverse_dictionary[data[i]]))"
   ]
  },
  {
   "cell_type": "code",
   "execution_count": 20,
   "metadata": {
    "collapsed": false
   },
   "outputs": [],
   "source": [
    ""
   ]
  },
  {
   "cell_type": "markdown",
   "metadata": {},
   "source": [
    "# Batch-generating function for skip-gram model\n",
    "## - Skip-gram (one word to one word) => Can generate more training data\n",
    "\n",
    "<img src=\"images/etc/word2vec_desc.png\">"
   ]
  },
  {
   "cell_type": "code",
   "execution_count": 17,
   "metadata": {
    "collapsed": true
   },
   "outputs": [],
   "source": [
    "data_index = 0\n",
    "def generate_batch(batch_size, num_skips, skip_window):\n",
    "    global data_index\n",
    "    assert batch_size % num_skips == 0\n",
    "    assert num_skips <= 2 * skip_window\n",
    "    batch  = np.ndarray(shape=(batch_size),    dtype=np.int32)\n",
    "    labels = np.ndarray(shape=(batch_size, 1), dtype=np.int32)\n",
    "    span = 2 * skip_window + 1 # [ skip_window target skip_window ]\n",
    "    buffer = collections.deque(maxlen=span)\n",
    "    for _ in range(span):\n",
    "        buffer.append(data[data_index])\n",
    "        data_index = (data_index + 1) % len(data)\n",
    "    for i in range(batch_size // num_skips): # '//' makes the result an integer, e.g., 7//3 = 2\n",
    "        target = skip_window\n",
    "        targets_to_avoid = [ skip_window ]\n",
    "        for j in range(num_skips):\n",
    "            while target in targets_to_avoid:\n",
    "                target = random.randint(0, span - 1)\n",
    "            targets_to_avoid.append(target)\n",
    "            batch[i * num_skips + j] = buffer[skip_window]\n",
    "            labels[i * num_skips + j, 0] = buffer[target]\n",
    "        buffer.append(data[data_index])\n",
    "        data_index = (data_index + 1) % len(data)\n",
    "    return batch, labels"
   ]
  },
  {
   "cell_type": "markdown",
   "metadata": {},
   "source": [
    "### Examples for generating batch and labels "
   ]
  },
  {
   "cell_type": "code",
   "execution_count": 18,
   "metadata": {
    "collapsed": false,
    "scrolled": true
   },
   "outputs": [
    {
     "name": "stdout",
     "output_type": "stream",
     "text": [
      "Type of 'batch' is <class 'numpy.ndarray'> / Length is 8 \nType of 'labels' is <class 'numpy.ndarray'> / Length is 8 \n"
     ]
    }
   ],
   "source": [
    "data_index = 0\n",
    "batch, labels = generate_batch(batch_size=8, num_skips=2, skip_window=1)\n",
    "print (\"Type of 'batch' is %s / Length is %d \" \n",
    "       % (type(batch), len(batch))) \n",
    "print (\"Type of 'labels' is %s / Length is %d \" \n",
    "       % (type(labels), len(labels)))"
   ]
  },
  {
   "cell_type": "code",
   "execution_count": 19,
   "metadata": {
    "collapsed": false
   },
   "outputs": [
    {
     "name": "stdout",
     "output_type": "stream",
     "text": [
      "'batch' looks like \n [3081 3081   12   12    6    6  195  195]\n"
     ]
    }
   ],
   "source": [
    "print (\"'batch' looks like \\n %s\" % (batch))"
   ]
  },
  {
   "cell_type": "code",
   "execution_count": 20,
   "metadata": {
    "collapsed": false
   },
   "outputs": [
    {
     "name": "stdout",
     "output_type": "stream",
     "text": [
      "'labels' looks like \n [[5234]\n [  12]\n [   6]\n [3081]\n [  12]\n [ 195]\n [   2]\n [   6]]\n"
     ]
    }
   ],
   "source": [
    "print (\"'labels' looks like \\n %s\" % (labels))"
   ]
  },
  {
   "cell_type": "code",
   "execution_count": 21,
   "metadata": {
    "collapsed": false
   },
   "outputs": [
    {
     "name": "stdout",
     "output_type": "stream",
     "text": [
      "3081 -> 5234\n\tb'originated' -> b'anarchism'\n3081 -> 12\n\tb'originated' -> b'as'\n12 -> 6\n\tb'as' -> b'a'\n12 -> 3081\n\tb'as' -> b'originated'\n6 -> 12\n\tb'a' -> b'as'\n6 -> 195\n\tb'a' -> b'term'\n195 -> 2\n\tb'term' -> b'of'\n195 -> 6\n\tb'term' -> b'a'\n"
     ]
    }
   ],
   "source": [
    "for i in range(8):\n",
    "    print (\"%d -> %d\" \n",
    "           % (batch[i], labels[i, 0])),\n",
    "    print (\"\\t%s -> %s\" \n",
    "           % (reverse_dictionary[batch[i]]\n",
    "              , reverse_dictionary[labels[i, 0]]))"
   ]
  },
  {
   "cell_type": "markdown",
   "metadata": {},
   "source": [
    "# 3. Build a Skip-Gram Model"
   ]
  },
  {
   "cell_type": "code",
   "execution_count": 22,
   "metadata": {
    "collapsed": false
   },
   "outputs": [
    {
     "name": "stdout",
     "output_type": "stream",
     "text": [
      "Parameters ready\n"
     ]
    }
   ],
   "source": [
    "batch_size     = 128\n",
    "embedding_size = 128       # Dimension of the embedding vector.\n",
    "skip_window    = 1         # How many words to consider left and right.\n",
    "num_skips      = 2         # How many times to reuse an input \n",
    "print (\"Parameters ready\")"
   ]
  },
  {
   "cell_type": "code",
   "execution_count": 23,
   "metadata": {
    "collapsed": false
   },
   "outputs": [
    {
     "name": "stdout",
     "output_type": "stream",
     "text": [
      "[  6 181  77 104  40   5 166  56 155 138  39 127 195 192 143  86 123  80\n  97  38  33 102   8   1 142  61 199 121 133  99 145 129]\n"
     ]
    }
   ],
   "source": [
    "# Random validation set to sample nearest neighbors.\n",
    "valid_size     = 32        # Random set of words to evaluate similarity \n",
    "valid_window   = 200       # Only pick validation samples in the top 200\n",
    "valid_examples = np.random.choice(valid_window, valid_size, replace=False)\n",
    "\n",
    "print (valid_examples)"
   ]
  },
  {
   "cell_type": "markdown",
   "metadata": {},
   "source": [
    "# Define network"
   ]
  },
  {
   "cell_type": "code",
   "execution_count": 25,
   "metadata": {
    "collapsed": false
   },
   "outputs": [
    {
     "name": "stdout",
     "output_type": "stream",
     "text": [
      "Network ready\n"
     ]
    }
   ],
   "source": [
    "# Construct the word2vec model \n",
    "train_inputs   = tf.placeholder(tf.int32, shape=[batch_size])   \n",
    "train_labels   = tf.placeholder(tf.int32, shape=[batch_size, 1])\n",
    "valid_dataset  = tf.constant(valid_examples, dtype=tf.int32)\n",
    "\n",
    "# Look up embeddings for inputs. (vocabulary_size = 50,000)\n",
    "with tf.variable_scope(\"EMBEDDING\"):\n",
    "    with tf.device('/cpu:0'):\n",
    "        embeddings = tf.Variable(\n",
    "            tf.random_uniform([vocabulary_size, embedding_size]\n",
    "                              , -1.0, 1.0))\n",
    "        embed = tf.nn.embedding_lookup(embeddings, train_inputs)\n",
    "    \n",
    "# Construct the variables for the NCE loss\n",
    "with tf.variable_scope(\"NCE_WEIGHT\"):\n",
    "    nce_weights = tf.Variable(\n",
    "        tf.truncated_normal([vocabulary_size, embedding_size],\n",
    "                            stddev=1.0 / math.sqrt(embedding_size)))\n",
    "    nce_biases = tf.Variable(tf.zeros([vocabulary_size]))\n",
    "print (\"Network ready\")"
   ]
  },
  {
   "cell_type": "markdown",
   "metadata": {},
   "source": [
    "# Define functions"
   ]
  },
  {
   "cell_type": "code",
   "execution_count": 27,
   "metadata": {
    "collapsed": false
   },
   "outputs": [
    {
     "name": "stdout",
     "output_type": "stream",
     "text": [
      "WARNING:tensorflow:From <ipython-input-27-26f6bd7dd78f>:10: calling reduce_sum (from tensorflow.python.ops.math_ops) with keep_dims is deprecated and will be removed in a future version.\nInstructions for updating:\nkeep_dims is deprecated, use keepdims instead\n"
     ]
    },
    {
     "name": "stdout",
     "output_type": "stream",
     "text": [
      "Functions Ready\n"
     ]
    }
   ],
   "source": [
    "with tf.device('/cpu:0'):\n",
    "    # Loss function \n",
    "    num_sampled = 64        # Number of negative examples to sample. \n",
    "    loss = tf.reduce_mean(\n",
    "        tf.nn.nce_loss(nce_weights, nce_biases\n",
    "                       , train_labels, embed, num_sampled, vocabulary_size))\n",
    "    # Optimizer\n",
    "    optm = tf.train.GradientDescentOptimizer(1.0).minimize(loss)\n",
    "    # Similarity measure (important)\n",
    "    norm = tf.sqrt(tf.reduce_sum(tf.square(embeddings), 1, keep_dims=True))\n",
    "    normalized_embeddings = embeddings / norm\n",
    "    valid_embeddings = tf.nn.embedding_lookup(normalized_embeddings\n",
    "                    , valid_dataset)\n",
    "    siml = tf.matmul(valid_embeddings, normalized_embeddings\n",
    "                    , transpose_b=True)\n",
    "    \n",
    "print (\"Functions Ready\")"
   ]
  },
  {
   "cell_type": "markdown",
   "metadata": {},
   "source": [
    "# 4. Train a Skip-Gram Model"
   ]
  },
  {
   "cell_type": "code",
   "execution_count": 29,
   "metadata": {
    "collapsed": false,
    "scrolled": false
   },
   "outputs": [
    {
     "name": "stdout",
     "output_type": "stream",
     "text": [
      "Average loss at step 0 is 0.148\nNearest to 'b'a'': 'b'believer'', 'b'smoke'', 'b'widely'', 'b'amour'', 'b'quinn'', 'b'tens'',\nNearest to 'b'series'': 'b'firebird'', 'b'tremendously'', 'b'honeybees'', 'b'footsteps'', 'b'elicit'', 'b'renderer'',\nNearest to 'b'however'': 'b'longwave'', 'b'tansley'', 'b'pestilence'', 'b'provably'', 'b'risk'', 'b'jag'',\nNearest to 'b'then'': 'b'brutal'', 'b'fertilize'', 'b'steam'', 'b'quenched'', 'b'unrestricted'', 'b'peh'',\nNearest to 'b'were'': 'b'edinburgh'', 'b'replicators'', 'b'xlii'', 'b'template'', 'b'dividends'', 'b'truthfulness'',\nNearest to 'b'in'': 'b'kabbalistic'', 'b'cpl'', 'b'eprint'', 'b'monastic'', 'b'persuasion'', 'b'skits'',\nNearest to 'b'music'': 'b'tabular'', 'b'backward'', 'b'striping'', 'b'cambodians'', 'b'caeiro'', 'b'distrusted'',\nNearest to 'b'many'': 'b'administrators'', 'b'materialism'', 'b'logone'', 'b'rodgers'', 'b'helena'', 'b'hoare'',\nNearest to 'b't'': 'b'frantz'', 'b'attributing'', 'b'authorities'', 'b'resemblances'', 'b'warring'', 'b'buyout'',\nNearest to 'b'each'': 'b'delay'', 'b'yassin'', 'b'county'', 'b'volunteering'', 'b'dyslexia'', 'b'coca'',\nNearest to 'b'have'': 'b'integrate'', 'b'wreckin'', 'b'ecological'', 'b'bets'', 'b'implications'', 'b'remarking'',\nNearest to 'b'university'': 'b'couplet'', 'b'raped'', 'b'jarrett'', 'b'masoretes'', 'b'mitch'', 'b'agile'',\nNearest to 'b'term'': 'b'shaky'', 'b'hattie'', 'b'grimaldi'', 'b'mummified'', 'b'pompeius'', 'b'uighur'',\nNearest to 'b'until'': 'b'ralston'', 'b'xv'', 'b'minoan'', 'b'bower'', 'b'davis'', 'b'junichiro'',\nNearest to 'b'several'': 'b'workday'', 'b'misnomer'', 'b'breath'', 'b'satisfied'', 'b'trafalgar'', 'b'disarmed'',\nNearest to 'b'united'': 'b'screaming'', 'b'prohibition'', 'b'occasioned'', 'b'shoes'', 'b'bnetd'', 'b'kanembu'',\nNearest to 'b'century'': 'b'valera'', 'b'innate'', 'b'ferns'', 'b'lui'', 'b'americium'', 'b'asymptomatic'',\nNearest to 'b'over'': 'b'outmoded'', 'b'clothed'', 'b'ddt'', 'b'cunning'', 'b'construed'', 'b'bourne'',\nNearest to 'b'will'': 'b'strangely'', 'b'mazarin'', 'b'braintree'', 'b'dart'', 'b'belarusian'', 'b'lowe'',\nNearest to 'b'not'': 'b'abv'', 'b'tally'', 'b'amount'', 'b'fontane'', 'b'prog'', 'b'linear'',\nNearest to 'b'this'': 'b'hangman'', 'b'biruni'', 'b'ramesses'', 'b'martyr'', 'b'chlorides'', 'b'acquiring'',\nNearest to 'b'being'': 'b'stepping'', 'b'walters'', 'b'masterminded'', 'b'showed'', 'b'unworkable'', 'b'teaching'',"
     ]
    },
    {
     "name": "stdout",
     "output_type": "stream",
     "text": [
      "\nNearest to 'b'zero'': 'b'payable'', 'b'spit'', 'b'rubies'', 'b'justifiably'', 'b'mnp'', 'b'riots'',\nNearest to 'b'the'': 'b'oscar'', 'b'novi'', 'b'shades'', 'b'hershey'', 'b'ecu'', 'b'stationary'',\nNearest to 'b'although'': 'b'whiteness'', 'b'determinants'', 'b'ellipse'', 'b'unwind'', 'b'posthuman'', 'b'skiing'',\nNearest to 'b'after'': 'b'slick'', 'b'mayotte'', 'b'replace'', 'b'platoon'', 'b'festival'', 'b'shroud'',\nNearest to 'b'found'': 'b'biochemist'', 'b'sentenced'', 'b'roosevelt'', 'b'alde'', 'b'punjab'', 'b'geometrically'',\nNearest to 'b'name'': 'b'hoppers'', 'b'zapata'', 'b'ericales'', 'b'beti'', 'b'sublimation'', 'b'morally'',\nNearest to 'b'same'': 'b'loos'', 'b'liam'', 'b'opus'', 'b'instrument'', 'b'steamship'', 'b'commit'',\nNearest to 'b'while'': 'b'inaction'', 'b'majdanek'', 'b'lured'', 'b'alto'', 'b'started'', 'b'contend'',\nNearest to 'b'john'': 'b'bomb'', 'b'paxton'', 'b'stays'', 'b'ias'', 'b'arcseconds'', 'b'andros'',\nNearest to 'b'life'': 'b'shaughnessy'', 'b'lydia'', 'b'confiscation'', 'b'lackey'', 'b'unsophisticated'', 'b'darth'',\n"
     ]
    },
    {
     "name": "stdout",
     "output_type": "stream",
     "text": [
      "Average loss at step 2000 is 113.454\n"
     ]
    },
    {
     "name": "stdout",
     "output_type": "stream",
     "text": [
      "Average loss at step 4000 is 53.073\n"
     ]
    },
    {
     "name": "stdout",
     "output_type": "stream",
     "text": [
      "Average loss at step 6000 is 33.435\n"
     ]
    },
    {
     "name": "stdout",
     "output_type": "stream",
     "text": [
      "Average loss at step 8000 is 23.608\n"
     ]
    },
    {
     "name": "stdout",
     "output_type": "stream",
     "text": [
      "Average loss at step 10000 is 18.132\nNearest to 'b'a'': 'b'the'', 'b'austin'', 'b'reginae'', 'b'zulu'', 'b'phi'', 'b'it'',\nNearest to 'b'series'': 'b'matter'', 'b'footsteps'', 'b'home'', 'b'movies'', 'b'gland'', 'b'filippo'',\nNearest to 'b'however'': 'b'risk'', 'b'pestilence'', 'b'pka'', 'b'imaginary'', 'b'reginae'', 'b'analogy'',\nNearest to 'b'then'': 'b'steam'', 'b'brutal'', 'b'reginae'', 'b'guide'', 'b'androids'', 'b'thai'',\nNearest to 'b'were'': 'b'vs'', 'b'and'', 'b'canaris'', 'b'pneumonia'', 'b'happening'', 'b'work'',\nNearest to 'b'in'': 'b'of'', 'b'and'', 'b'basins'', 'b'by'', 'b'vs'', 'b'with'',\nNearest to 'b'music'': 'b'backward'', 'b'wilmot'', 'b'title'', 'b'christians'', 'b'nih'', 'b'computer'',\nNearest to 'b'many'': 'b'hoare'', 'b'administrators'', 'b'alchemists'', 'b'despite'', 'b'nfl'', 'b'materialism'',\nNearest to 'b't'': 'b'widely'', 'b'for'', 'b'authorities'', 'b'altenberg'', 'b'suffix'', 'b'mond'',\nNearest to 'b'each'': 'b'analogue'', 'b'farm'', 'b'vs'', 'b'box'', 'b'anarchist'', 'b'their'',\nNearest to 'b'have'': 'b'be'', 'b'is'', 'b'absorbed'', 'b'austin'', 'b'module'', 'b'jump'',\nNearest to 'b'university'': 'b'wins'', 'b'raped'', 'b'austria'', 'b'rd'', 'b'sh'', 'b'topological'',\nNearest to 'b'term'': 'b'jpg'', 'b'grimaldi'', 'b'ethnic'', 'b'organic'', 'b'career'', 'b'stresses'',\nNearest to 'b'until'': 'b'davis'', 'b'hogeschool'', 'b'korea'', 'b'taste'', 'b'tubing'', 'b'var'',\nNearest to 'b'several'': 'b'breath'', 'b'approved'', 'b'zero'', 'b'closure'', 'b'austin'', 'b'satisfied'',\nNearest to 'b'united'': 'b'austin'', 'b'prohibition'', 'b'given'', 'b'alien'', 'b'shoes'', 'b'wallpaper'',\nNearest to 'b'century'': 'b'americium'', 'b'sigma'', 'b'hitler'', 'b'invading'', 'b'gland'', 'b'six'',\nNearest to 'b'over'': 'b'charcot'', 'b'activated'', 'b'forests'', 'b'two'', 'b'axis'', 'b'diomedes'',\nNearest to 'b'will'': 'b'strangely'', 'b'gland'', 'b'dart'', 'b'ginsberg'', 'b'psychoanalysis'', 'b'contacted'',\nNearest to 'b'not'': 'b'it'', 'b'pleasant'', 'b'skater'', 'b'also'', 'b'there'', 'b'anxiety'',\nNearest to 'b'this'': 'b'the'', 'b'malaysia'', 'b'chlorides'', 'b'a'', 'b'respected'', 'b'interview'',\nNearest to 'b'being'': 'b'mathbf'', 'b'chemical'', 'b'showed'', 'b'powerbook'', 'b'any'', 'b'france'',\nNearest to 'b'zero'': 'b'nine'', 'b'austin'', 'b'amo'', 'b'vs'', 'b'six'', 'b'reginae'',\nNearest to 'b'the'': 'b'a'', 'b'reginae'', 'b'his'', 'UNK', 'b'and'', 'b'this'',\nNearest to 'b'although'': 'b'system'', 'b'lt'', 'b'serve'', 'b'mya'', 'b'reviews'', 'b'tales'',\nNearest to 'b'after'': 'b'replace'', 'b'phi'', 'b'festival'', 'b'unnatural'', 'b'special'', 'b'austin'',\nNearest to 'b'found'': 'b'biochemist'', 'b'austin'', 'b'roosevelt'', 'b'founder'', 'b'sentenced'', 'b'bang'',\nNearest to 'b'name'': 'b'evil'', 'b'product'', 'b'saints'', 'b'appearance'', 'b'ari'', 'b'slaves'',\nNearest to 'b'same'': 'b'find'', 'b'opus'', 'b'instrument'', 'b'vs'', 'b'commit'', 'b'through'',\nNearest to 'b'while'': 'b'started'', 'b'nine'', 'b'familial'', 'b'ambrose'', 'b'dose'', 'b'alto'',\nNearest to 'b'john'': 'b'bomb'', 'b'fifteen'', 'b'gland'', 'b'drawn'', 'b'amo'', 'b'breast'',\nNearest to 'b'life'': 'b'vs'', 'b'amo'', 'b'austin'', 'b'sculpture'', 'b'selznick'', 'b'psi'',\n"
     ]
    },
    {
     "name": "stdout",
     "output_type": "stream",
     "text": [
      "Average loss at step 12000 is 13.910\n"
     ]
    },
    {
     "name": "stdout",
     "output_type": "stream",
     "text": [
      "Average loss at step 14000 is 11.736\n"
     ]
    },
    {
     "name": "stdout",
     "output_type": "stream",
     "text": [
      "Average loss at step 16000 is 9.781\n"
     ]
    },
    {
     "name": "stdout",
     "output_type": "stream",
     "text": [
      "Average loss at step 18000 is 8.591\n"
     ]
    },
    {
     "name": "stdout",
     "output_type": "stream",
     "text": [
      "Average loss at step 20000 is 7.749\nNearest to 'b'a'': 'b'the'', 'b'and'', 'b'this'', 'b'albuquerque'', 'b'msg'', 'b'it'',\nNearest to 'b'series'': 'b'matter'', 'b'footsteps'', 'b'movies'', 'b'home'', 'b'fictitious'', 'b'cinque'',\nNearest to 'b'however'': 'b'pestilence'', 'b'imaginary'', 'b'risk'', 'b'numa'', 'b'agouti'', 'b'reginae'',\nNearest to 'b'then'': 'b'agouti'', 'b'steam'', 'b'androids'', 'b'reginae'', 'b'guide'', 'b'provide'',\nNearest to 'b'were'': 'b'are'', 'b'was'', 'b'is'', 'b'vs'', 'b'canaris'', 'b'and'',\nNearest to 'b'in'': 'b'and'', 'b'at'', 'b'from'', 'b'on'', 'b'of'', 'b'with'',\nNearest to 'b'music'': 'b'backward'', 'b'solon'', 'b'wilmot'', 'b'alt'', 'b'christians'', 'b'distrusted'',\nNearest to 'b'many'': 'b'some'', 'b'administrators'', 'b'hoare'', 'b'despite'', 'b'alchemists'', 'b'dasyprocta'',\nNearest to 'b't'': 'b'widely'', 'b'suffix'', 'b'reasonably'', 'b'authorities'', 'b'altenberg'', 'b'proclaimed'',\nNearest to 'b'each'': 'b'their'', 'b'analogue'', 'b'farm'', 'b'box'', 'b'therapists'', 'b'hbox'',\nNearest to 'b'have'': 'b'be'', 'b'had'', 'b'has'', 'b'absorbed'', 'b'princes'', 'b'agouti'',\nNearest to 'b'university'': 'b'raped'', 'b'wins'', 'b'austria'', 'b'topological'', 'b'alphorn'', 'b'rd'',\nNearest to 'b'term'': 'b'grimaldi'', 'b'jpg'', 'b'stresses'', 'b'agouti'', 'b'career'', 'b'ethnic'',\nNearest to 'b'until'': 'b'xv'', 'b'dmt'', 'b'compiler'', 'b'before'', 'b'from'', 'b'minoan'',\nNearest to 'b'several'': 'b'breath'', 'b'approved'', 'b'closure'', 'b'misnomer'', 'b'manifest'', 'b'satisfied'',\nNearest to 'b'united'': 'b'dasyprocta'', 'b'prohibition'', 'b'austin'', 'b'from'', 'b'wallpaper'', 'b'bowhunting'',\nNearest to 'b'century'': 'b'americium'', 'b'sigma'', 'b'cit'', 'b'invading'', 'b'agouti'', 'b'alphorn'',\nNearest to 'b'over'': 'b'activated'', 'b'charcot'', 'b'forests'', 'b'two'', 'b'warriors'', 'b'afonso'',\nNearest to 'b'will'': 'b'strangely'', 'b'would'', 'b'cinque'', 'b'numa'', 'b'psychoanalysis'', 'b'debts'',\nNearest to 'b'not'': 'b'it'', 'b'also'', 'b'there'', 'b'pleasant'', 'b'abv'', 'b'skater'',\nNearest to 'b'this'': 'b'the'', 'b'it'', 'b'a'', 'b'malaysia'', 'b'that'', 'b'which'',\nNearest to 'b'being'': 'b'any'', 'b'foo'', 'b'showed'', 'b'entropy'', 'b'unworkable'', 'b'powerbook'',\nNearest to 'b'zero'': 'b'nine'', 'b'eight'', 'b'six'', 'b'seven'', 'b'five'', 'b'four'',\nNearest to 'b'the'': 'b'a'', 'b'his'', 'b'its'', 'b'this'', 'b'one'', 'b'reginae'',\nNearest to 'b'although'': 'b'tales'', 'b'dasyprocta'', 'b'agouti'', 'b'lt'', 'b'ellipse'', 'b'chasing'',\nNearest to 'b'after'': 'b'replace'', 'b'unnatural'', 'b'in'', 'b'if'', 'b'aquila'', 'b'phi'',\nNearest to 'b'found'': 'b'biochemist'', 'b'sentenced'', 'b'founder'', 'b'austin'', 'b'roosevelt'', 'b'bang'',\nNearest to 'b'name'': 'b'agouti'', 'b'appearance'', 'b'ari'', 'b'evil'', 'b'product'', 'b'homozygous'',\nNearest to 'b'same'': 'b'opus'', 'b'find'', 'b'through'', 'b'agouti'', 'b'circ'', 'b'instrument'',\nNearest to 'b'while'': 'b'started'', 'b'and'', 'b'ambrose'', 'b'bolt'', 'b'alto'', 'b'familial'',\nNearest to 'b'john'': 'b'bomb'', 'b'henri'', 'b'paxton'', 'b'fifteen'', 'b'autonomy'', 'b'and'',\nNearest to 'b'life'': 'b'lydia'', 'b'msg'', 'b'vs'', 'b'amo'', 'b'sculpture'', 'b'josef'',\n"
     ]
    },
    {
     "name": "stdout",
     "output_type": "stream",
     "text": [
      "Average loss at step 22000 is 7.153\n"
     ]
    },
    {
     "name": "stdout",
     "output_type": "stream",
     "text": [
      "Average loss at step 24000 is 7.035\n"
     ]
    },
    {
     "name": "stdout",
     "output_type": "stream",
     "text": [
      "Average loss at step 26000 is 6.719\n"
     ]
    },
    {
     "name": "stdout",
     "output_type": "stream",
     "text": [
      "Average loss at step 28000 is 6.243\n"
     ]
    },
    {
     "name": "stdout",
     "output_type": "stream",
     "text": [
      "Average loss at step 30000 is 6.144\nNearest to 'b'a'': 'b'the'', 'b'akita'', 'b'albuquerque'', 'b'trinomial'', 'b'this'', 'b'austin'',\nNearest to 'b'series'': 'b'cpc'', 'b'footsteps'', 'b'matter'', 'b'fictitious'', 'b'movies'', 'b'umayyad'',\nNearest to 'b'however'': 'b'jag'', 'b'pestilence'', 'b'imaginary'', 'b'and'', 'b'agouti'', 'b'analogy'',\nNearest to 'b'then'': 'b'agouti'', 'b'androids'', 'b'reginae'', 'b'unofficially'', 'b'guide'', 'b'that'',\nNearest to 'b'were'': 'b'are'', 'b'was'', 'b'is'', 'b'have'', 'b'canaris'', 'b'vs'',\nNearest to 'b'in'': 'b'at'', 'b'on'', 'b'and'', 'b'of'', 'b'from'', 'b'nine'',\nNearest to 'b'music'': 'b'backward'', 'b'trinomial'', 'b'solon'', 'b'compressibility'', 'b'wilmot'', 'b'thermometer'',\nNearest to 'b'many'': 'b'some'', 'b'the'', 'b'administrators'', 'b'despite'', 'b'hoare'', 'b'alchemists'',\nNearest to 'b't'': 'b'dewey'', 'b'amalthea'', 'b'widely'', 'b'authorities'', 'b'suffix'', 'b'altenberg'',\nNearest to 'b'each'': 'b'their'', 'b'agra'', 'b'primigenius'', 'b'analogue'', 'b'farm'', 'b'therapists'',\nNearest to 'b'have'': 'b'be'', 'b'had'', 'b'has'', 'b'are'', 'b'absorbed'', 'b'were'',\nNearest to 'b'university'': 'b'couplet'', 'b'raped'', 'b'austria'', 'b'wins'', 'b'topological'', 'b'nottingham'',\nNearest to 'b'term'': 'b'grimaldi'', 'b'stresses'', 'b'abet'', 'b'career'', 'b'organic'', 'b'name'',\nNearest to 'b'until'': 'b'xv'', 'b'from'', 'b'before'', 'b'in'', 'b'minoan'', 'b'at'',\nNearest to 'b'several'': 'b'breath'', 'b'approved'', 'b'closure'', 'b'commitments'', 'b'the'', 'b'misnomer'',\nNearest to 'b'united'': 'b'from'', 'b'prohibition'', 'b'dasyprocta'', 'b'trinomial'', 'b'bowhunting'', 'b'wallpaper'',\nNearest to 'b'century'': 'b'invading'', 'b'six'', 'b'cit'', 'b'innate'', 'b'refectory'', 'b'eg'',\nNearest to 'b'over'': 'b'activated'', 'b'charcot'', 'b'cunning'', 'b'clothed'', 'b'ivy'', 'b'for'',\nNearest to 'b'will'': 'b'would'', 'b'can'', 'b'strangely'', 'b'quakers'', 'b'numa'', 'b'debts'',\nNearest to 'b'not'': 'b'it'', 'b'also'', 'b'there'', 'b'they'', 'b'to'', 'b'skater'',\nNearest to 'b'this'': 'b'it'', 'b'the'', 'b'a'', 'b'which'', 'b'that'', 'b'akita'',\nNearest to 'b'being'': 'b'akh'', 'b'any'', 'b'lumi'', 'b'foo'', 'b'entropy'', 'b'unworkable'',\nNearest to 'b'zero'': 'b'eight'', 'b'six'', 'b'five'', 'b'nine'', 'b'seven'', 'b'four'',\nNearest to 'b'the'': 'b'a'', 'b'his'', 'b'their'', 'b'its'', 'b'this'', 'b'some'',\nNearest to 'b'although'': 'b'while'', 'b'dasyprocta'', 'b'is'', 'b'gaming'', 'b'abitibi'', 'b'does'',\nNearest to 'b'after'': 'b'in'', 'b'replace'', 'b'at'', 'b'if'', 'b'sdk'', 'b'unnatural'',\nNearest to 'b'found'': 'b'biochemist'', 'b'trinomial'', 'b'sentenced'', 'b'trek'', 'b'austin'', 'b'bang'',\nNearest to 'b'name'': 'b'agouti'', 'b'appearance'', 'b'pixel'', 'b'ari'', 'b'product'', 'b'evil'',\nNearest to 'b'same'': 'b'opus'', 'b'through'', 'b'find'', 'b'akita'', 'b'to'', 'b'loos'',\nNearest to 'b'while'': 'b'and'', 'b'started'', 'b'ambrose'', 'b'is'', 'b'alto'', 'b'bolt'',\nNearest to 'b'john'': 'b'bomb'', 'b'paxton'', 'b'henri'', 'b'fifteen'', 'b'strata'', 'b'autonomy'',\nNearest to 'b'life'': 'b'bos'', 'b'abakan'', 'b'lydia'', 'b'msg'', 'b'amo'', 'b'heywood'',\n"
     ]
    },
    {
     "name": "stdout",
     "output_type": "stream",
     "text": [
      "Average loss at step 32000 is 5.883\n"
     ]
    },
    {
     "name": "stdout",
     "output_type": "stream",
     "text": [
      "Average loss at step 34000 is 5.886\n"
     ]
    },
    {
     "name": "stdout",
     "output_type": "stream",
     "text": [
      "Average loss at step 36000 is 5.681\n"
     ]
    },
    {
     "name": "stdout",
     "output_type": "stream",
     "text": [
      "Average loss at step 38000 is 5.240\n"
     ]
    },
    {
     "name": "stdout",
     "output_type": "stream",
     "text": [
      "Average loss at step 40000 is 5.460\nNearest to 'b'a'': 'b'the'', 'b'akita'', 'b'johansen'', 'b'austin'', 'b'zulu'', 'b'trinomial'',\nNearest to 'b'series'': 'b'cpc'', 'b'footsteps'', 'b'fictitious'', 'b'umayyad'', 'b'matter'', 'b'rick'',\nNearest to 'b'however'': 'b'and'', 'b'imaginary'', 'b'pestilence'', 'b'jag'', 'b'adamantium'', 'b'agouti'',\nNearest to 'b'then'': 'b'agouti'', 'b'that'', 'b'reginae'', 'b'unofficially'', 'b'androids'', 'b'akita'',\nNearest to 'b'were'': 'b'are'', 'b'was'', 'b'is'', 'b'have'', 'b'be'', 'b'had'',\nNearest to 'b'in'': 'b'at'', 'b'and'', 'b'on'', 'b'from'', 'b'with'', 'b'crandall'',\nNearest to 'b'music'': 'b'backward'', 'b'trinomial'', 'b'compressibility'', 'b'solon'', 'b'thermometer'', 'b'recitative'',\nNearest to 'b'many'': 'b'some'', 'b'recitative'', 'b'these'', 'b'administrators'', 'b'despite'', 'b'hoare'',\nNearest to 'b't'': 'b'dewey'', 'b'warring'', 'b'reasonably'', 'b'widely'', 'b'amalthea'', 'b'suffix'',\nNearest to 'b'each'': 'b'their'', 'b'the'', 'b'armageddon'', 'b'agra'', 'b'farm'', 'b'therapists'',\nNearest to 'b'have'': 'b'had'', 'b'be'', 'b'has'', 'b'were'', 'b'are'', 'b'absorbed'',\nNearest to 'b'university'': 'b'couplet'', 'b'raped'', 'b'austria'', 'b'wins'', 'b'topological'', 'b'aveiro'',\nNearest to 'b'term'': 'b'grimaldi'', 'b'stresses'', 'b'name'', 'b'abet'', 'b'hattie'', 'b'agouti'',\nNearest to 'b'until'': 'b'xv'', 'b'before'', 'b'from'', 'b'at'', 'b'compiler'', 'b'two'',\nNearest to 'b'several'': 'b'breath'', 'b'many'', 'b'approved'', 'b'commitments'', 'b'closure'', 'b'stitch'',\nNearest to 'b'united'': 'b'from'', 'b'prohibition'', 'b'dasyprocta'', 'b'bowhunting'', 'b'trinomial'', 'b'austin'',\nNearest to 'b'century'': 'b'keg'', 'b'innate'', 'b'invading'', 'b'cit'', 'b'eg'', 'b'refectory'',\nNearest to 'b'over'': 'b'activated'', 'b'charcot'', 'b'cunning'', 'b'microseconds'', 'b'four'', 'b'ivy'',\nNearest to 'b'will'': 'b'would'', 'b'can'', 'b'strangely'', 'b'belarusian'', 'b'quakers'', 'b'could'',\nNearest to 'b'not'': 'b'it'', 'b'also'', 'b'there'', 'b'they'', 'b'to'', 'b'abv'',\nNearest to 'b'this'': 'b'it'', 'b'the'', 'b'which'', 'b'that'', 'b'akita'', 'b'a'',\nNearest to 'b'being'': 'b'akh'', 'b'any'', 'b'lumi'', 'b'entropy'', 'b'dead'', 'b'sedgwick'',\nNearest to 'b'zero'': 'b'five'', 'b'seven'', 'b'six'', 'b'eight'', 'b'nine'', 'b'four'',\nNearest to 'b'the'': 'b'a'', 'b'their'', 'b'its'', 'b'this'', 'b'his'', 'b'reginae'',\nNearest to 'b'although'': 'b'while'', 'b'was'', 'b'abitibi'', 'b'does'', 'b'dasyprocta'', 'b'gaming'',\nNearest to 'b'after'': 'b'four'', 'b'at'', 'b'six'', 'b'and'', 'b'if'', 'b'replace'',\nNearest to 'b'found'': 'b'biochemist'', 'b'trinomial'', 'b'sentenced'', 'b'trek'', 'b'austin'', 'b'cistercian'',\nNearest to 'b'name'': 'b'agouti'', 'b'appearance'', 'b'product'', 'b'pixel'', 'b'term'', 'b'ari'',\nNearest to 'b'same'': 'b'opus'', 'b'through'', 'b'find'', 'b'akita'', 'b'to'', 'b'last'',\nNearest to 'b'while'': 'b'and'', 'b'although'', 'b'is'', 'b'started'', 'b'in'', 'b'bolt'',\nNearest to 'b'john'': 'b'bomb'', 'b'paxton'', 'b'henri'', 'b'fifteen'', 'b'reliance'', 'b'strata'',\nNearest to 'b'life'': 'b'bos'', 'b'abakan'', 'b'amo'', 'b'lydia'', 'b'msg'', 'b'heywood'',\n"
     ]
    },
    {
     "name": "stdout",
     "output_type": "stream",
     "text": [
      "Average loss at step 42000 is 5.324\n"
     ]
    },
    {
     "name": "stdout",
     "output_type": "stream",
     "text": [
      "Average loss at step 44000 is 5.424\n"
     ]
    },
    {
     "name": "stdout",
     "output_type": "stream",
     "text": [
      "Average loss at step 46000 is 5.286\n"
     ]
    },
    {
     "name": "stdout",
     "output_type": "stream",
     "text": [
      "Average loss at step 48000 is 5.035\n"
     ]
    },
    {
     "name": "stdout",
     "output_type": "stream",
     "text": [
      "Average loss at step 50000 is 5.165\nNearest to 'b'a'': 'b'the'', 'b'akita'', 'b'sotho'', 'b'albuquerque'', 'b'alpina'', 'b'anacharsis'',\nNearest to 'b'series'': 'b'cpc'', 'b'footsteps'', 'b'fictitious'', 'b'rick'', 'b'umayyad'', 'b'matter'',\nNearest to 'b'however'': 'b'and'', 'b'but'', 'b'that'', 'b'agouti'', 'b'imaginary'', 'b'reginae'',\nNearest to 'b'then'': 'b'agouti'', 'b'that'', 'b'hyperbolic'', 'b'unofficially'', 'b'reginae'', 'b'akita'',\nNearest to 'b'were'': 'b'are'', 'b'was'', 'b'is'', 'b'have'', 'b'had'', 'b'be'',\nNearest to 'b'in'': 'b'on'', 'b'at'', 'b'and'', 'b'from'', 'b'through'', 'b'agouti'',\nNearest to 'b'music'': 'b'trinomial'', 'b'backward'', 'b'compressibility'', 'b'recitative'', 'b'thermometer'', 'b'solon'',\nNearest to 'b'many'': 'b'some'', 'b'these'', 'b'recitative'', 'b'several'', 'b'administrators'', 'b'other'',\nNearest to 'b't'': 'b'dewey'', 'b'reasonably'', 'b'amalthea'', 'b'warring'', 'b'we'', 'b'also'',\nNearest to 'b'each'': 'b'their'', 'b'the'', 'b'armageddon'', 'b'indexing'', 'b'some'', 'b'agra'',\nNearest to 'b'have'': 'b'had'', 'b'be'', 'b'has'', 'b'are'', 'b'were'', 'b'amalthea'',\nNearest to 'b'university'': 'b'couplet'', 'b'raped'', 'b'austria'', 'b'harvesting'', 'b'topological'', 'b'wins'',\nNearest to 'b'term'': 'b'grimaldi'', 'b'name'', 'b'stresses'', 'b'hattie'', 'b'shaky'', 'b'abet'',\nNearest to 'b'until'': 'b'before'', 'b'from'', 'b'xv'', 'b'in'', 'b'abitibi'', 'b'compiler'',\nNearest to 'b'several'': 'b'many'', 'b'breath'', 'b'these'', 'b'some'', 'b'approved'', 'b'three'',\nNearest to 'b'united'': 'b'from'', 'b'prohibition'', 'b'bowhunting'', 'b'dasyprocta'', 'b'surat'', 'b'trinomial'',\nNearest to 'b'century'': 'b'keg'', 'b'innate'', 'b'invading'', 'b'eg'', 'b'cit'', 'b'methodist'',\nNearest to 'b'over'': 'b'charcot'', 'b'cunning'', 'b'activated'', 'b'microseconds'', 'b'outmoded'', 'b'clothed'',\nNearest to 'b'will'': 'b'would'', 'b'can'', 'b'could'', 'b'quakers'', 'b'belarusian'', 'b'may'',\nNearest to 'b'not'': 'b'also'', 'b'it'', 'b'they'', 'b'there'', 'b'to'', 'b'abv'',\nNearest to 'b'this'': 'b'it'', 'b'which'', 'b'the'', 'b'that'', 'b'prism'', 'b'akita'',\nNearest to 'b'being'': 'b'akh'', 'b'alienate'', 'b'any'', 'b'beeb'', 'b'entropy'', 'b'stitch'',\nNearest to 'b'zero'': 'b'eight'', 'b'seven'', 'b'five'', 'b'six'', 'b'nine'', 'b'four'',\nNearest to 'b'the'': 'b'its'', 'b'their'', 'b'his'', 'b'a'', 'b'this'', 'b'reginae'',\nNearest to 'b'although'': 'b'while'', 'b'is'', 'b'however'', 'b'does'', 'b'abitibi'', 'b'ellipse'',\nNearest to 'b'after'': 'b'before'', 'b'in'', 'b'six'', 'b'if'', 'b'seven'', 'b'at'',\nNearest to 'b'found'': 'b'biochemist'', 'b'trinomial'', 'b'cistercian'', 'b'sentenced'', 'b'trek'', 'b'austin'',\nNearest to 'b'name'': 'b'appearance'', 'b'agouti'', 'b'prism'', 'b'product'', 'b'term'', 'b'ari'',\nNearest to 'b'same'': 'b'opus'', 'b'through'', 'b'of'', 'b'last'', 'b'find'', 'b'akita'',\nNearest to 'b'while'': 'b'and'', 'b'although'', 'b'is'', 'b'akita'', 'b'started'', 'b'bolt'',\nNearest to 'b'john'': 'b'bomb'', 'b'henri'', 'b'paxton'', 'b'five'', 'b'reliance'', 'b'fifteen'',\nNearest to 'b'life'': 'b'bos'', 'b'amo'', 'b'abakan'', 'b'lydia'', 'b'msg'', 'b'stimulating'',\n"
     ]
    },
    {
     "name": "stdout",
     "output_type": "stream",
     "text": [
      "Average loss at step 52000 is 5.179\n"
     ]
    },
    {
     "name": "stdout",
     "output_type": "stream",
     "text": [
      "Average loss at step 54000 is 5.120\n"
     ]
    },
    {
     "name": "stdout",
     "output_type": "stream",
     "text": [
      "Average loss at step 56000 is 5.065\n"
     ]
    },
    {
     "name": "stdout",
     "output_type": "stream",
     "text": [
      "Average loss at step 58000 is 5.104\n"
     ]
    },
    {
     "name": "stdout",
     "output_type": "stream",
     "text": [
      "Average loss at step 60000 is 4.942\nNearest to 'b'a'': 'b'the'', 'b'akita'', 'b'sotho'', 'b'johansen'', 'b'anacharsis'', 'b'callithrix'',\nNearest to 'b'series'': 'b'callithrix'', 'b'michelob'', 'b'irt'', 'b'cpc'', 'b'footsteps'', 'b'rick'',\nNearest to 'b'however'': 'b'but'', 'b'and'', 'b'that'', 'b'although'', 'b'agouti'', 'b'which'',\nNearest to 'b'then'': 'b'that'', 'b'agouti'', 'b'hyperbolic'', 'b'akita'', 'b'ssbn'', 'b'androids'',\nNearest to 'b'were'': 'b'are'', 'b'was'', 'b'have'', 'b'had'', 'b'be'', 'b'is'',\nNearest to 'b'in'': 'b'at'', 'b'on'', 'b'from'', 'b'and'', 'b'through'', 'b'of'',\nNearest to 'b'music'': 'b'trinomial'', 'b'backward'', 'b'compressibility'', 'b'cebus'', 'b'recitative'', 'b'solon'',\nNearest to 'b'many'': 'b'some'', 'b'these'', 'b'several'', 'b'other'', 'b'recitative'', 'b'their'',\nNearest to 'b't'': 'b'dewey'', 'b'we'', 'b'reasonably'', 'b'warring'', 'b'also'', 'b'sparse'',\nNearest to 'b'each'': 'b'their'', 'b'the'', 'b'armageddon'', 'b'callithrix'', 'b'some'', 'b'intents'',\nNearest to 'b'have'': 'b'had'', 'b'has'', 'b'are'', 'b'be'', 'b'were'', 'b'amalthea'',\nNearest to 'b'university'': 'b'couplet'', 'b'mitch'', 'b'raped'', 'b'austria'', 'b'harvesting'', 'b'topological'',\nNearest to 'b'term'': 'b'name'', 'b'grimaldi'', 'b'stresses'', 'b'hattie'', 'b'abet'', 'b'enjoined'',\nNearest to 'b'until'': 'b'before'', 'b'xv'', 'b'from'', 'b'in'', 'b'abitibi'', 'b'is'',\nNearest to 'b'several'': 'b'many'', 'b'breath'', 'b'these'', 'b'some'', 'b'three'', 'b'approved'',\nNearest to 'b'united'': 'b'from'', 'b'bnetd'', 'b'dasyprocta'', 'b'prohibition'', 'b'callithrix'', 'b'trinomial'',\nNearest to 'b'century'': 'b'keg'', 'b'innate'', 'b'invading'', 'b'eg'', 'b'buckyballs'', 'b'cit'',\nNearest to 'b'over'': 'b'charcot'', 'b'cunning'', 'b'activated'', 'b'microseconds'', 'b'in'', 'b'outmoded'',\nNearest to 'b'will'': 'b'would'', 'b'can'', 'b'could'', 'b'may'', 'b'quakers'', 'b'must'',\nNearest to 'b'not'': 'b'also'', 'b'they'', 'b'it'', 'b'to'', 'b'there'', 'b'alamein'',\nNearest to 'b'this'': 'b'it'', 'b'which'', 'b'the'', 'b'that'', 'b'prism'', 'b'akita'',\nNearest to 'b'being'': 'b'callithrix'', 'b'akh'', 'b'any'', 'b'alienate'', 'b'wct'', 'b'entropy'',\nNearest to 'b'zero'': 'b'eight'', 'b'six'', 'b'five'', 'b'seven'', 'b'four'', 'b'nine'',\nNearest to 'b'the'': 'b'their'', 'b'its'', 'b'a'', 'b'cebus'', 'b'reginae'', 'b'this'',\nNearest to 'b'although'': 'b'while'', 'b'however'', 'b'colloids'', 'b'but'', 'b'does'', 'b'when'',\nNearest to 'b'after'': 'b'before'', 'b'tamarin'', 'b'in'', 'b'without'', 'b'at'', 'b'cebus'',\nNearest to 'b'found'': 'b'biochemist'', 'b'cebus'', 'b'trinomial'', 'b'sentenced'', 'b'cistercian'', 'b'cancel'',\nNearest to 'b'name'': 'b'appearance'', 'b'agouti'', 'b'prism'', 'b'term'', 'b'ari'', 'b'product'',\nNearest to 'b'same'': 'b'through'', 'b'last'', 'b'callithrix'', 'b'of'', 'b'opus'', 'b'akita'',\nNearest to 'b'while'': 'b'and'', 'b'although'', 'b'but'', 'b'ssbn'', 'b'tamarin'', 'b'or'',\nNearest to 'b'john'': 'UNK', 'b'bomb'', 'b'henri'', 'b'paxton'', 'b'averse'', 'b'tamarin'',\nNearest to 'b'life'': 'b'bos'', 'b'callithrix'', 'b'abakan'', 'b'amo'', 'b'lydia'', 'b'stimulating'',\n"
     ]
    },
    {
     "name": "stdout",
     "output_type": "stream",
     "text": [
      "Average loss at step 62000 is 4.791\n"
     ]
    },
    {
     "name": "stdout",
     "output_type": "stream",
     "text": [
      "Average loss at step 64000 is 4.803\n"
     ]
    },
    {
     "name": "stdout",
     "output_type": "stream",
     "text": [
      "Average loss at step 66000 is 4.974\n"
     ]
    },
    {
     "name": "stdout",
     "output_type": "stream",
     "text": [
      "Average loss at step 68000 is 4.929\n"
     ]
    },
    {
     "name": "stdout",
     "output_type": "stream",
     "text": [
      "Average loss at step 70000 is 4.779\nNearest to 'b'a'': 'b'akita'', 'b'the'', 'b'sotho'', 'b'mitral'', 'b'johansen'', 'b'callithrix'',\nNearest to 'b'series'': 'b'michelob'', 'b'callithrix'', 'b'irt'', 'b'fictitious'', 'b'rick'', 'b'footsteps'',\nNearest to 'b'however'': 'b'but'', 'b'although'', 'b'that'', 'b'which'', 'b'and'', 'b'though'',\nNearest to 'b'then'': 'b'agouti'', 'b'that'', 'b'hyperbolic'', 'b'akita'', 'b'it'', 'b'unofficially'',\nNearest to 'b'were'': 'b'are'', 'b'was'', 'b'have'', 'b'had'', 'b'be'', 'b'been'',\nNearest to 'b'in'': 'b'at'', 'b'from'', 'b'on'', 'b'during'', 'b'through'', 'b'since'',\nNearest to 'b'music'': 'b'backward'', 'b'trinomial'', 'b'compressibility'', 'b'cebus'', 'b'recitative'', 'b'thermometer'',\nNearest to 'b'many'': 'b'some'', 'b'these'', 'b'several'', 'b'other'', 'b'recitative'', 'b'thaler'',\nNearest to 'b't'': 'b'dewey'', 'b'we'', 'b'reasonably'', 'b'warring'', 'b'sparse'', 'b'suffix'',\nNearest to 'b'each'': 'b'the'', 'b'their'', 'b'armageddon'', 'b'thaler'', 'b'callithrix'', 'b'mitral'',\nNearest to 'b'have'': 'b'had'', 'b'has'', 'b'are'', 'b'were'', 'b'be'', 'b'amalthea'',\nNearest to 'b'university'': 'b'couplet'', 'b'mitch'', 'b'raped'', 'b'harvesting'', 'b'austria'', 'b'topological'',\nNearest to 'b'term'': 'b'name'', 'b'stresses'', 'b'grimaldi'', 'b'hattie'', 'b'shaky'', 'b'agouti'',\nNearest to 'b'until'': 'b'before'', 'b'in'', 'b'xv'', 'b'from'', 'b'abitibi'', 'b'four'',\nNearest to 'b'several'': 'b'many'', 'b'these'', 'b'breath'', 'b'some'', 'b'three'', 'b'members'',\nNearest to 'b'united'': 'b'from'', 'b'bnetd'', 'b'dasyprocta'', 'b'surat'', 'b'prohibition'', 'b'bowhunting'',\nNearest to 'b'century'': 'b'keg'', 'b'innate'', 'b'invading'', 'b'eg'', 'b'buckyballs'', 'b'refectory'',\nNearest to 'b'over'': 'b'charcot'', 'b'activated'', 'b'cunning'', 'b'microseconds'', 'b'four'', 'b'in'',\nNearest to 'b'will'': 'b'would'', 'b'can'', 'b'may'', 'b'could'', 'b'quakers'', 'b'must'',\nNearest to 'b'not'': 'b'also'', 'b'they'', 'b'it'', 'b'to'', 'b'usually'', 'b'there'',\nNearest to 'b'this'': 'b'which'', 'b'it'', 'b'the'', 'b'that'', 'b'prism'', 'b'thaler'',\nNearest to 'b'being'': 'b'callithrix'', 'b'entropy'', 'b'akh'', 'b'wct'', 'b'alienate'', 'b'beeb'',\nNearest to 'b'zero'': 'b'six'', 'b'eight'', 'b'five'', 'b'seven'', 'b'four'', 'b'nine'',\nNearest to 'b'the'': 'b'its'', 'b'their'', 'b'this'', 'b'thaler'', 'b'cebus'', 'b'reginae'',\nNearest to 'b'although'': 'b'while'', 'b'however'', 'b'where'', 'b'but'', 'b'colloids'', 'b'does'',\nNearest to 'b'after'': 'b'before'', 'b'tamarin'', 'b'in'', 'b'when'', 'b'at'', 'b'six'',\nNearest to 'b'found'': 'b'biochemist'', 'b'cebus'', 'b'trinomial'', 'b'footy'', 'b'thaler'', 'b'vantage'',\nNearest to 'b'name'': 'b'appearance'', 'b'agouti'', 'b'prism'', 'b'thaler'', 'b'term'', 'b'product'',\nNearest to 'b'same'': 'b'of'', 'b'last'', 'b'through'', 'b'callithrix'', 'b'opus'', 'b'akita'',\nNearest to 'b'while'': 'b'although'', 'b'and'', 'b'but'', 'b'tamarin'', 'b'or'', 'b'akita'',\nNearest to 'b'john'': 'b'henri'', 'b'bomb'', 'b'averse'', 'b'paxton'', 'UNK', 'b'tamarin'',\nNearest to 'b'life'': 'b'bos'', 'b'callithrix'', 'b'abakan'', 'b'lydia'', 'b'amo'', 'b'stimulating'',\n"
     ]
    },
    {
     "name": "stdout",
     "output_type": "stream",
     "text": [
      "Average loss at step 72000 is 4.809\n"
     ]
    },
    {
     "name": "stdout",
     "output_type": "stream",
     "text": [
      "Average loss at step 74000 is 4.783\n"
     ]
    },
    {
     "name": "stdout",
     "output_type": "stream",
     "text": [
      "Average loss at step 76000 is 4.872\n"
     ]
    },
    {
     "name": "stdout",
     "output_type": "stream",
     "text": [
      "Average loss at step 78000 is 4.789\n"
     ]
    },
    {
     "name": "stdout",
     "output_type": "stream",
     "text": [
      "Average loss at step 80000 is 4.821\nNearest to 'b'a'': 'b'the'', 'b'mitral'', 'b'johansen'', 'b'akita'', 'b'albuquerque'', 'b'sotho'',\nNearest to 'b'series'': 'b'irt'', 'b'fictitious'', 'b'michelob'', 'b'footsteps'', 'b'rick'', 'b'matter'',\nNearest to 'b'however'': 'b'but'', 'b'although'', 'b'that'', 'b'though'', 'b'and'', 'b'agouti'',\nNearest to 'b'then'': 'b'agouti'', 'b'pontificia'', 'b'hyperbolic'', 'b'akita'', 'b'that'', 'b'cegep'',\nNearest to 'b'were'': 'b'are'', 'b'was'', 'b'have'', 'b'had'', 'b'be'', 'b'been'',\nNearest to 'b'in'': 'b'at'', 'b'during'', 'b'on'', 'b'from'', 'b'vec'', 'b'through'',\nNearest to 'b'music'': 'b'trinomial'', 'b'backward'', 'b'recitative'', 'b'cebus'', 'b'compressibility'', 'b'thermometer'',\nNearest to 'b'many'': 'b'some'', 'b'these'', 'b'several'', 'b'other'', 'b'all'', 'b'thaler'',\nNearest to 'b't'': 'b'dewey'', 'b'we'', 'b'warring'', 'b'spiritualist'', 'b'amalthea'', 'b'nobody'',\nNearest to 'b'each'': 'b'their'', 'b'the'', 'b'armageddon'', 'b'thaler'', 'b'callithrix'', 'b'mitral'',\nNearest to 'b'have'': 'b'had'', 'b'has'', 'b'were'', 'b'are'', 'b'be'', 'b'jump'',\nNearest to 'b'university'': 'b'dasyprocta'', 'b'callithrix'', 'b'cegep'', 'b'two'', 'b'aveiro'', 'b'austria'',\nNearest to 'b'term'': 'b'name'', 'b'hattie'', 'b'stresses'', 'b'grimaldi'', 'b'shaky'', 'b'abet'',\nNearest to 'b'until'': 'b'before'', 'b'in'', 'b'xv'', 'b'from'', 'b'abitibi'', 'b'juniper'',\nNearest to 'b'several'': 'b'many'', 'b'these'', 'b'some'', 'b'breath'', 'b'three'', 'b'members'',\nNearest to 'b'united'': 'b'bnetd'', 'b'from'', 'b'prohibition'', 'b'surat'', 'b'bowhunting'', 'b'dasyprocta'',\nNearest to 'b'century'': 'b'innate'', 'b'keg'', 'b'buckyballs'', 'b'invading'', 'b'eg'', 'b'refectory'',\nNearest to 'b'over'': 'b'pontificia'', 'b'charcot'', 'b'microseconds'', 'b'cunning'', 'b'activated'', 'b'outmoded'',\nNearest to 'b'will'': 'b'would'', 'b'can'', 'b'may'', 'b'could'', 'b'must'', 'b'quakers'',\nNearest to 'b'not'': 'b'also'', 'b'they'', 'b'it'', 'b'abv'', 'b'alamein'', 'b'to'',\nNearest to 'b'this'': 'b'it'', 'b'which'', 'b'the'', 'b'that'', 'b'thaler'', 'b'prism'',\nNearest to 'b'being'': 'b'selamat'', 'b'be'', 'b'callithrix'', 'b'entropy'', 'b'wct'', 'b'alienate'',\nNearest to 'b'zero'': 'b'eight'', 'b'five'', 'b'six'', 'b'seven'', 'b'four'', 'b'nine'',\nNearest to 'b'the'': 'b'their'', 'b'its'', 'b'his'', 'b'thaler'', 'b'reginae'', 'b'cebus'',\nNearest to 'b'although'': 'b'while'', 'b'however'', 'b'but'', 'b'where'', 'b'is'', 'b'colloids'',\nNearest to 'b'after'': 'b'before'', 'b'when'', 'b'in'', 'b'tamarin'', 'b'without'', 'b'at'',\nNearest to 'b'found'': 'b'biochemist'', 'b'cebus'', 'b'footy'', 'b'trinomial'', 'b'clodius'', 'b'used'',\nNearest to 'b'name'': 'b'appearance'', 'b'term'', 'b'prism'', 'b'agouti'', 'b'product'', 'b'thaler'',\nNearest to 'b'same'': 'b'last'', 'b'barberini'', 'b'of'', 'b'through'', 'b'callithrix'', 'b'straczynski'',\nNearest to 'b'while'': 'b'although'', 'b'or'', 'b'but'', 'b'and'', 'b'barberini'', 'b'tamarin'',\nNearest to 'b'john'': 'b'henri'', 'b'bomb'', 'b'averse'', 'UNK', 'b'paxton'', 'b'l'',\nNearest to 'b'life'': 'b'bos'', 'b'callithrix'', 'b'amo'', 'b'abakan'', 'b'stimulating'', 'b'lydia'',\n"
     ]
    },
    {
     "name": "stdout",
     "output_type": "stream",
     "text": [
      "Average loss at step 82000 is 4.819\n"
     ]
    },
    {
     "name": "stdout",
     "output_type": "stream",
     "text": [
      "Average loss at step 84000 is 4.786\n"
     ]
    },
    {
     "name": "stdout",
     "output_type": "stream",
     "text": [
      "Average loss at step 86000 is 4.807\n"
     ]
    },
    {
     "name": "stdout",
     "output_type": "stream",
     "text": [
      "Average loss at step 88000 is 4.688\n"
     ]
    },
    {
     "name": "stdout",
     "output_type": "stream",
     "text": [
      "Average loss at step 90000 is 4.764\nNearest to 'b'a'': 'b'akita'', 'b'the'', 'b'mitral'', 'b'johansen'', 'b'anacharsis'', 'b'sotho'',\nNearest to 'b'series'': 'b'irt'', 'b'michelob'', 'b'callithrix'', 'b'fictitious'', 'b'matter'', 'b'footsteps'',\nNearest to 'b'however'': 'b'but'', 'b'that'', 'b'although'', 'b'though'', 'b'and'', 'b'agouti'',\nNearest to 'b'then'': 'b'agouti'', 'b'hyperbolic'', 'UNK', 'b'pontificia'', 'b'akita'', 'b'that'',\nNearest to 'b'were'': 'b'are'', 'b'was'', 'b'have'', 'b'had'', 'b'be'', 'b'been'',\nNearest to 'b'in'': 'b'during'', 'b'at'', 'b'nine'', 'b'and'', 'b'cegep'', 'b'of'',\nNearest to 'b'music'': 'b'trinomial'', 'b'backward'', 'b'recitative'', 'b'cebus'', 'b'compressibility'', 'b'thermometer'',\nNearest to 'b'many'': 'b'some'', 'b'these'', 'b'several'', 'b'other'', 'b'all'', 'b'both'',\nNearest to 'b't'': 'b'dewey'', 'b'we'', 'b'frantz'', 'b'spiritualist'', 'b'reasonably'', 'b'nobody'',\nNearest to 'b'each'': 'b'the'', 'b'their'', 'b'armageddon'', 'b'thaler'', 'b'mitral'', 'b'callithrix'',\nNearest to 'b'have'': 'b'had'', 'b'has'', 'b'were'', 'b'are'', 'b'be'', 'b'valdemar'',\nNearest to 'b'university'': 'b'harvesting'', 'b'aveiro'', 'b'austria'', 'b'dasyprocta'', 'b'callithrix'', 'b'cegep'',\nNearest to 'b'term'': 'b'name'', 'b'hattie'', 'b'stresses'', 'b'grimaldi'', 'b'agouti'', 'b'shaky'',\nNearest to 'b'until'': 'b'before'', 'b'from'', 'b'five'', 'b'xv'', 'b'in'', 'b'for'',\nNearest to 'b'several'': 'b'many'', 'b'some'', 'b'these'', 'b'breath'', 'b'three'', 'b'indications'',\nNearest to 'b'united'': 'b'bnetd'', 'b'from'', 'b'prohibition'', 'b'surat'', 'b'quadrants'', 'b'dasyprocta'',\nNearest to 'b'century'': 'b'innate'', 'b'keg'', 'b'buckyballs'', 'b'invading'', 'b'eg'', 'b'consolidating'',\nNearest to 'b'over'': 'b'pontificia'', 'b'charcot'', 'b'microseconds'', 'b'cunning'', 'b'activated'', 'b'about'',\nNearest to 'b'will'': 'b'would'', 'b'can'', 'b'may'', 'b'could'', 'b'must'', 'b'shall'',\nNearest to 'b'not'': 'b'they'', 'b'also'', 'b'alamein'', 'b'we'', 'b'it'', 'b'usually'',\nNearest to 'b'this'': 'b'it'', 'b'which'', 'b'the'', 'b'that'', 'b'prism'', 'b'flightless'',\nNearest to 'b'being'': 'b'selamat'', 'b'be'', 'b'callithrix'', 'b'dead'', 'b'tamarin'', 'b'alienate'',\nNearest to 'b'zero'': 'b'eight'', 'b'five'', 'b'seven'', 'b'six'', 'b'nine'', 'b'four'',\nNearest to 'b'the'': 'b'its'', 'b'their'', 'b'thaler'', 'b'his'', 'b'this'', 'b'reginae'',\nNearest to 'b'although'': 'b'while'', 'b'however'', 'b'but'', 'b'where'', 'b'does'', 'b'is'',\nNearest to 'b'after'': 'b'before'', 'b'when'', 'b'without'', 'b'six'', 'b'at'', 'b'tamarin'',\nNearest to 'b'found'': 'b'used'', 'b'footy'', 'b'biochemist'', 'b'cebus'', 'b'clodius'', 'b'trinomial'',\nNearest to 'b'name'': 'b'appearance'', 'b'term'', 'b'product'', 'b'prism'', 'b'agouti'', 'b'nebraska'',\nNearest to 'b'same'': 'b'of'', 'b'last'', 'b'barberini'', 'b'through'', 'b'callithrix'', 'b'straczynski'',\nNearest to 'b'while'': 'b'although'', 'b'and'', 'b'but'', 'b'tamarin'', 'b'barberini'', 'b'in'',\nNearest to 'b'john'': 'b'henri'', 'b'bomb'', 'b'averse'', 'b'l'', 'b'pontificia'', 'UNK',\nNearest to 'b'life'': 'b'bos'', 'b'callithrix'', 'b'amo'', 'b'abakan'', 'b'stimulating'', 'b'lydia'',\n"
     ]
    },
    {
     "name": "stdout",
     "output_type": "stream",
     "text": [
      "Average loss at step 92000 is 4.692\n"
     ]
    },
    {
     "name": "stdout",
     "output_type": "stream",
     "text": [
      "Average loss at step 94000 is 4.618\n"
     ]
    },
    {
     "name": "stdout",
     "output_type": "stream",
     "text": [
      "Average loss at step 96000 is 4.719\n"
     ]
    },
    {
     "name": "stdout",
     "output_type": "stream",
     "text": [
      "Average loss at step 98000 is 4.633\n"
     ]
    },
    {
     "name": "stdout",
     "output_type": "stream",
     "text": [
      "Average loss at step 100000 is 4.668\nNearest to 'b'a'': 'b'the'', 'b'akita'', 'b'sotho'', 'b'mitral'', 'b'albuquerque'', 'b'johansen'',\nNearest to 'b'series'': 'b'michelob'', 'b'irt'', 'b'callithrix'', 'b'matter'', 'b'fictitious'', 'b'footsteps'',\nNearest to 'b'however'': 'b'but'', 'b'that'', 'b'although'', 'b'and'', 'b'though'', 'b'thaler'',\nNearest to 'b'then'': 'UNK', 'b'agouti'', 'b'cleve'', 'b'pontificia'', 'b'hyperbolic'', 'b'akita'',\nNearest to 'b'were'': 'b'are'', 'b'have'', 'b'was'', 'b'had'', 'b'be'', 'b'been'',\nNearest to 'b'in'': 'b'at'', 'b'during'', 'b'on'', 'b'within'', 'b'from'', 'b'crandall'',\nNearest to 'b'music'': 'b'trinomial'', 'b'recitative'', 'b'compressibility'', 'b'backward'', 'b'cebus'', 'b'thermometer'',\nNearest to 'b'many'': 'b'some'', 'b'these'', 'b'several'', 'b'other'', 'b'all'', 'b'both'',\nNearest to 'b't'': 'b'dewey'', 'b'we'', 'b'frantz'', 'b'spiritualist'', 'b'nobody'', 'b'sparse'',\nNearest to 'b'each'': 'b'the'', 'b'their'', 'b'armageddon'', 'b'thaler'', 'b'any'', 'b'indexing'',\nNearest to 'b'have'': 'b'had'', 'b'has'', 'b'were'', 'b'are'', 'b'be'', 'b'valdemar'',\nNearest to 'b'university'': 'b'harvesting'', 'b'austria'', 'b'aveiro'', 'b'dasyprocta'', 'b'callithrix'', 'b'mitch'',\nNearest to 'b'term'': 'b'name'', 'b'hattie'', 'b'grimaldi'', 'b'stresses'', 'b'spurs'', 'b'agouti'',\nNearest to 'b'until'': 'b'before'', 'b'from'', 'b'in'', 'b'five'', 'b'xv'', 'b'juniper'',\nNearest to 'b'several'': 'b'many'', 'b'some'', 'b'these'', 'b'breath'', 'b'both'', 'b'members'',\nNearest to 'b'united'': 'b'bnetd'', 'b'surat'', 'b'quadrants'', 'b'prohibition'', 'b'defector'', 'b'dasyprocta'',\nNearest to 'b'century'': 'b'innate'', 'b'keg'', 'b'buckyballs'', 'b'invading'', 'b'consolidating'', 'b'eg'',\nNearest to 'b'over'': 'b'pontificia'', 'b'charcot'', 'b'microseconds'', 'b'cunning'', 'b'activated'', 'b'finalist'',\nNearest to 'b'will'': 'b'would'', 'b'can'', 'b'may'', 'b'could'', 'b'must'', 'b'should'',\nNearest to 'b'not'': 'b'also'', 'b'they'', 'b'usually'', 'b'alamein'', 'b'abv'', 'b'it'',\nNearest to 'b'this'': 'b'it'', 'b'which'', 'b'the'', 'b'that'', 'b'thaler'', 'b'prism'',\nNearest to 'b'being'': 'b'selamat'', 'b'be'', 'b'him'', 'b'callithrix'', 'b'was'', 'b'tamarin'',\nNearest to 'b'zero'': 'b'eight'', 'b'five'', 'b'seven'', 'b'six'', 'b'four'', 'b'nine'',\nNearest to 'b'the'': 'b'their'', 'b'its'', 'b'his'', 'b'this'', 'b'thaler'', 'b'a'',\nNearest to 'b'although'': 'b'while'', 'b'however'', 'b'but'', 'b'and'', 'b'where'', 'b'when'',\nNearest to 'b'after'': 'b'before'', 'b'when'', 'b'without'', 'b'at'', 'b'during'', 'b'in'',\nNearest to 'b'found'': 'b'used'', 'b'footy'', 'b'cebus'', 'b'clodius'', 'b'stopped'', 'b'trinomial'',\nNearest to 'b'name'': 'b'term'', 'b'appearance'', 'b'agouti'', 'b'prism'', 'b'product'', 'b'thaler'',\nNearest to 'b'same'': 'b'last'', 'b'of'', 'b'barberini'', 'b'callithrix'', 'b'through'', 'b'straczynski'',\nNearest to 'b'while'': 'b'although'', 'b'and'', 'b'but'', 'b'when'', 'b'or'', 'b'barberini'',\nNearest to 'b'john'': 'b'henri'', 'b'george'', 'b'averse'', 'b'four'', 'b'five'', 'b'pontificia'',\nNearest to 'b'life'': 'b'bos'', 'b'callithrix'', 'b'amo'', 'b'stimulating'', 'b'abakan'', 'b'lydia'',\n"
     ]
    }
   ],
   "source": [
    "# Train! \n",
    "sess = tf.Session()\n",
    "sess.run(tf.initialize_all_variables())\n",
    "summary_writer = tf.summary.FileWriter('/tmp/tf_logs/word2vec', graph=sess.graph)\n",
    "average_loss = 0\n",
    "\n",
    "num_steps = 100001\n",
    "for iter in xrange(num_steps):\n",
    "    batch_inputs, batch_labels = generate_batch(batch_size, num_skips, skip_window)\n",
    "    feed_dict = {train_inputs : batch_inputs, train_labels : batch_labels}\n",
    "    _, loss_val = sess.run([optm, loss], feed_dict=feed_dict)\n",
    "    average_loss += loss_val\n",
    "    \n",
    "    if iter % 2000 == 0:\n",
    "        average_loss /= 2000\n",
    "        print (\"Average loss at step %d is %.3f\" % (iter, average_loss)) \n",
    "    \n",
    "    if iter % 10000 == 0:\n",
    "        siml_val = sess.run(siml)\n",
    "        for i in xrange(valid_size): # Among valid set \n",
    "            valid_word = reverse_dictionary[valid_examples[i]]\n",
    "            top_k = 6 # number of nearest neighbors\n",
    "            nearest = (-siml_val[i, :]).argsort()[1:top_k+1]\n",
    "            log_str = \"Nearest to '%s':\" % valid_word\n",
    "            for k in xrange(top_k):\n",
    "                close_word = reverse_dictionary[nearest[k]] \n",
    "                log_str = \"%s '%s',\" % (log_str, close_word)\n",
    "            print(log_str) \n",
    "            \n",
    "# Final embeding \n",
    "final_embeddings = sess.run(normalized_embeddings)"
   ]
  },
  {
   "cell_type": "markdown",
   "metadata": {},
   "source": [
    "# 5. Visualize the embeding"
   ]
  },
  {
   "cell_type": "code",
   "execution_count": 34,
   "metadata": {
    "collapsed": false
   },
   "outputs": [],
   "source": [
    "def plot_with_labels(low_dim_embs, labels, filename='tsne.png'):\n",
    "    assert low_dim_embs.shape[0] >= len(labels), \"More labels than embeddings\"\n",
    "    plt.figure(figsize=(18, 18))  #in inches\n",
    "    for i, label in enumerate(labels):\n",
    "        x, y = low_dim_embs[i,:]\n",
    "        plt.scatter(x, y)\n",
    "        plt.annotate(label,\n",
    "                 xy=(x, y),\n",
    "                 xytext=(5, 2),\n",
    "                 textcoords='offset points',\n",
    "                 ha='right',\n",
    "                 va='bottom')\n",
    "    #plt.show()\n",
    "    plt.savefig(\"examples.jpg\")##保存到本地\n",
    "# Plot\n",
    "tsne = TSNE(perplexity=30, n_components=2, init='pca', n_iter=5000)\n",
    "plot_only = 500\n",
    "low_dim_embs = tsne.fit_transform(final_embeddings[:plot_only,:])\n",
    "labels = [reverse_dictionary[i] for i in xrange(plot_only)]\n",
    "plot_with_labels(low_dim_embs, labels)"
   ]
  },
  {
   "cell_type": "code",
   "execution_count": null,
   "metadata": {},
   "outputs": [],
   "source": [
    ""
   ]
  }
 ],
 "metadata": {
  "kernelspec": {
   "display_name": "Python 2",
   "language": "python",
   "name": "python2"
  },
  "language_info": {
   "codemirror_mode": {
    "name": "ipython",
    "version": 2.0
   },
   "file_extension": ".py",
   "mimetype": "text/x-python",
   "name": "python",
   "nbconvert_exporter": "python",
   "pygments_lexer": "ipython2",
   "version": "2.7.6"
  }
 },
 "nbformat": 4,
 "nbformat_minor": 0
}