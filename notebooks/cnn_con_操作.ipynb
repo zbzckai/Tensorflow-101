{
 "cells": [
  {
   "cell_type": "code",
   "execution_count": 23,
   "metadata": {
    "collapsed": true
   },
   "outputs": [
    {
     "name": "stdout",
     "output_type": "stream",
     "text": [
      "PACKAGES LOADED\nExtracting data/train-images-idx3-ubyte.gz\n"
     ]
    },
    {
     "name": "stdout",
     "output_type": "stream",
     "text": [
      "Extracting data/train-labels-idx1-ubyte.gz\nExtracting data/t10k-images-idx3-ubyte.gz\nExtracting data/t10k-labels-idx1-ubyte.gz\n"
     ]
    },
    {
     "name": "stdout",
     "output_type": "stream",
     "text": [
      "MNIST ready\n"
     ]
    }
   ],
   "source": [
    "import numpy as np\n",
    "import tensorflow as tf\n",
    "import matplotlib.pyplot as plt\n",
    "from tensorflow.examples.tutorials.mnist import input_data\n",
    "%matplotlib inline  \n",
    "print (\"PACKAGES LOADED\")\n",
    "import gc\n",
    "gc.collect()\n",
    "mnist = input_data.read_data_sets('data/', one_hot=True)\n",
    "trainimg   = mnist.train.images\n",
    "trainlabel = mnist.train.labels\n",
    "testimg    = mnist.test.images\n",
    "testlabel  = mnist.test.labels\n",
    "print (\"MNIST ready\")\n",
    "tmp_pa = mnist.train.images[0,:]"
   ]
  },
  {
   "cell_type": "code",
   "execution_count": 24,
   "metadata": {
    "collapsed": true
   },
   "outputs": [],
   "source": [
    "n_input = 784\n",
    "n_output = 10\n",
    "weights = {\n",
    "    'wc1': tf.Variable(tf.random_normal([3, 3, 1, 64], stddev=0.1)),\n",
    "##[filter_height, filter_width, in_channels, out_channels]\n",
    "    'wd1': tf.Variable(tf.random_normal([14 * 14 * 64, n_output], stddev=0.1))\n",
    "}\n",
    "biases = {\n",
    "    'bc1': tf.Variable(tf.random_normal([64], stddev=0.1)),\n",
    "    'bd1': tf.Variable(tf.random_normal([n_output], stddev=0.1))\n",
    "}"
   ]
  },
  {
   "cell_type": "code",
   "execution_count": 25,
   "metadata": {
    "collapsed": true
   },
   "outputs": [],
   "source": [
    "sess = tf.Session()\n",
    "def imshow_gray(pacture_2_array):\n",
    "    plt.figure(1)\n",
    "    plt.imshow(pacture_2_array, cmap=plt.get_cmap(\"gray\"))\n",
    "    plt.title(\"[imshow] Gray Image\")\n",
    "    plt.colorbar()\n",
    "    plt.draw()"
   ]
  },
  {
   "cell_type": "code",
   "execution_count": 26,
   "metadata": {
    "collapsed": true
   },
   "outputs": [
    {
     "data": {
      "image/png": "[encoded data removed]",
      "text/plain": [
       "<Figure size 432x288 with 2 Axes>"
      ]
     },
     "metadata": {},
     "output_type": "display_data"
    }
   ],
   "source": [
    "_input = tmp_pa\n",
    "_input = tmp_pa\n",
    "_w = weights\n",
    "_b = biases\n",
    "# Reshape input\n",
    "_input_r = tf.reshape(_input, shape=[-1, 28, 28, 1])##[batch, in_height, in_width, in_channels]\n",
    "arr_pa = sess.run(_input_r)\n",
    "arr_pa.shape\n",
    "arr_pa_2 = arr_pa[0,:,:,0]\n",
    "imshow_gray(arr_pa_2)"
   ]
  },
  {
   "cell_type": "code",
   "execution_count": 50,
   "metadata": {},
   "outputs": [],
   "source": [
    "init = tf.initialize_all_variables()\n",
    "sess.run(init)\n",
    "_conv1 = tf.nn.conv2d(_input_r, _w['wc1'], strides=[1, 1, 1, 1], padding='SAME')\n",
    "conv1_arr = sess.run(_conv1)\n",
    "_conv2 = tf.nn.bias_add(_conv1, _b['bc1'])\n",
    "conv2_arr = sess.run(_conv2)\n",
    "_conv3 = tf.nn.relu(_conv2)\n",
    "conv3_arr = sess.run(_conv3)\n",
    "__pool  = tf.nn.max_pool(_conv3, ksize=[1, 2, 2, 1], strides=[1, 2, 2, 1], padding='SAME')##池化窗口的大小，取一个四维向量，一般是[1, height, width, 1]，因为我们不想在batch和channels上做池化，所以这两个维度设为了1\n",
    "pool_arr = sess.run(__pool)\n",
    "_pool = tf.nn.dropout(__pool, 0.1)\n",
    "pool_arr_drop = sess.run(_pool)\n",
    "\n",
    "_dense = tf.reshape(_pool, [-1, _w['wd1'].get_shape().as_list()[0]])\n",
    "dense_arr = sess.run(_dense)\n",
    "\n",
    "_out = tf.add(tf.matmul(_dense, _w['wd1']), _b['bd1'])\n",
    "out_arr = sess.run(_out)"
   ]
  },
  {
   "cell_type": "code",
   "execution_count": 53,
   "metadata": {},
   "outputs": [
    {
     "name": "stdout",
     "output_type": "stream",
     "text": [
      "(1, 14, 14, 64)\n"
     ]
    },
    {
     "data": {
      "image/png": "[encoded data removed]",
      "text/plain": [
       "<Figure size 432x288 with 2 Axes>"
      ]
     },
     "metadata": {},
     "output_type": "display_data"
    }
   ],
   "source": [
    "print(_pool.shape)\n",
    "imshow_gray(pool_arr[0,:,:,0])\n",
    "#imshow_gray(conv3_arr[0,:,:,0])"
   ]
  },
  {
   "cell_type": "code",
   "execution_count": 56,
   "metadata": {
    "collapsed": true
   },
   "outputs": [
    {
     "data": {
      "text/plain": [
       "array([[0.        , 0.        , 0.        , 0.        , 0.        ,\n        0.        , 0.        , 0.        , 0.05036548, 0.        ,\n        0.        , 0.        , 0.05036548, 0.05036548],\n       [0.        , 0.        , 0.        , 0.        , 0.        ,\n        0.        , 0.        , 0.        , 0.        , 0.        ,\n        0.        , 0.        , 0.        , 0.        ],\n       [0.        , 0.        , 0.        , 0.        , 0.        ,\n        0.        , 0.        , 0.        , 0.        , 0.        ,\n        0.        , 0.        , 0.        , 0.        ],\n       [0.        , 0.        , 0.        , 0.        , 0.        ,\n        0.        , 0.        , 0.        , 0.        , 0.        ,\n        0.        , 0.        , 0.        , 0.        ],\n       [0.        , 0.        , 0.        , 0.        , 0.        ,\n        0.        , 0.        , 4.0024056 , 0.        , 0.        ,\n        0.        , 0.        , 0.        , 0.        ],\n       [0.        , 0.        , 0.        , 0.        , 0.        ,\n        0.        , 2.0624187 , 0.        , 0.        , 0.        ,\n        0.        , 0.        , 0.        , 0.        ],\n       [0.        , 0.        , 0.        , 0.        , 0.        ,\n        0.        , 0.        , 0.        , 0.        , 4.235447  ,\n        0.        , 0.        , 0.        , 0.        ],\n       [0.        , 0.05036548, 0.        , 0.        , 0.        ,\n        0.        , 0.        , 3.2531443 , 0.        , 0.        ,\n        0.        , 0.        , 0.        , 0.        ],\n       [0.        , 0.        , 0.        , 0.        , 0.        ,\n        0.        , 3.8528447 , 0.        , 0.        , 0.        ,\n        0.        , 0.        , 0.        , 0.        ],\n       [0.05036548, 0.05036548, 0.        , 2.8106728 , 0.        ,\n        0.        , 0.        , 0.        , 0.        , 0.        ,\n        0.        , 0.        , 0.        , 0.        ],\n       [0.        , 0.        , 0.        , 0.        , 0.        ,\n        0.        , 0.        , 0.        , 0.        , 0.        ,\n        0.        , 0.05036548, 0.        , 0.        ],\n       [0.        , 0.        , 0.        , 0.        , 0.05036548,\n        0.        , 0.        , 0.        , 0.        , 0.        ,\n        0.        , 0.        , 0.        , 0.        ],\n       [0.        , 0.        , 0.        , 0.        , 0.        ,\n        0.        , 0.        , 0.        , 0.        , 0.        ,\n        0.        , 0.        , 0.        , 0.        ],\n       [0.        , 0.        , 0.        , 0.        , 0.        ,\n        0.05036548, 0.        , 0.        , 0.        , 0.        ,\n        0.        , 0.        , 0.        , 0.        ]], dtype=float32)"
      ]
     },
     "execution_count": 56,
     "metadata": {},
     "output_type": "execute_result"
    }
   ],
   "source": [
    "pool_arr[0,:,:,0]#drop的作用就是将一些赋值为了零，当x为零的时候对应的参数w的梯度为fx*x=0所以不会进行更新\n",
    "pool_arr_drop[0,:,:,0]###每个样本也保留的也是不一样的"
   ]
  },
  {
   "cell_type": "code",
   "execution_count": 36,
   "metadata": {},
   "outputs": [],
   "source": [
    ""
   ]
  },
  {
   "cell_type": "code",
   "execution_count": null,
   "metadata": {},
   "outputs": [],
   "source": [
    ""
   ]
  }
 ],
 "metadata": {
  "kernelspec": {
   "display_name": "Python 2",
   "language": "python",
   "name": "python2"
  },
  "language_info": {
   "codemirror_mode": {
    "name": "ipython",
    "version": 2.0
   },
   "file_extension": ".py",
   "mimetype": "text/x-python",
   "name": "python",
   "nbconvert_exporter": "python",
   "pygments_lexer": "ipython2",
   "version": "2.7.6"
  }
 },
 "nbformat": 4,
 "nbformat_minor": 0
}