{
 "cells": [
  {
   "cell_type": "code",
   "execution_count": 1,
   "metadata": {
    "collapsed": false
   },
   "outputs": [
    {
     "name": "stdout",
     "output_type": "stream",
     "text": [
      "Packages loaded\n"
     ]
    }
   ],
   "source": [
    "import urllib\n",
    "from bs4 import BeautifulSoup\n",
    "from datetime import datetime\n",
    "import numpy as np\n",
    "from matplotlib import pyplot as plt\n",
    "%matplotlib inline  \n",
    "\n",
    "print (\"Packages loaded\")"
   ]
  },
  {
   "cell_type": "markdown",
   "metadata": {},
   "source": [
    "# Get it!"
   ]
  },
  {
   "cell_type": "code",
   "execution_count": 3,
   "metadata": {
    "collapsed": true
   },
   "outputs": [
    {
     "name": "stdout",
     "output_type": "stream",
     "text": [
      "\nCurr date is 20181228\nLast traded price: 2041.04\nFluctuation ratio: +0.62%\nTraded volume:     347842\nTraded price:      4058850\n\nCurr date is 20181227\nLast traded price: 2028.44\nFluctuation ratio: +0.02%\nTraded volume:     390094\nTraded price:      5281844\n\nCurr date is 20181226\nLast traded price: 2028.01\nFluctuation ratio: -1.31%\nTraded volume:     314188\nTraded price:      5336856\n\nCurr date is 20181224\nLast traded price: 2055.01\nFluctuation ratio: -0.31%\nTraded volume:     280638\nTraded price:      3791538\n\nCurr date is 20181221\nLast traded price: 2061.49\nFluctuation ratio: +0.07%\nTraded volume:     304921\nTraded price:      5389566\n\nCurr date is 20181220\nLast traded price: 2060.12\nFluctuation ratio: -0.90%\nTraded volume:     412812\nTraded price:      5320912\n"
     ]
    },
    {
     "name": "stdout",
     "output_type": "stream",
     "text": [
      "\nCurr date is 20181219\nLast traded price: 2078.84\nFluctuation ratio: +0.81%\nTraded volume:     412554\nTraded price:      5022718\n\nCurr date is 20181218\nLast traded price: 2062.11\nFluctuation ratio: -0.43%\nTraded volume:     423880\nTraded price:      5147666\n\nCurr date is 20181217\nLast traded price: 2071.09\nFluctuation ratio: +0.08%\nTraded volume:     438220\nTraded price:      4630980\n\nCurr date is 20181214\nLast traded price: 2069.38\nFluctuation ratio: -1.25%\nTraded volume:     439541\nTraded price:      5583989\n\nCurr date is 20181213\nLast traded price: 2095.55\nFluctuation ratio: +0.62%\nTraded volume:     368200\nTraded price:      7562750\n\nCurr date is 20181212\nLast traded price: 2082.57\nFluctuation ratio: +1.44%\nTraded volume:     439402\nTraded price:      5297463\n"
     ]
    },
    {
     "name": "stdout",
     "output_type": "stream",
     "text": [
      "\nCurr date is 20181211\nLast traded price: 2052.97\nFluctuation ratio: -0.04%\nTraded volume:     267011\nTraded price:      4911710\n\nCurr date is 20181210\nLast traded price: 2053.79\nFluctuation ratio: -1.06%\nTraded volume:     335952\nTraded price:      4526625\n\nCurr date is 20181207\nLast traded price: 2075.76\nFluctuation ratio: +0.34%\nTraded volume:     363007\nTraded price:      4220996\n\nCurr date is 20181206\nLast traded price: 2068.69\nFluctuation ratio: -1.55%\nTraded volume:     528193\nTraded price:      5442143\n\nCurr date is 20181205\nLast traded price: 2101.31\nFluctuation ratio: -0.62%\nTraded volume:     484114\nTraded price:      4660341\n\nCurr date is 20181204\nLast traded price: 2114.35\nFluctuation ratio: -0.82%\nTraded volume:     498735\nTraded price:      5428831\n"
     ]
    },
    {
     "name": "stdout",
     "output_type": "stream",
     "text": [
      "\nCurr date is 20181203\nLast traded price: 2131.93\nFluctuation ratio: +1.67%\nTraded volume:     428908\nTraded price:      5431269\n\nCurr date is 20181130\nLast traded price: 2096.86\nFluctuation ratio: -0.82%\nTraded volume:     413390\nTraded price:      6923913\n\nCurr date is 20181129\nLast traded price: 2114.10\nFluctuation ratio: +0.28%\nTraded volume:     300493\nTraded price:      5115843\n\nCurr date is 20181128\nLast traded price: 2108.22\nFluctuation ratio: +0.42%\nTraded volume:     274540\nTraded price:      4590460\n\nCurr date is 20181127\nLast traded price: 2099.42\nFluctuation ratio: +0.79%\nTraded volume:     235145\nTraded price:      4413843\n\nCurr date is 20181126\nLast traded price: 2083.02\nFluctuation ratio: +1.24%\nTraded volume:     231575\nTraded price:      4333640\n"
     ]
    },
    {
     "name": "stdout",
     "output_type": "stream",
     "text": [
      "\nCurr date is 20181123\nLast traded price: 2057.48\nFluctuation ratio: -0.60%\nTraded volume:     221467\nTraded price:      3692234\n\nCurr date is 20181122\nLast traded price: 2069.95\nFluctuation ratio: -0.32%\nTraded volume:     237048\nTraded price:      3979713\n\nCurr date is 20181121\nLast traded price: 2076.55\nFluctuation ratio: -0.29%\nTraded volume:     262007\nTraded price:      4959579\n\nCurr date is 20181120\nLast traded price: 2082.58\nFluctuation ratio: -0.86%\nTraded volume:     274836\nTraded price:      4800201\n\nCurr date is 20181119\nLast traded price: 2100.56\nFluctuation ratio: +0.39%\nTraded volume:     268926\nTraded price:      4609680\n\nCurr date is 20181116\nLast traded price: 2092.40\nFluctuation ratio: +0.21%\nTraded volume:     294134\nTraded price:      4693924\n"
     ]
    },
    {
     "name": "stdout",
     "output_type": "stream",
     "text": [
      "\nCurr date is 20181115\nLast traded price: 2088.06\nFluctuation ratio: +0.97%\nTraded volume:     346712\nTraded price:      4632958\n\nCurr date is 20181114\nLast traded price: 2068.05\nFluctuation ratio: -0.15%\nTraded volume:     332675\nTraded price:      5421114\n\nCurr date is 20181113\nLast traded price: 2071.23\nFluctuation ratio: -0.44%\nTraded volume:     376813\nTraded price:      5619103\n\nCurr date is 20181112\nLast traded price: 2080.44\nFluctuation ratio: -0.27%\nTraded volume:     291483\nTraded price:      5445340\n\nCurr date is 20181109\nLast traded price: 2086.09\nFluctuation ratio: -0.31%\nTraded volume:     292935\nTraded price:      5153125\n\nCurr date is 20181108\nLast traded price: 2092.63\nFluctuation ratio: +0.67%\nTraded volume:     322591\nTraded price:      5869615\n"
     ]
    },
    {
     "name": "stdout",
     "output_type": "stream",
     "text": [
      "\nCurr date is 20181107\nLast traded price: 2078.69\nFluctuation ratio: -0.52%\nTraded volume:     471029\nTraded price:      6247377\n\nCurr date is 20181106\nLast traded price: 2089.62\nFluctuation ratio: +0.61%\nTraded volume:     307933\nTraded price:      5007974\n\nCurr date is 20181105\nLast traded price: 2076.92\nFluctuation ratio: -0.91%\nTraded volume:     353462\nTraded price:      4830435\n\nCurr date is 20181102\nLast traded price: 2096.00\nFluctuation ratio: +3.53%\nTraded volume:     364081\nTraded price:      6635295\n\nCurr date is 20181101\nLast traded price: 2024.46\nFluctuation ratio: -0.26%\nTraded volume:     337981\nTraded price:      5838824\n\nCurr date is 20181031\nLast traded price: 2029.69\nFluctuation ratio: +0.74%\nTraded volume:     366579\nTraded price:      6226668\n"
     ]
    },
    {
     "name": "stdout",
     "output_type": "stream",
     "text": [
      "\nCurr date is 20181030\nLast traded price: 2014.69\nFluctuation ratio: +0.93%\nTraded volume:     434359\nTraded price:      6907770\n\nCurr date is 20181029\nLast traded price: 1996.05\nFluctuation ratio: -1.53%\nTraded volume:     416016\nTraded price:      6134427\n\nCurr date is 20181026\nLast traded price: 2027.15\nFluctuation ratio: -1.75%\nTraded volume:     436042\nTraded price:      6484528\n\nCurr date is 20181025\nLast traded price: 2063.30\nFluctuation ratio: -1.63%\nTraded volume:     364818\nTraded price:      7258359\n\nCurr date is 20181024\nLast traded price: 2097.58\nFluctuation ratio: -0.40%\nTraded volume:     392945\nTraded price:      6309715\n\nCurr date is 20181023\nLast traded price: 2106.10\nFluctuation ratio: -2.57%\nTraded volume:     363224\nTraded price:      5856461\n"
     ]
    },
    {
     "name": "stdout",
     "output_type": "stream",
     "text": [
      "\nCurr date is 20181022\nLast traded price: 2161.71\nFluctuation ratio: +0.25%\nTraded volume:     303503\nTraded price:      3836728\n\nCurr date is 20181019\nLast traded price: 2156.26\nFluctuation ratio: +0.37%\nTraded volume:     343657\nTraded price:      4722913\n\nCurr date is 20181018\nLast traded price: 2148.31\nFluctuation ratio: -0.89%\nTraded volume:     316734\nTraded price:      4155099\n\nCurr date is 20181017\nLast traded price: 2167.51\nFluctuation ratio: +1.04%\nTraded volume:     266401\nTraded price:      4642949\n\nCurr date is 20181016\nLast traded price: 2145.12\nFluctuation ratio: <spanclass=\"tahp11gray01\">0.00%\nTraded volume:     215108\nTraded price:      3815383\n\nCurr date is 20181015\nLast traded price: 2145.12\nFluctuation ratio: -0.77%\nTraded volume:     255858\nTraded price:      4612077\n"
     ]
    },
    {
     "name": "stdout",
     "output_type": "stream",
     "text": [
      "\nCurr date is 20181012\nLast traded price: 2161.85\nFluctuation ratio: +1.51%\nTraded volume:     288607\nTraded price:      5965646\n\nCurr date is 20181011\nLast traded price: 2129.67\nFluctuation ratio: -4.44%\nTraded volume:     404316\nTraded price:      8196792\n\nCurr date is 20181010\nLast traded price: 2228.61\nFluctuation ratio: -1.12%\nTraded volume:     348867\nTraded price:      6313102\n\nCurr date is 20181008\nLast traded price: 2253.83\nFluctuation ratio: -0.60%\nTraded volume:     209984\nTraded price:      4362204\n\nCurr date is 20181005\nLast traded price: 2267.52\nFluctuation ratio: -0.31%\nTraded volume:     276748\nTraded price:      6175883\n\nCurr date is 20181004\nLast traded price: 2274.49\nFluctuation ratio: -1.52%\nTraded volume:     304578\nTraded price:      7461319\n"
     ]
    },
    {
     "name": "stdout",
     "output_type": "stream",
     "text": [
      "\nCurr date is 20181002\nLast traded price: 2309.57\nFluctuation ratio: -1.25%\nTraded volume:     281425\nTraded price:      6193909\n\nCurr date is 20181001\nLast traded price: 2338.88\nFluctuation ratio: -0.18%\nTraded volume:     272609\nTraded price:      5427373\n\nCurr date is 20180928\nLast traded price: 2343.07\nFluctuation ratio: -0.52%\nTraded volume:     311831\nTraded price:      6927622\n\nCurr date is 20180927\nLast traded price: 2355.43\nFluctuation ratio: +0.70%\nTraded volume:     273887\nTraded price:      7125463\n\nCurr date is 20180921\nLast traded price: 2339.17\nFluctuation ratio: +0.68%\nTraded volume:     306545\nTraded price:      7063404\n\nCurr date is 20180920\nLast traded price: 2323.45\nFluctuation ratio: +0.65%\nTraded volume:     283961\nTraded price:      6329710\n"
     ]
    },
    {
     "name": "stdout",
     "output_type": "stream",
     "text": [
      "\nCurr date is 20180919\nLast traded price: 2308.46\nFluctuation ratio: -0.02%\nTraded volume:     341743\nTraded price:      5930314\n\nCurr date is 20180918\nLast traded price: 2308.98\nFluctuation ratio: +0.26%\nTraded volume:     301522\nTraded price:      5515636\n\nCurr date is 20180917\nLast traded price: 2303.01\nFluctuation ratio: -0.66%\nTraded volume:     339317\nTraded price:      4942568\n\nCurr date is 20180914\nLast traded price: 2318.25\nFluctuation ratio: +1.40%\nTraded volume:     283774\nTraded price:      5489272\n\nCurr date is 20180913\nLast traded price: 2286.23\nFluctuation ratio: +0.14%\nTraded volume:     295216\nTraded price:      6391076\n\nCurr date is 20180912\nLast traded price: 2282.92\nFluctuation ratio: -0.01%\nTraded volume:     331036\nTraded price:      6278639\n"
     ]
    },
    {
     "name": "stdout",
     "output_type": "stream",
     "text": [
      "\nCurr date is 20180911\nLast traded price: 2283.20\nFluctuation ratio: -0.24%\nTraded volume:     361475\nTraded price:      5705258\n\nCurr date is 20180910\nLast traded price: 2288.66\nFluctuation ratio: +0.31%\nTraded volume:     304918\nTraded price:      5398671\n\nCurr date is 20180907\nLast traded price: 2281.58\nFluctuation ratio: -0.26%\nTraded volume:     351603\nTraded price:      6094318\n\nCurr date is 20180906\nLast traded price: 2287.61\nFluctuation ratio: -0.18%\nTraded volume:     381008\nTraded price:      5529698\n\nCurr date is 20180905\nLast traded price: 2291.77\nFluctuation ratio: -1.03%\nTraded volume:     352026\nTraded price:      5220209\n\nCurr date is 20180904\nLast traded price: 2315.72\nFluctuation ratio: +0.38%\nTraded volume:     271789\nTraded price:      4473989\n"
     ]
    },
    {
     "name": "stdout",
     "output_type": "stream",
     "text": [
      "\nCurr date is 20180903\nLast traded price: 2307.03\nFluctuation ratio: -0.68%\nTraded volume:     227122\nTraded price:      3980380\n\nCurr date is 20180831\nLast traded price: 2322.88\nFluctuation ratio: +0.67%\nTraded volume:     240587\nTraded price:      5217226\n\nCurr date is 20180830\nLast traded price: 2307.35\nFluctuation ratio: -0.07%\nTraded volume:     281989\nTraded price:      5137978\n\nCurr date is 20180829\nLast traded price: 2309.03\nFluctuation ratio: +0.26%\nTraded volume:     252045\nTraded price:      4268657\n\nCurr date is 20180828\nLast traded price: 2303.12\nFluctuation ratio: +0.17%\nTraded volume:     273217\nTraded price:      5400107\n\nCurr date is 20180827\nLast traded price: 2299.30\nFluctuation ratio: +0.27%\nTraded volume:     300061\nTraded price:      5666862\n"
     ]
    },
    {
     "name": "stdout",
     "output_type": "stream",
     "text": [
      "\nCurr date is 20180824\nLast traded price: 2293.21\nFluctuation ratio: +0.46%\nTraded volume:     340999\nTraded price:      5052457\n\nCurr date is 20180823\nLast traded price: 2282.60\nFluctuation ratio: +0.41%\nTraded volume:     333136\nTraded price:      5159309\n\nCurr date is 20180822\nLast traded price: 2273.33\nFluctuation ratio: +0.14%\nTraded volume:     263612\nTraded price:      5054348\n\nCurr date is 20180821\nLast traded price: 2270.06\nFluctuation ratio: +0.99%\nTraded volume:     290503\nTraded price:      5093280\n\nCurr date is 20180820\nLast traded price: 2247.88\nFluctuation ratio: +0.04%\nTraded volume:     267698\nTraded price:      4309835\n\nCurr date is 20180817\nLast traded price: 2247.05\nFluctuation ratio: +0.28%\nTraded volume:     231926\nTraded price:      4479386\n"
     ]
    },
    {
     "name": "stdout",
     "output_type": "stream",
     "text": [
      "\nCurr date is 20180816\nLast traded price: 2240.80\nFluctuation ratio: -0.80%\nTraded volume:     309355\nTraded price:      5928768\n\nCurr date is 20180814\nLast traded price: 2258.91\nFluctuation ratio: +0.47%\nTraded volume:     250633\nTraded price:      4755714\n\nCurr date is 20180813\nLast traded price: 2248.45\nFluctuation ratio: -1.50%\nTraded volume:     330544\nTraded price:      5853917\n\nCurr date is 20180810\nLast traded price: 2282.79\nFluctuation ratio: -0.91%\nTraded volume:     279626\nTraded price:      6102094\n\nCurr date is 20180809\nLast traded price: 2303.71\nFluctuation ratio: +0.10%\nTraded volume:     238149\nTraded price:      5838088\n\nCurr date is 20180808\nLast traded price: 2301.45\nFluctuation ratio: +0.06%\nTraded volume:     288039\nTraded price:      5037618\n"
     ]
    },
    {
     "name": "stdout",
     "output_type": "stream",
     "text": [
      "\nCurr date is 20180807\nLast traded price: 2300.16\nFluctuation ratio: +0.60%\nTraded volume:     225706\nTraded price:      4612890\n\nCurr date is 20180806\nLast traded price: 2286.50\nFluctuation ratio: -0.05%\nTraded volume:     241153\nTraded price:      4520090\n\nCurr date is 20180803\nLast traded price: 2287.68\nFluctuation ratio: +0.77%\nTraded volume:     265613\nTraded price:      4128426\n\nCurr date is 20180802\nLast traded price: 2270.20\nFluctuation ratio: -1.60%\nTraded volume:     347908\nTraded price:      4931127\n\nCurr date is 20180801\nLast traded price: 2307.07\nFluctuation ratio: +0.51%\nTraded volume:     214465\nTraded price:      4706755\n\nCurr date is 20180731\nLast traded price: 2295.26\nFluctuation ratio: +0.08%\nTraded volume:     217651\nTraded price:      4793619\n"
     ]
    },
    {
     "name": "stdout",
     "output_type": "stream",
     "text": [
      "\nCurr date is 20180730\nLast traded price: 2293.51\nFluctuation ratio: -0.06%\nTraded volume:     202744\nTraded price:      4430844\n\nCurr date is 20180727\nLast traded price: 2294.99\nFluctuation ratio: +0.26%\nTraded volume:     259165\nTraded price:      5030207\n\nCurr date is 20180726\nLast traded price: 2289.06\nFluctuation ratio: +0.71%\nTraded volume:     295319\nTraded price:      6111409\n\nCurr date is 20180725\nLast traded price: 2273.03\nFluctuation ratio: -0.31%\nTraded volume:     305498\nTraded price:      6021916\n\nCurr date is 20180724\nLast traded price: 2280.20\nFluctuation ratio: +0.48%\nTraded volume:     429445\nTraded price:      5724308\n\nCurr date is 20180723\nLast traded price: 2269.31\nFluctuation ratio: -0.87%\nTraded volume:     328884\nTraded price:      5403786\n"
     ]
    },
    {
     "name": "stdout",
     "output_type": "stream",
     "text": [
      "\nCurr date is 20180720\nLast traded price: 2289.19\nFluctuation ratio: +0.30%\nTraded volume:     346880\nTraded price:      4839036\n\nCurr date is 20180719\nLast traded price: 2282.29\nFluctuation ratio: -0.34%\nTraded volume:     458752\nTraded price:      5346881\n\nCurr date is 20180718\nLast traded price: 2290.11\nFluctuation ratio: -0.34%\nTraded volume:     395774\nTraded price:      4838320\n\nCurr date is 20180717\nLast traded price: 2297.92\nFluctuation ratio: -0.18%\nTraded volume:     365351\nTraded price:      4696497\n\nCurr date is 20180716\nLast traded price: 2301.99\nFluctuation ratio: -0.39%\nTraded volume:     293260\nTraded price:      4893528\n\nCurr date is 20180713\nLast traded price: 2310.90\nFluctuation ratio: +1.13%\nTraded volume:     286351\nTraded price:      6388189\n"
     ]
    },
    {
     "name": "stdout",
     "output_type": "stream",
     "text": [
      "\nCurr date is 20180712\nLast traded price: 2285.06\nFluctuation ratio: +0.19%\nTraded volume:     353267\nTraded price:      5974081\n\nCurr date is 20180711\nLast traded price: 2280.62\nFluctuation ratio: -0.59%\nTraded volume:     412423\nTraded price:      5372306\n\nCurr date is 20180710\nLast traded price: 2294.16\nFluctuation ratio: +0.37%\nTraded volume:     329363\nTraded price:      4769153\n\nCurr date is 20180709\nLast traded price: 2285.80\nFluctuation ratio: +0.57%\nTraded volume:     349047\nTraded price:      5746739\n\nCurr date is 20180706\nLast traded price: 2272.87\nFluctuation ratio: +0.68%\nTraded volume:     340894\nTraded price:      6280405\n\nCurr date is 20180705\nLast traded price: 2257.55\nFluctuation ratio: -0.35%\nTraded volume:     342616\nTraded price:      5061366\n"
     ]
    },
    {
     "name": "stdout",
     "output_type": "stream",
     "text": [
      "\nCurr date is 20180704\nLast traded price: 2265.46\nFluctuation ratio: -0.32%\nTraded volume:     310960\nTraded price:      4772554\n\nCurr date is 20180703\nLast traded price: 2272.76\nFluctuation ratio: +0.05%\nTraded volume:     360738\nTraded price:      5874341\n\nCurr date is 20180702\nLast traded price: 2271.54\nFluctuation ratio: -2.35%\nTraded volume:     387807\nTraded price:      5894182\n\nCurr date is 20180629\nLast traded price: 2326.13\nFluctuation ratio: +0.51%\nTraded volume:     389705\nTraded price:      6152227\n\nCurr date is 20180628\nLast traded price: 2314.24\nFluctuation ratio: -1.19%\nTraded volume:     403750\nTraded price:      5573724\n\nCurr date is 20180627\nLast traded price: 2342.03\nFluctuation ratio: -0.38%\nTraded volume:     517028\nTraded price:      6793368\n"
     ]
    },
    {
     "name": "stdout",
     "output_type": "stream",
     "text": [
      "\nCurr date is 20180626\nLast traded price: 2350.92\nFluctuation ratio: -0.30%\nTraded volume:     460975\nTraded price:      6330085\n\nCurr date is 20180625\nLast traded price: 2357.88\nFluctuation ratio: +0.03%\nTraded volume:     407061\nTraded price:      5558536\n\nCurr date is 20180622\nLast traded price: 2357.22\nFluctuation ratio: +0.83%\nTraded volume:     531047\nTraded price:      6516521\n\nCurr date is 20180621\nLast traded price: 2337.83\nFluctuation ratio: -1.10%\nTraded volume:     430173\nTraded price:      6678939\n\nCurr date is 20180620\nLast traded price: 2363.91\nFluctuation ratio: +1.02%\nTraded volume:     446636\nTraded price:      6801341\n\nCurr date is 20180619\nLast traded price: 2340.11\nFluctuation ratio: -1.52%\nTraded volume:     600425\nTraded price:      7898320\n"
     ]
    },
    {
     "name": "stdout",
     "output_type": "stream",
     "text": [
      "\nCurr date is 20180618\nLast traded price: 2376.24\nFluctuation ratio: -1.16%\nTraded volume:     558944\nTraded price:      8466870\n\nCurr date is 20180615\nLast traded price: 2404.04\nFluctuation ratio: -0.80%\nTraded volume:     494944\nTraded price:      8930106\n\nCurr date is 20180614\nLast traded price: 2423.48\nFluctuation ratio: -1.84%\nTraded volume:     524315\nTraded price:      9453450\n\nCurr date is 20180612\nLast traded price: 2468.83\nFluctuation ratio: -0.05%\nTraded volume:     601581\nTraded price:      9401666\n\nCurr date is 20180611\nLast traded price: 2470.15\nFluctuation ratio: +0.76%\nTraded volume:     414291\nTraded price:      6812991\n\nCurr date is 20180608\nLast traded price: 2451.58\nFluctuation ratio: -0.77%\nTraded volume:     510912\nTraded price:      7199163\n"
     ]
    },
    {
     "name": "stdout",
     "output_type": "stream",
     "text": [
      "\nCurr date is 20180607\nLast traded price: 2470.58\nFluctuation ratio: +0.69%\nTraded volume:     466498\nTraded price:      7871013\n\nCurr date is 20180605\nLast traded price: 2453.76\nFluctuation ratio: +0.25%\nTraded volume:     485339\nTraded price:      6918184\n\nCurr date is 20180604\nLast traded price: 2447.76\nFluctuation ratio: +0.36%\nTraded volume:     433245\nTraded price:      7560864\n\nCurr date is 20180601\nLast traded price: 2438.96\nFluctuation ratio: +0.66%\nTraded volume:     596231\nTraded price:      8620941\n\nCurr date is 20180531\nLast traded price: 2423.01\nFluctuation ratio: +0.58%\nTraded volume:     763555\nTraded price:      11704977\n\nCurr date is 20180530\nLast traded price: 2409.03\nFluctuation ratio: -1.96%\nTraded volume:     565116\nTraded price:      8868746\n"
     ]
    },
    {
     "name": "stdout",
     "output_type": "stream",
     "text": [
      "\nCurr date is 20180529\nLast traded price: 2457.25\nFluctuation ratio: -0.88%\nTraded volume:     561144\nTraded price:      8366204\n\nCurr date is 20180528\nLast traded price: 2478.96\nFluctuation ratio: +0.74%\nTraded volume:     702198\nTraded price:      9746572\n\nCurr date is 20180525\nLast traded price: 2460.80\nFluctuation ratio: -0.21%\nTraded volume:     643140\nTraded price:      8894027\n\nCurr date is 20180524\nLast traded price: 2466.01\nFluctuation ratio: -0.24%\nTraded volume:     630651\nTraded price:      6674083\n\nCurr date is 20180523\nLast traded price: 2471.91\nFluctuation ratio: +0.26%\nTraded volume:     746409\nTraded price:      9128873\n\nCurr date is 20180521\nLast traded price: 2465.57\nFluctuation ratio: +0.20%\nTraded volume:     570415\nTraded price:      5970839\n"
     ]
    },
    {
     "name": "stdout",
     "output_type": "stream",
     "text": [
      "\nCurr date is 20180518\nLast traded price: 2460.65\nFluctuation ratio: +0.50%\nTraded volume:     424422\nTraded price:      6349266\n\nCurr date is 20180517\nLast traded price: 2448.45\nFluctuation ratio: -0.46%\nTraded volume:     588984\nTraded price:      8078307\n\nCurr date is 20180516\nLast traded price: 2459.82\nFluctuation ratio: +0.05%\nTraded volume:     658999\nTraded price:      9622626\n\nCurr date is 20180515\nLast traded price: 2458.54\nFluctuation ratio: -0.71%\nTraded volume:     701110\nTraded price:      9199653\n\nCurr date is 20180514\nLast traded price: 2476.11\nFluctuation ratio: -0.06%\nTraded volume:     643665\nTraded price:      9458107\n\nCurr date is 20180511\nLast traded price: 2477.71\nFluctuation ratio: +0.55%\nTraded volume:     591109\nTraded price:      7433096\n"
     ]
    },
    {
     "name": "stdout",
     "output_type": "stream",
     "text": [
      "\nCurr date is 20180510\nLast traded price: 2464.16\nFluctuation ratio: +0.83%\nTraded volume:     483938\nTraded price:      8742520\n\nCurr date is 20180509\nLast traded price: 2443.98\nFluctuation ratio: -0.24%\nTraded volume:     581993\nTraded price:      8874001\n\nCurr date is 20180508\nLast traded price: 2449.81\nFluctuation ratio: -0.47%\nTraded volume:     702950\nTraded price:      9456696\n\nCurr date is 20180504\nLast traded price: 2461.38\nFluctuation ratio: -1.04%\nTraded volume:     599881\nTraded price:      10607576\n\nCurr date is 20180503\nLast traded price: 2487.25\nFluctuation ratio: -0.73%\nTraded volume:     595878\nTraded price:      7424016\n\nCurr date is 20180502\nLast traded price: 2505.61\nFluctuation ratio: -0.39%\nTraded volume:     792173\nTraded price:      11498794\n"
     ]
    },
    {
     "name": "stdout",
     "output_type": "stream",
     "text": [
      "\nCurr date is 20180430\nLast traded price: 2515.38\nFluctuation ratio: +0.92%\nTraded volume:     740489\nTraded price:      9339569\n\nCurr date is 20180427\nLast traded price: 2492.40\nFluctuation ratio: +0.68%\nTraded volume:     454385\nTraded price:      7999045\n\nCurr date is 20180426\nLast traded price: 2475.64\nFluctuation ratio: +1.10%\nTraded volume:     514404\nTraded price:      7786343\n\nCurr date is 20180425\nLast traded price: 2448.81\nFluctuation ratio: -0.62%\nTraded volume:     455297\nTraded price:      7193519\n\nCurr date is 20180424\nLast traded price: 2464.14\nFluctuation ratio: -0.40%\nTraded volume:     519415\nTraded price:      8176746\n\nCurr date is 20180423\nLast traded price: 2474.11\nFluctuation ratio: -0.09%\nTraded volume:     690535\nTraded price:      9048399\n"
     ]
    },
    {
     "name": "stdout",
     "output_type": "stream",
     "text": [
      "\nCurr date is 20180420\nLast traded price: 2476.33\nFluctuation ratio: -0.39%\nTraded volume:     526134\nTraded price:      7714911\n\nCurr date is 20180419\nLast traded price: 2486.10\nFluctuation ratio: +0.25%\nTraded volume:     718263\nTraded price:      9996097\n\nCurr date is 20180418\nLast traded price: 2479.98\nFluctuation ratio: +1.07%\nTraded volume:     639823\nTraded price:      8073025\n\nCurr date is 20180417\nLast traded price: 2453.77\nFluctuation ratio: -0.15%\nTraded volume:     389176\nTraded price:      6234284\n\nCurr date is 20180416\nLast traded price: 2457.49\nFluctuation ratio: +0.10%\nTraded volume:     338976\nTraded price:      6081546\n\nCurr date is 20180413\nLast traded price: 2455.07\nFluctuation ratio: +0.51%\nTraded volume:     391735\nTraded price:      6811500\n"
     ]
    },
    {
     "name": "stdout",
     "output_type": "stream",
     "text": [
      "\nCurr date is 20180412\nLast traded price: 2442.71\nFluctuation ratio: -0.06%\nTraded volume:     436103\nTraded price:      8003146\n\nCurr date is 20180411\nLast traded price: 2444.22\nFluctuation ratio: -0.27%\nTraded volume:     346729\nTraded price:      6775187\n\nCurr date is 20180410\nLast traded price: 2450.74\nFluctuation ratio: +0.27%\nTraded volume:     352614\nTraded price:      7394092\n\nCurr date is 20180409\nLast traded price: 2444.08\nFluctuation ratio: +0.60%\nTraded volume:     330877\nTraded price:      6534322\n\nCurr date is 20180406\nLast traded price: 2429.58\nFluctuation ratio: -0.33%\nTraded volume:     446361\nTraded price:      6907824\n\nCurr date is 20180405\nLast traded price: 2437.52\nFluctuation ratio: +1.22%\nTraded volume:     574657\nTraded price:      7170620\n"
     ]
    },
    {
     "name": "stdout",
     "output_type": "stream",
     "text": [
      "\nCurr date is 20180404\nLast traded price: 2408.06\nFluctuation ratio: -1.41%\nTraded volume:     544684\nTraded price:      7949411\n\nCurr date is 20180403\nLast traded price: 2442.43\nFluctuation ratio: -0.07%\nTraded volume:     487473\nTraded price:      7531078\n\nCurr date is 20180402\nLast traded price: 2444.16\nFluctuation ratio: -0.07%\nTraded volume:     386502\nTraded price:      6606893\n\nCurr date is 20180330\nLast traded price: 2445.85\nFluctuation ratio: +0.39%\nTraded volume:     390118\nTraded price:      6360192\n\nCurr date is 20180329\nLast traded price: 2436.37\nFluctuation ratio: +0.71%\nTraded volume:     328350\nTraded price:      6778118\n\nCurr date is 20180328\nLast traded price: 2419.29\nFluctuation ratio: -1.34%\nTraded volume:     494987\nTraded price:      7617202\n"
     ]
    },
    {
     "name": "stdout",
     "output_type": "stream",
     "text": [
      "\nCurr date is 20180327\nLast traded price: 2452.06\nFluctuation ratio: +0.61%\nTraded volume:     326893\nTraded price:      6193178\n\nCurr date is 20180326\nLast traded price: 2437.08\nFluctuation ratio: +0.84%\nTraded volume:     303483\nTraded price:      5856428\n\nCurr date is 20180323\nLast traded price: 2416.76\nFluctuation ratio: -3.18%\nTraded volume:     452529\nTraded price:      7821183\n\nCurr date is 20180322\nLast traded price: 2496.02\nFluctuation ratio: +0.44%\nTraded volume:     475166\nTraded price:      7036668\n\nCurr date is 20180321\nLast traded price: 2484.97\nFluctuation ratio: -0.02%\nTraded volume:     391077\nTraded price:      5726392\n\nCurr date is 20180320\nLast traded price: 2485.52\nFluctuation ratio: +0.42%\nTraded volume:     286351\nTraded price:      5258085\n"
     ]
    },
    {
     "name": "stdout",
     "output_type": "stream",
     "text": [
      "\nCurr date is 20180319\nLast traded price: 2475.03\nFluctuation ratio: -0.76%\nTraded volume:     471371\nTraded price:      5870051\n\nCurr date is 20180316\nLast traded price: 2493.97\nFluctuation ratio: +0.06%\nTraded volume:     372335\nTraded price:      6390764\n\nCurr date is 20180315\nLast traded price: 2492.38\nFluctuation ratio: +0.25%\nTraded volume:     338119\nTraded price:      5935122\n\nCurr date is 20180314\nLast traded price: 2486.08\nFluctuation ratio: -0.34%\nTraded volume:     357035\nTraded price:      6258941\n\nCurr date is 20180313\nLast traded price: 2494.49\nFluctuation ratio: +0.42%\nTraded volume:     345467\nTraded price:      7711486\n\nCurr date is 20180312\nLast traded price: 2484.12\nFluctuation ratio: +1.00%\nTraded volume:     384438\nTraded price:      6461962\n"
     ]
    },
    {
     "name": "stdout",
     "output_type": "stream",
     "text": [
      "\nCurr date is 20180309\nLast traded price: 2459.45\nFluctuation ratio: +1.08%\nTraded volume:     433528\nTraded price:      8462303\n\nCurr date is 20180308\nLast traded price: 2433.08\nFluctuation ratio: +1.30%\nTraded volume:     390663\nTraded price:      8874554\n\nCurr date is 20180307\nLast traded price: 2401.82\nFluctuation ratio: -0.40%\nTraded volume:     405847\nTraded price:      8021306\n\nCurr date is 20180306\nLast traded price: 2411.41\nFluctuation ratio: +1.53%\nTraded volume:     395970\nTraded price:      6511195\n\nCurr date is 20180305\nLast traded price: 2375.06\nFluctuation ratio: -1.13%\nTraded volume:     304709\nTraded price:      5661399\n\nCurr date is 20180302\nLast traded price: 2402.16\nFluctuation ratio: -1.04%\nTraded volume:     313216\nTraded price:      5922137\n"
     ]
    },
    {
     "name": "stdout",
     "output_type": "stream",
     "text": [
      "\nCurr date is 20180228\nLast traded price: 2427.36\nFluctuation ratio: -1.17%\nTraded volume:     362320\nTraded price:      6880404\n\nCurr date is 20180227\nLast traded price: 2456.14\nFluctuation ratio: -0.06%\nTraded volume:     267033\nTraded price:      5529977\n\nCurr date is 20180226\nLast traded price: 2457.65\nFluctuation ratio: +0.25%\nTraded volume:     312799\nTraded price:      5237162\n\nCurr date is 20180223\nLast traded price: 2451.52\nFluctuation ratio: +1.54%\nTraded volume:     295960\nTraded price:      5252346\n\nCurr date is 20180222\nLast traded price: 2414.28\nFluctuation ratio: -0.63%\nTraded volume:     344874\nTraded price:      4852354\n\nCurr date is 20180221\nLast traded price: 2429.65\nFluctuation ratio: +0.60%\nTraded volume:     426468\nTraded price:      5965325\n"
     ]
    },
    {
     "name": "stdout",
     "output_type": "stream",
     "text": [
      "\nCurr date is 20180220\nLast traded price: 2415.12\nFluctuation ratio: -1.13%\nTraded volume:     416872\nTraded price:      5070518\n\nCurr date is 20180219\nLast traded price: 2442.82\nFluctuation ratio: +0.87%\nTraded volume:     319304\nTraded price:      5762731\n\nCurr date is 20180214\nLast traded price: 2421.83\nFluctuation ratio: +1.11%\nTraded volume:     301972\nTraded price:      5775035\n\nCurr date is 20180213\nLast traded price: 2395.19\nFluctuation ratio: +0.41%\nTraded volume:     417091\nTraded price:      7238195\n\nCurr date is 20180212\nLast traded price: 2385.38\nFluctuation ratio: +0.91%\nTraded volume:     344787\nTraded price:      6418943\n\nCurr date is 20180209\nLast traded price: 2363.77\nFluctuation ratio: -1.82%\nTraded volume:     479069\nTraded price:      8338662\n"
     ]
    },
    {
     "name": "stdout",
     "output_type": "stream",
     "text": [
      "\nCurr date is 20180208\nLast traded price: 2407.62\nFluctuation ratio: +0.46%\nTraded volume:     357642\nTraded price:      7118564\n\nCurr date is 20180207\nLast traded price: 2396.56\nFluctuation ratio: -2.31%\nTraded volume:     452554\nTraded price:      8246544\n\nCurr date is 20180206\nLast traded price: 2453.31\nFluctuation ratio: -1.54%\nTraded volume:     568137\nTraded price:      9287236\n\nCurr date is 20180205\nLast traded price: 2491.75\nFluctuation ratio: -1.33%\nTraded volume:     438171\nTraded price:      7851068\n\nCurr date is 20180202\nLast traded price: 2525.39\nFluctuation ratio: -1.68%\nTraded volume:     476479\nTraded price:      8005598\n\nCurr date is 20180201\nLast traded price: 2568.54\nFluctuation ratio: +0.08%\nTraded volume:     588190\nTraded price:      7778128\n"
     ]
    },
    {
     "name": "stdout",
     "output_type": "stream",
     "text": [
      "\nCurr date is 20180131\nLast traded price: 2566.46\nFluctuation ratio: -0.05%\nTraded volume:     396901\nTraded price:      10734828\n\nCurr date is 20180130\nLast traded price: 2567.74\nFluctuation ratio: -1.17%\nTraded volume:     390163\nTraded price:      7718479\n\nCurr date is 20180129\nLast traded price: 2598.19\nFluctuation ratio: +0.91%\nTraded volume:     433309\nTraded price:      7801187\n\nCurr date is 20180126\nLast traded price: 2574.76\nFluctuation ratio: +0.49%\nTraded volume:     395997\nTraded price:      7560744\n\nCurr date is 20180125\nLast traded price: 2562.23\nFluctuation ratio: +0.95%\nTraded volume:     507159\nTraded price:      7681633\n\nCurr date is 20180124\nLast traded price: 2538.00\nFluctuation ratio: +0.06%\nTraded volume:     362339\nTraded price:      6553061\n"
     ]
    },
    {
     "name": "stdout",
     "output_type": "stream",
     "text": [
      "\nCurr date is 20180123\nLast traded price: 2536.60\nFluctuation ratio: +1.38%\nTraded volume:     366447\nTraded price:      6721970\n\nCurr date is 20180122\nLast traded price: 2502.11\nFluctuation ratio: -0.72%\nTraded volume:     311820\nTraded price:      6071963\n\nCurr date is 20180119\nLast traded price: 2520.26\nFluctuation ratio: +0.18%\nTraded volume:     345210\nTraded price:      6144398\n\nCurr date is 20180118\nLast traded price: 2515.81\nFluctuation ratio: +0.02%\nTraded volume:     329221\nTraded price:      6337020\n\nCurr date is 20180117\nLast traded price: 2515.43\nFluctuation ratio: -0.25%\nTraded volume:     333496\nTraded price:      6213890\n\nCurr date is 20180116\nLast traded price: 2521.74\nFluctuation ratio: +0.72%\nTraded volume:     337355\nTraded price:      6468572\n"
     ]
    },
    {
     "name": "stdout",
     "output_type": "stream",
     "text": [
      "\nCurr date is 20180115\nLast traded price: 2503.73\nFluctuation ratio: +0.29%\nTraded volume:     400665\nTraded price:      6049290\n\nCurr date is 20180112\nLast traded price: 2496.42\nFluctuation ratio: +0.34%\nTraded volume:     432737\nTraded price:      8633370\n\nCurr date is 20180111\nLast traded price: 2487.91\nFluctuation ratio: -0.47%\nTraded volume:     419706\nTraded price:      7524032\n\nCurr date is 20180110\nLast traded price: 2499.75\nFluctuation ratio: -0.42%\nTraded volume:     440082\nTraded price:      8436244\n\nCurr date is 20180109\nLast traded price: 2510.23\nFluctuation ratio: -0.12%\nTraded volume:     369650\nTraded price:      7232666\n\nCurr date is 20180108\nLast traded price: 2513.28\nFluctuation ratio: +0.63%\nTraded volume:     308890\nTraded price:      6272255\n"
     ]
    },
    {
     "name": "stdout",
     "output_type": "stream",
     "text": [
      "\nCurr date is 20180105\nLast traded price: 2497.52\nFluctuation ratio: +1.26%\nTraded volume:     305294\nTraded price:      6157141\n\nCurr date is 20180104\nLast traded price: 2466.46\nFluctuation ratio: -0.80%\nTraded volume:     329629\nTraded price:      6793010\n\nCurr date is 20180103\nLast traded price: 2486.35\nFluctuation ratio: +0.27%\nTraded volume:     327335\nTraded price:      5961915\n\nCurr date is 20180102\nLast traded price: 2479.65\nFluctuation ratio: +0.49%\nTraded volume:     230256\nTraded price:      4600669\n\nCurr date is 20171228\nLast traded price: 2467.49\nFluctuation ratio: +1.26%\nTraded volume:     194553\nTraded price:      4137201\n\nCurr date is 20171227\nLast traded price: 2436.67\nFluctuation ratio: +0.38%\nTraded volume:     191010\nTraded price:      4780622\n"
     ]
    },
    {
     "name": "stdout",
     "output_type": "stream",
     "text": [
      "\nCurr date is 20171226\nLast traded price: 2427.34\nFluctuation ratio: -0.54%\nTraded volume:     222124\nTraded price:      5565594\n\nCurr date is 20171222\nLast traded price: 2440.54\nFluctuation ratio: +0.44%\nTraded volume:     221607\nTraded price:      4412457\n\nCurr date is 20171221\nLast traded price: 2429.83\nFluctuation ratio: -1.72%\nTraded volume:     244206\nTraded price:      5244389\n\nCurr date is 20171220\nLast traded price: 2472.37\nFluctuation ratio: -0.25%\nTraded volume:     228367\nTraded price:      4598623\n\nCurr date is 20171219\nLast traded price: 2478.53\nFluctuation ratio: -0.13%\nTraded volume:     304891\nTraded price:      5077282\n\nCurr date is 20171218\nLast traded price: 2481.88\nFluctuation ratio: -0.01%\nTraded volume:     320277\nTraded price:      4386470\n"
     ]
    },
    {
     "name": "stdout",
     "output_type": "stream",
     "text": [
      "\nCurr date is 20171215\nLast traded price: 2482.07\nFluctuation ratio: +0.51%\nTraded volume:     334880\nTraded price:      5827241\n\nCurr date is 20171214\nLast traded price: 2469.48\nFluctuation ratio: -0.45%\nTraded volume:     313627\nTraded price:      8117024\n\nCurr date is 20171213\nLast traded price: 2480.55\nFluctuation ratio: +0.79%\nTraded volume:     251104\nTraded price:      5028083\n\nCurr date is 20171212\nLast traded price: 2461.00\nFluctuation ratio: -0.42%\nTraded volume:     276731\nTraded price:      5067775\n\nCurr date is 20171211\nLast traded price: 2471.49\nFluctuation ratio: +0.30%\nTraded volume:     237574\nTraded price:      4535716\n\nCurr date is 20171208\nLast traded price: 2464.00\nFluctuation ratio: +0.08%\nTraded volume:     401810\nTraded price:      5322978\n"
     ]
    },
    {
     "name": "stdout",
     "output_type": "stream",
     "text": [
      "\nCurr date is 20171207\nLast traded price: 2461.98\nFluctuation ratio: -0.50%\nTraded volume:     396854\nTraded price:      6032323\n\nCurr date is 20171206\nLast traded price: 2474.37\nFluctuation ratio: -1.42%\nTraded volume:     503764\nTraded price:      6566485\n\nCurr date is 20171205\nLast traded price: 2510.12\nFluctuation ratio: +0.34%\nTraded volume:     387710\nTraded price:      5825907\n\nCurr date is 20171204\nLast traded price: 2501.67\nFluctuation ratio: +1.06%\nTraded volume:     320891\nTraded price:      5931824\n\nCurr date is 20171201\nLast traded price: 2475.41\nFluctuation ratio: -0.04%\nTraded volume:     284017\nTraded price:      5441949\n\nCurr date is 20171130\nLast traded price: 2476.37\nFluctuation ratio: -1.45%\nTraded volume:     333737\nTraded price:      9128523\n"
     ]
    },
    {
     "name": "stdout",
     "output_type": "stream",
     "text": [
      "\nCurr date is 20171129\nLast traded price: 2512.90\nFluctuation ratio: -0.05%\nTraded volume:     295469\nTraded price:      5147961\n\nCurr date is 20171128\nLast traded price: 2514.19\nFluctuation ratio: +0.25%\nTraded volume:     335316\nTraded price:      6153942\n\nCurr date is 20171127\nLast traded price: 2507.81\nFluctuation ratio: -1.44%\nTraded volume:     282245\nTraded price:      6200078\n\nCurr date is 20171124\nLast traded price: 2544.33\nFluctuation ratio: +0.28%\nTraded volume:     294322\nTraded price:      4398371\n\nCurr date is 20171123\nLast traded price: 2537.15\nFluctuation ratio: -0.13%\nTraded volume:     375211\nTraded price:      5018884\n\nCurr date is 20171122\nLast traded price: 2540.51\nFluctuation ratio: +0.39%\nTraded volume:     477887\nTraded price:      7050941\n"
     ]
    },
    {
     "name": "stdout",
     "output_type": "stream",
     "text": [
      "\nCurr date is 20171121\nLast traded price: 2530.70\nFluctuation ratio: +0.12%\nTraded volume:     456780\nTraded price:      6539752\n\nCurr date is 20171120\nLast traded price: 2527.67\nFluctuation ratio: -0.25%\nTraded volume:     400757\nTraded price:      5802109\n\nCurr date is 20171117\nLast traded price: 2533.99\nFluctuation ratio: -0.03%\nTraded volume:     355217\nTraded price:      6464810\n\nCurr date is 20171116\nLast traded price: 2534.79\nFluctuation ratio: +0.66%\nTraded volume:     296914\nTraded price:      5544638\n\nCurr date is 20171115\nLast traded price: 2518.25\nFluctuation ratio: -0.33%\nTraded volume:     394260\nTraded price:      7195457\n\nCurr date is 20171114\nLast traded price: 2526.64\nFluctuation ratio: -0.15%\nTraded volume:     283653\nTraded price:      5672080\n"
     ]
    },
    {
     "name": "stdout",
     "output_type": "stream",
     "text": [
      "\nCurr date is 20171113\nLast traded price: 2530.35\nFluctuation ratio: -0.50%\nTraded volume:     263652\nTraded price:      6005419\n\nCurr date is 20171110\nLast traded price: 2542.95\nFluctuation ratio: -0.30%\nTraded volume:     287091\nTraded price:      5374842\n\nCurr date is 20171109\nLast traded price: 2550.57\nFluctuation ratio: -0.07%\nTraded volume:     285527\nTraded price:      6834485\n\nCurr date is 20171108\nLast traded price: 2552.40\nFluctuation ratio: +0.27%\nTraded volume:     264089\nTraded price:      5534995\n\nCurr date is 20171107\nLast traded price: 2545.44\nFluctuation ratio: -0.16%\nTraded volume:     228782\nTraded price:      5256211\n\nCurr date is 20171106\nLast traded price: 2549.41\nFluctuation ratio: -0.33%\nTraded volume:     218320\nTraded price:      5370842\n"
     ]
    },
    {
     "name": "stdout",
     "output_type": "stream",
     "text": [
      "\nCurr date is 20171103\nLast traded price: 2557.97\nFluctuation ratio: +0.46%\nTraded volume:     289688\nTraded price:      5446755\n\nCurr date is 20171102\nLast traded price: 2546.36\nFluctuation ratio: -0.40%\nTraded volume:     521833\nTraded price:      6152236\n\nCurr date is 20171101\nLast traded price: 2556.47\nFluctuation ratio: +1.31%\nTraded volume:     356826\nTraded price:      7391095\n\nCurr date is 20171031\nLast traded price: 2523.43\nFluctuation ratio: +0.86%\nTraded volume:     310039\nTraded price:      7613000\n\nCurr date is 20171030\nLast traded price: 2501.93\nFluctuation ratio: +0.21%\nTraded volume:     338226\nTraded price:      6931243\n\nCurr date is 20171027\nLast traded price: 2496.63\nFluctuation ratio: +0.64%\nTraded volume:     504558\nTraded price:      6248403\n"
     ]
    },
    {
     "name": "stdout",
     "output_type": "stream",
     "text": [
      "\nCurr date is 20171026\nLast traded price: 2480.63\nFluctuation ratio: -0.48%\nTraded volume:     638066\nTraded price:      7053012\n\nCurr date is 20171025\nLast traded price: 2492.50\nFluctuation ratio: +0.08%\nTraded volume:     592530\nTraded price:      5030066\n\nCurr date is 20171024\nLast traded price: 2490.49\nFluctuation ratio: +0.02%\nTraded volume:     229390\nTraded price:      4555677\n\nCurr date is 20171023\nLast traded price: 2490.05\nFluctuation ratio: +0.02%\nTraded volume:     271631\nTraded price:      4700464\n\nCurr date is 20171020\nLast traded price: 2489.54\nFluctuation ratio: +0.67%\nTraded volume:     310206\nTraded price:      5583132\n\nCurr date is 20171019\nLast traded price: 2473.06\nFluctuation ratio: -0.40%\nTraded volume:     232520\nTraded price:      6747041\n"
     ]
    },
    {
     "name": "stdout",
     "output_type": "stream",
     "text": [
      "\nCurr date is 20171018\nLast traded price: 2482.91\nFluctuation ratio: -0.06%\nTraded volume:     241172\nTraded price:      5720798\n\nCurr date is 20171017\nLast traded price: 2484.37\nFluctuation ratio: +0.17%\nTraded volume:     193143\nTraded price:      5235998\n\nCurr date is 20171016\nLast traded price: 2480.05\nFluctuation ratio: +0.26%\nTraded volume:     222635\nTraded price:      6091173\n\nCurr date is 20171013\nLast traded price: 2473.62\nFluctuation ratio: -0.05%\nTraded volume:     233435\nTraded price:      6777388\n\nCurr date is 20171012\nLast traded price: 2474.76\nFluctuation ratio: +0.68%\nTraded volume:     254043\nTraded price:      6204977\n\nCurr date is 20171011\nLast traded price: 2458.16\nFluctuation ratio: +1.00%\nTraded volume:     193818\nTraded price:      5661122\n"
     ]
    },
    {
     "name": "stdout",
     "output_type": "stream",
     "text": [
      "\nCurr date is 20171010\nLast traded price: 2433.81\nFluctuation ratio: +1.64%\nTraded volume:     218207\nTraded price:      7257927\n\nCurr date is 20170929\nLast traded price: 2394.47\nFluctuation ratio: +0.90%\nTraded volume:     181312\nTraded price:      4523889\n\nCurr date is 20170928\nLast traded price: 2373.14\nFluctuation ratio: +0.02%\nTraded volume:     190736\nTraded price:      4536118\n\nCurr date is 20170927\nLast traded price: 2372.57\nFluctuation ratio: -0.07%\nTraded volume:     197422\nTraded price:      4329844\n\nCurr date is 20170926\nLast traded price: 2374.32\nFluctuation ratio: -0.26%\nTraded volume:     297258\nTraded price:      5648192\n\nCurr date is 20170925\nLast traded price: 2380.40\nFluctuation ratio: -0.35%\nTraded volume:     325051\nTraded price:      4756942\n"
     ]
    },
    {
     "name": "stdout",
     "output_type": "stream",
     "text": [
      "\nCurr date is 20170922\nLast traded price: 2388.71\nFluctuation ratio: -0.74%\nTraded volume:     321157\nTraded price:      6007316\n\nCurr date is 20170921\nLast traded price: 2406.50\nFluctuation ratio: -0.24%\nTraded volume:     323029\nTraded price:      5255344\n\nCurr date is 20170920\nLast traded price: 2412.20\nFluctuation ratio: -0.16%\nTraded volume:     294688\nTraded price:      5533487\n\nCurr date is 20170919\nLast traded price: 2416.05\nFluctuation ratio: -0.09%\nTraded volume:     248446\nTraded price:      5242241\n\nCurr date is 20170918\nLast traded price: 2418.21\nFluctuation ratio: +1.35%\nTraded volume:     267261\nTraded price:      5129632\n\nCurr date is 20170915\nLast traded price: 2386.07\nFluctuation ratio: +0.35%\nTraded volume:     290977\nTraded price:      6169399\n"
     ]
    },
    {
     "name": "stdout",
     "output_type": "stream",
     "text": [
      "\nCurr date is 20170914\nLast traded price: 2377.66\nFluctuation ratio: +0.74%\nTraded volume:     283106\nTraded price:      6382132\n\nCurr date is 20170913\nLast traded price: 2360.18\nFluctuation ratio: -0.22%\nTraded volume:     315200\nTraded price:      5885366\n\nCurr date is 20170912\nLast traded price: 2365.47\nFluctuation ratio: +0.27%\nTraded volume:     328353\nTraded price:      4858629\n\nCurr date is 20170911\nLast traded price: 2359.08\nFluctuation ratio: +0.66%\nTraded volume:     238775\nTraded price:      4830722\n\nCurr date is 20170908\nLast traded price: 2343.72\nFluctuation ratio: -0.11%\nTraded volume:     210760\nTraded price:      4494042\n\nCurr date is 20170907\nLast traded price: 2346.19\nFluctuation ratio: +1.14%\nTraded volume:     274281\nTraded price:      4625003\n"
     ]
    },
    {
     "name": "stdout",
     "output_type": "stream",
     "text": [
      "\nCurr date is 20170906\nLast traded price: 2319.82\nFluctuation ratio: -0.29%\nTraded volume:     248852\nTraded price:      5219225\n\nCurr date is 20170905\nLast traded price: 2326.62\nFluctuation ratio: -0.13%\nTraded volume:     317086\nTraded price:      4761011\n\nCurr date is 20170904\nLast traded price: 2329.65\nFluctuation ratio: -1.19%\nTraded volume:     244705\nTraded price:      4323320\n\nCurr date is 20170901\nLast traded price: 2357.69\nFluctuation ratio: -0.23%\nTraded volume:     277015\nTraded price:      4668562\n\nCurr date is 20170831\nLast traded price: 2363.19\nFluctuation ratio: -0.38%\nTraded volume:     256744\nTraded price:      5118788\n\nCurr date is 20170830\nLast traded price: 2372.29\nFluctuation ratio: +0.32%\nTraded volume:     302139\nTraded price:      4508976\n"
     ]
    },
    {
     "name": "stdout",
     "output_type": "stream",
     "text": [
      "\nCurr date is 20170829\nLast traded price: 2364.74\nFluctuation ratio: -0.23%\nTraded volume:     215209\nTraded price:      4292590\n\nCurr date is 20170828\nLast traded price: 2370.30\nFluctuation ratio: -0.35%\nTraded volume:     224349\nTraded price:      3938851\n\nCurr date is 20170825\nLast traded price: 2378.51\nFluctuation ratio: +0.11%\nTraded volume:     337558\nTraded price:      4550255\n\nCurr date is 20170824\nLast traded price: 2375.84\nFluctuation ratio: +0.40%\nTraded volume:     290542\nTraded price:      4586970\n\nCurr date is 20170823\nLast traded price: 2366.40\nFluctuation ratio: +0.05%\nTraded volume:     225089\nTraded price:      3918332\n\nCurr date is 20170822\nLast traded price: 2365.33\nFluctuation ratio: +0.44%\nTraded volume:     245756\nTraded price:      3827475\n"
     ]
    },
    {
     "name": "stdout",
     "output_type": "stream",
     "text": [
      "\nCurr date is 20170821\nLast traded price: 2355.00\nFluctuation ratio: -0.14%\nTraded volume:     204501\nTraded price:      3753501\n\nCurr date is 20170818\nLast traded price: 2358.37\nFluctuation ratio: -0.14%\nTraded volume:     195804\nTraded price:      4052539\n\nCurr date is 20170817\nLast traded price: 2361.67\nFluctuation ratio: +0.57%\nTraded volume:     226209\nTraded price:      4423177\n\nCurr date is 20170816\nLast traded price: 2348.26\nFluctuation ratio: +0.60%\nTraded volume:     265554\nTraded price:      6083455\n\nCurr date is 20170814\nLast traded price: 2334.22\nFluctuation ratio: +0.63%\nTraded volume:     209149\nTraded price:      4567658\n\nCurr date is 20170811\nLast traded price: 2319.71\nFluctuation ratio: -1.69%\nTraded volume:     301884\nTraded price:      6110194\n"
     ]
    },
    {
     "name": "stdout",
     "output_type": "stream",
     "text": [
      "\nCurr date is 20170810\nLast traded price: 2359.47\nFluctuation ratio: -0.38%\nTraded volume:     277743\nTraded price:      6170553\n\nCurr date is 20170809\nLast traded price: 2368.39\nFluctuation ratio: -1.10%\nTraded volume:     231141\nTraded price:      4626754\n\nCurr date is 20170808\nLast traded price: 2394.73\nFluctuation ratio: -0.17%\nTraded volume:     243521\nTraded price:      4509317\n\nCurr date is 20170807\nLast traded price: 2398.75\nFluctuation ratio: +0.14%\nTraded volume:     240716\nTraded price:      4347068\n\nCurr date is 20170804\nLast traded price: 2395.45\nFluctuation ratio: +0.36%\nTraded volume:     270613\nTraded price:      4964700\n\nCurr date is 20170803\nLast traded price: 2386.85\nFluctuation ratio: -1.68%\nTraded volume:     299959\nTraded price:      6426455\n"
     ]
    },
    {
     "name": "stdout",
     "output_type": "stream",
     "text": [
      "\nCurr date is 20170802\nLast traded price: 2427.63\nFluctuation ratio: +0.19%\nTraded volume:     258750\nTraded price:      5245737\n\nCurr date is 20170801\nLast traded price: 2422.96\nFluctuation ratio: +0.84%\nTraded volume:     259277\nTraded price:      5507918\n\nCurr date is 20170731\nLast traded price: 2402.71\nFluctuation ratio: +0.07%\nTraded volume:     273947\nTraded price:      5573466\n\nCurr date is 20170728\nLast traded price: 2400.99\nFluctuation ratio: -1.73%\nTraded volume:     310472\nTraded price:      6880945\n\nCurr date is 20170727\nLast traded price: 2443.24\nFluctuation ratio: +0.36%\nTraded volume:     421732\nTraded price:      5328785\n\nCurr date is 20170726\nLast traded price: 2434.51\nFluctuation ratio: -0.22%\nTraded volume:     332744\nTraded price:      6381831\n"
     ]
    },
    {
     "name": "stdout",
     "output_type": "stream",
     "text": [
      "\nCurr date is 20170725\nLast traded price: 2439.90\nFluctuation ratio: -0.47%\nTraded volume:     270546\nTraded price:      5268495\n\nCurr date is 20170724\nLast traded price: 2451.53\nFluctuation ratio: +0.06%\nTraded volume:     230299\nTraded price:      4552116\n\nCurr date is 20170721\nLast traded price: 2450.06\nFluctuation ratio: +0.34%\nTraded volume:     246051\nTraded price:      5106113\n\nCurr date is 20170720\nLast traded price: 2441.84\nFluctuation ratio: +0.49%\nTraded volume:     246842\nTraded price:      5273110\n\nCurr date is 20170719\nLast traded price: 2429.94\nFluctuation ratio: +0.16%\nTraded volume:     266820\nTraded price:      5024489\n\nCurr date is 20170718\nLast traded price: 2426.04\nFluctuation ratio: +0.04%\nTraded volume:     255640\nTraded price:      4599598\n"
     ]
    },
    {
     "name": "stdout",
     "output_type": "stream",
     "text": [
      "\nCurr date is 20170717\nLast traded price: 2425.10\nFluctuation ratio: +0.43%\nTraded volume:     252165\nTraded price:      4819688\n\nCurr date is 20170714\nLast traded price: 2414.63\nFluctuation ratio: +0.21%\nTraded volume:     227567\nTraded price:      4923178\n\nCurr date is 20170713\nLast traded price: 2409.49\nFluctuation ratio: +0.74%\nTraded volume:     284880\nTraded price:      6039044\n\nCurr date is 20170712\nLast traded price: 2391.77\nFluctuation ratio: -0.18%\nTraded volume:     262780\nTraded price:      4909110\n\nCurr date is 20170711\nLast traded price: 2396.00\nFluctuation ratio: +0.58%\nTraded volume:     280579\nTraded price:      4828173\n\nCurr date is 20170710\nLast traded price: 2382.10\nFluctuation ratio: +0.09%\nTraded volume:     277355\nTraded price:      4852245\n"
     ]
    },
    {
     "name": "stdout",
     "output_type": "stream",
     "text": [
      "\nCurr date is 20170707\nLast traded price: 2379.87\nFluctuation ratio: -0.33%\nTraded volume:     302786\nTraded price:      4972053\n\nCurr date is 20170706\nLast traded price: 2387.81\nFluctuation ratio: -0.02%\nTraded volume:     297829\nTraded price:      4690617\n\nCurr date is 20170705\nLast traded price: 2388.35\nFluctuation ratio: +0.33%\nTraded volume:     329425\nTraded price:      4653208\n\nCurr date is 20170704\nLast traded price: 2380.52\nFluctuation ratio: -0.58%\nTraded volume:     380024\nTraded price:      4753716\n\nCurr date is 20170703\nLast traded price: 2394.48\nFluctuation ratio: +0.11%\nTraded volume:     298367\nTraded price:      4723195\n\nCurr date is 20170630\nLast traded price: 2391.79\nFluctuation ratio: -0.16%\nTraded volume:     332846\nTraded price:      5006232\n"
     ]
    },
    {
     "name": "stdout",
     "output_type": "stream",
     "text": [
      "\nCurr date is 20170629\nLast traded price: 2395.66\nFluctuation ratio: +0.55%\nTraded volume:     433953\nTraded price:      5382031\n\nCurr date is 20170628\nLast traded price: 2382.56\nFluctuation ratio: -0.39%\nTraded volume:     340622\nTraded price:      5792102\n\nCurr date is 20170627\nLast traded price: 2391.95\nFluctuation ratio: +0.14%\nTraded volume:     289294\nTraded price:      5288171\n\nCurr date is 20170626\nLast traded price: 2388.66\nFluctuation ratio: +0.42%\nTraded volume:     315035\nTraded price:      5106047\n\nCurr date is 20170623\nLast traded price: 2378.60\nFluctuation ratio: +0.35%\nTraded volume:     247355\nTraded price:      5316663\n\nCurr date is 20170622\nLast traded price: 2370.37\nFluctuation ratio: +0.54%\nTraded volume:     292215\nTraded price:      6196227\n"
     ]
    },
    {
     "name": "stdout",
     "output_type": "stream",
     "text": [
      "\nCurr date is 20170621\nLast traded price: 2357.53\nFluctuation ratio: -0.49%\nTraded volume:     356210\nTraded price:      6342246\n\nCurr date is 20170620\nLast traded price: 2369.23\nFluctuation ratio: -0.07%\nTraded volume:     346162\nTraded price:      6699487\n\nCurr date is 20170619\nLast traded price: 2370.90\nFluctuation ratio: +0.38%\nTraded volume:     288303\nTraded price:      5350251\n\nCurr date is 20170616\nLast traded price: 2361.83\nFluctuation ratio: +0.01%\nTraded volume:     323929\nTraded price:      5741387\n\nCurr date is 20170615\nLast traded price: 2361.65\nFluctuation ratio: -0.46%\nTraded volume:     331182\nTraded price:      5782641\n\nCurr date is 20170614\nLast traded price: 2372.64\nFluctuation ratio: -0.09%\nTraded volume:     386990\nTraded price:      6630738\n"
     ]
    },
    {
     "name": "stdout",
     "output_type": "stream",
     "text": [
      "\nCurr date is 20170613\nLast traded price: 2374.70\nFluctuation ratio: +0.71%\nTraded volume:     316426\nTraded price:      5566940\n\nCurr date is 20170612\nLast traded price: 2357.87\nFluctuation ratio: -1.00%\nTraded volume:     324051\nTraded price:      5706480\n\nCurr date is 20170609\nLast traded price: 2381.69\nFluctuation ratio: +0.77%\nTraded volume:     511622\nTraded price:      7079217\n\nCurr date is 20170608\nLast traded price: 2363.57\nFluctuation ratio: +0.15%\nTraded volume:     406217\nTraded price:      8230002\n\nCurr date is 20170607\nLast traded price: 2360.14\nFluctuation ratio: -0.36%\nTraded volume:     370971\nTraded price:      6019151\n\nCurr date is 20170605\nLast traded price: 2368.62\nFluctuation ratio: -0.13%\nTraded volume:     322339\nTraded price:      5108416\n"
     ]
    },
    {
     "name": "stdout",
     "output_type": "stream",
     "text": [
      "\nCurr date is 20170602\nLast traded price: 2371.72\nFluctuation ratio: +1.16%\nTraded volume:     392800\nTraded price:      6020076\n\nCurr date is 20170601\nLast traded price: 2344.61\nFluctuation ratio: -0.12%\nTraded volume:     331956\nTraded price:      5281412\n\nCurr date is 20170531\nLast traded price: 2347.38\nFluctuation ratio: +0.16%\nTraded volume:     547956\nTraded price:      8074174\n\nCurr date is 20170530\nLast traded price: 2343.68\nFluctuation ratio: -0.39%\nTraded volume:     504233\nTraded price:      5562928\n\nCurr date is 20170529\nLast traded price: 2352.97\nFluctuation ratio: -0.10%\nTraded volume:     311864\nTraded price:      5529637\n\nCurr date is 20170526\nLast traded price: 2355.30\nFluctuation ratio: +0.53%\nTraded volume:     307992\nTraded price:      5997826\n"
     ]
    },
    {
     "name": "stdout",
     "output_type": "stream",
     "text": [
      "\nCurr date is 20170525\nLast traded price: 2342.93\nFluctuation ratio: +1.10%\nTraded volume:     365865\nTraded price:      6202405\n\nCurr date is 20170524\nLast traded price: 2317.34\nFluctuation ratio: +0.24%\nTraded volume:     380458\nTraded price:      5356389\n\nCurr date is 20170523\nLast traded price: 2311.74\nFluctuation ratio: +0.33%\nTraded volume:     336770\nTraded price:      5523437\n\nCurr date is 20170522\nLast traded price: 2304.03\nFluctuation ratio: +0.68%\nTraded volume:     334555\nTraded price:      5746823\n\nCurr date is 20170519\nLast traded price: 2288.48\nFluctuation ratio: +0.07%\nTraded volume:     415240\nTraded price:      5781274\n\nCurr date is 20170518\nLast traded price: 2286.82\nFluctuation ratio: -0.27%\nTraded volume:     374307\nTraded price:      5830912\n"
     ]
    },
    {
     "name": "stdout",
     "output_type": "stream",
     "text": [
      "\nCurr date is 20170517\nLast traded price: 2293.08\nFluctuation ratio: -0.10%\nTraded volume:     390422\nTraded price:      5619480\n\nCurr date is 20170516\nLast traded price: 2295.33\nFluctuation ratio: +0.20%\nTraded volume:     360348\nTraded price:      6030190\n\nCurr date is 20170515\nLast traded price: 2290.65\nFluctuation ratio: +0.20%\nTraded volume:     248031\nTraded price:      4584965\n\nCurr date is 20170512\nLast traded price: 2286.02\nFluctuation ratio: -0.45%\nTraded volume:     329620\nTraded price:      6322565\n\nCurr date is 20170511\nLast traded price: 2296.37\nFluctuation ratio: +1.16%\nTraded volume:     452586\nTraded price:      7655819\n\nCurr date is 20170510\nLast traded price: 2270.12\nFluctuation ratio: -0.99%\nTraded volume:     418074\nTraded price:      9246965\n"
     ]
    },
    {
     "name": "stdout",
     "output_type": "stream",
     "text": [
      "\nCurr date is 20170508\nLast traded price: 2292.76\nFluctuation ratio: +2.30%\nTraded volume:     277066\nTraded price:      6515874\n\nCurr date is 20170504\nLast traded price: 2241.24\nFluctuation ratio: +0.97%\nTraded volume:     258349\nTraded price:      4558852\n\nCurr date is 20170502\nLast traded price: 2219.67\nFluctuation ratio: +0.65%\nTraded volume:     290920\nTraded price:      4729256\n\nCurr date is 20170428\nLast traded price: 2205.44\nFluctuation ratio: -0.18%\nTraded volume:     263006\nTraded price:      5642090\n\nCurr date is 20170427\nLast traded price: 2209.46\nFluctuation ratio: +0.07%\nTraded volume:     379656\nTraded price:      6331458\n\nCurr date is 20170426\nLast traded price: 2207.84\nFluctuation ratio: +0.50%\nTraded volume:     392619\nTraded price:      5233091\n"
     ]
    },
    {
     "name": "stdout",
     "output_type": "stream",
     "text": [
      "\nCurr date is 20170425\nLast traded price: 2196.85\nFluctuation ratio: +1.06%\nTraded volume:     271584\nTraded price:      4773486\n\nCurr date is 20170424\nLast traded price: 2173.74\nFluctuation ratio: +0.40%\nTraded volume:     367783\nTraded price:      4199089\n\nCurr date is 20170421\nLast traded price: 2165.04\nFluctuation ratio: +0.74%\nTraded volume:     274594\nTraded price:      4625884\n\nCurr date is 20170420\nLast traded price: 2149.15\nFluctuation ratio: +0.50%\nTraded volume:     262011\nTraded price:      4913095\n\nCurr date is 20170419\nLast traded price: 2138.40\nFluctuation ratio: -0.47%\nTraded volume:     337707\nTraded price:      4712842\n\nCurr date is 20170418\nLast traded price: 2148.46\nFluctuation ratio: +0.13%\nTraded volume:     285827\nTraded price:      3825984\n"
     ]
    },
    {
     "name": "stdout",
     "output_type": "stream",
     "text": [
      "\nCurr date is 20170417\nLast traded price: 2145.76\nFluctuation ratio: +0.51%\nTraded volume:     255697\nTraded price:      3627597\n\nCurr date is 20170414\nLast traded price: 2134.88\nFluctuation ratio: -0.64%\nTraded volume:     343005\nTraded price:      3316400\n\nCurr date is 20170413\nLast traded price: 2148.61\nFluctuation ratio: +0.93%\nTraded volume:     331367\nTraded price:      4235180\n\nCurr date is 20170412\nLast traded price: 2128.91\nFluctuation ratio: +0.24%\nTraded volume:     405118\nTraded price:      3804167\n\nCurr date is 20170411\nLast traded price: 2123.85\nFluctuation ratio: -0.44%\nTraded volume:     460270\nTraded price:      4015334\n\nCurr date is 20170410\nLast traded price: 2133.32\nFluctuation ratio: -0.86%\nTraded volume:     498228\nTraded price:      3905851\n"
     ]
    },
    {
     "name": "stdout",
     "output_type": "stream",
     "text": [
      "\nCurr date is 20170407\nLast traded price: 2151.73\nFluctuation ratio: -0.05%\nTraded volume:     389539\nTraded price:      3844501\n\nCurr date is 20170406\nLast traded price: 2152.75\nFluctuation ratio: -0.37%\nTraded volume:     492446\nTraded price:      4053597\n\nCurr date is 20170405\nLast traded price: 2160.85\nFluctuation ratio: -0.01%\nTraded volume:     565731\nTraded price:      4756025\n\nCurr date is 20170404\nLast traded price: 2161.10\nFluctuation ratio: -0.30%\nTraded volume:     517381\nTraded price:      4458294\n\nCurr date is 20170403\nLast traded price: 2167.51\nFluctuation ratio: +0.34%\nTraded volume:     394348\nTraded price:      3912969\n\nCurr date is 20170331\nLast traded price: 2160.23\nFluctuation ratio: -0.20%\nTraded volume:     430109\nTraded price:      4287424\n"
     ]
    },
    {
     "name": "stdout",
     "output_type": "stream",
     "text": [
      "\nCurr date is 20170330\nLast traded price: 2164.64\nFluctuation ratio: -0.11%\nTraded volume:     633510\nTraded price:      4307152\n\nCurr date is 20170329\nLast traded price: 2166.98\nFluctuation ratio: +0.17%\nTraded volume:     621450\nTraded price:      5020911\n\nCurr date is 20170328\nLast traded price: 2163.31\nFluctuation ratio: +0.35%\nTraded volume:     386739\nTraded price:      4940624\n\nCurr date is 20170327\nLast traded price: 2155.66\nFluctuation ratio: -0.61%\nTraded volume:     390904\nTraded price:      5023054\n\nCurr date is 20170324\nLast traded price: 2168.95\nFluctuation ratio: -0.17%\nTraded volume:     354061\nTraded price:      5045821\n\nCurr date is 20170323\nLast traded price: 2172.72\nFluctuation ratio: +0.20%\nTraded volume:     352469\nTraded price:      5020761\n"
     ]
    },
    {
     "name": "stdout",
     "output_type": "stream",
     "text": [
      "\nCurr date is 20170322\nLast traded price: 2168.30\nFluctuation ratio: -0.46%\nTraded volume:     388457\nTraded price:      5455896\n\nCurr date is 20170321\nLast traded price: 2178.38\nFluctuation ratio: +0.99%\nTraded volume:     299277\nTraded price:      5387142\n\nCurr date is 20170320\nLast traded price: 2157.01\nFluctuation ratio: -0.35%\nTraded volume:     261686\nTraded price:      4015840\n\nCurr date is 20170317\nLast traded price: 2164.58\nFluctuation ratio: +0.67%\nTraded volume:     297146\nTraded price:      4830318\n\nCurr date is 20170316\nLast traded price: 2150.08\nFluctuation ratio: +0.80%\nTraded volume:     396164\nTraded price:      5000275\n\nCurr date is 20170315\nLast traded price: 2133.00\nFluctuation ratio: -0.04%\nTraded volume:     370081\nTraded price:      4809634\n"
     ]
    },
    {
     "name": "stdout",
     "output_type": "stream",
     "text": [
      "\nCurr date is 20170314\nLast traded price: 2133.78\nFluctuation ratio: +0.76%\nTraded volume:     361846\nTraded price:      5223872\n\nCurr date is 20170313\nLast traded price: 2117.59\nFluctuation ratio: +0.97%\nTraded volume:     377697\nTraded price:      4567987\n\nCurr date is 20170310\nLast traded price: 2097.35\nFluctuation ratio: +0.30%\nTraded volume:     495183\nTraded price:      5472091\n\nCurr date is 20170309\nLast traded price: 2091.06\nFluctuation ratio: -0.21%\nTraded volume:     400093\nTraded price:      4871564\n\nCurr date is 20170308\nLast traded price: 2095.41\nFluctuation ratio: +0.06%\nTraded volume:     375183\nTraded price:      4378207\n\nCurr date is 20170307\nLast traded price: 2094.05\nFluctuation ratio: +0.61%\nTraded volume:     273759\nTraded price:      3882570\n"
     ]
    },
    {
     "name": "stdout",
     "output_type": "stream",
     "text": [
      "\nCurr date is 20170306\nLast traded price: 2081.36\nFluctuation ratio: +0.13%\nTraded volume:     392183\nTraded price:      4562473\n\nCurr date is 20170303\nLast traded price: 2078.75\nFluctuation ratio: -1.14%\nTraded volume:     407598\nTraded price:      4968494\n\nCurr date is 20170302\nLast traded price: 2102.65\nFluctuation ratio: +0.53%\nTraded volume:     421598\nTraded price:      6017445\n\nCurr date is 20170228\nLast traded price: 2091.64\nFluctuation ratio: +0.29%\nTraded volume:     384438\nTraded price:      4931259\n\nCurr date is 20170227\nLast traded price: 2085.52\nFluctuation ratio: -0.41%\nTraded volume:     333526\nTraded price:      4081679\n\nCurr date is 20170224\nLast traded price: 2094.12\nFluctuation ratio: -0.64%\nTraded volume:     370839\nTraded price:      4872505\n"
     ]
    },
    {
     "name": "stdout",
     "output_type": "stream",
     "text": [
      "\nCurr date is 20170223\nLast traded price: 2107.63\nFluctuation ratio: +0.05%\nTraded volume:     417235\nTraded price:      4470385\n\nCurr date is 20170222\nLast traded price: 2106.61\nFluctuation ratio: +0.17%\nTraded volume:     305328\nTraded price:      3947747\n\nCurr date is 20170221\nLast traded price: 2102.93\nFluctuation ratio: +0.89%\nTraded volume:     287202\nTraded price:      3844521\n\nCurr date is 20170220\nLast traded price: 2084.39\nFluctuation ratio: +0.18%\nTraded volume:     294640\nTraded price:      3267340\n\nCurr date is 20170217\nLast traded price: 2080.58\nFluctuation ratio: -0.06%\nTraded volume:     295874\nTraded price:      4265565\n\nCurr date is 20170216\nLast traded price: 2081.84\nFluctuation ratio: -0.10%\nTraded volume:     324115\nTraded price:      4235001\n"
     ]
    },
    {
     "name": "stdout",
     "output_type": "stream",
     "text": [
      "\nCurr date is 20170215\nLast traded price: 2083.86\nFluctuation ratio: +0.45%\nTraded volume:     332389\nTraded price:      4631680\n\nCurr date is 20170214\nLast traded price: 2074.57\nFluctuation ratio: -0.20%\nTraded volume:     327489\nTraded price:      4380800\n\nCurr date is 20170213\nLast traded price: 2078.65\nFluctuation ratio: +0.17%\nTraded volume:     284956\nTraded price:      3896740\n\nCurr date is 20170210\nLast traded price: 2075.08\nFluctuation ratio: +0.45%\nTraded volume:     309483\nTraded price:      4761254\n\nCurr date is 20170209\nLast traded price: 2065.88\nFluctuation ratio: +0.04%\nTraded volume:     231288\nTraded price:      4158182\n\nCurr date is 20170208\nLast traded price: 2065.08\nFluctuation ratio: -0.49%\nTraded volume:     263306\nTraded price:      4224494\n"
     ]
    },
    {
     "name": "stdout",
     "output_type": "stream",
     "text": [
      "\nCurr date is 20170207\nLast traded price: 2075.21\nFluctuation ratio: -0.12%\nTraded volume:     268792\nTraded price:      4018210\n\nCurr date is 20170206\nLast traded price: 2077.66\nFluctuation ratio: +0.22%\nTraded volume:     311928\nTraded price:      3819890\n\nCurr date is 20170203\nLast traded price: 2073.16\nFluctuation ratio: +0.10%\nTraded volume:     386038\nTraded price:      4647055\n\nCurr date is 20170202\nLast traded price: 2071.01\nFluctuation ratio: -0.46%\nTraded volume:     818230\nTraded price:      5474217\n\nCurr date is 20170201\nLast traded price: 2080.48\nFluctuation ratio: +0.62%\nTraded volume:     440567\nTraded price:      4362694\n\nCurr date is 20170131\nLast traded price: 2067.57\nFluctuation ratio: -0.77%\nTraded volume:     279805\nTraded price:      4322656\n"
     ]
    },
    {
     "name": "stdout",
     "output_type": "stream",
     "text": [
      "\nCurr date is 20170126\nLast traded price: 2083.59\nFluctuation ratio: +0.81%\nTraded volume:     254645\nTraded price:      4260535\n\nCurr date is 20170125\nLast traded price: 2066.94\nFluctuation ratio: +0.06%\nTraded volume:     305680\nTraded price:      4084440\n\nCurr date is 20170124\nLast traded price: 2065.76\nFluctuation ratio: -0.01%\nTraded volume:     308372\nTraded price:      3603481\n\nCurr date is 20170123\nLast traded price: 2065.99\nFluctuation ratio: +0.02%\nTraded volume:     439855\nTraded price:      3662759\n\nCurr date is 20170120\nLast traded price: 2065.61\nFluctuation ratio: -0.35%\nTraded volume:     386847\nTraded price:      3981141\n\nCurr date is 20170119\nLast traded price: 2072.79\nFluctuation ratio: +0.11%\nTraded volume:     410367\nTraded price:      4031275\n"
     ]
    },
    {
     "name": "stdout",
     "output_type": "stream",
     "text": [
      "\nCurr date is 20170118\nLast traded price: 2070.54\nFluctuation ratio: -0.06%\nTraded volume:     523982\nTraded price:      3950775\n\nCurr date is 20170117\nLast traded price: 2071.87\nFluctuation ratio: +0.37%\nTraded volume:     593844\nTraded price:      4106414\n\nCurr date is 20170116\nLast traded price: 2064.17\nFluctuation ratio: -0.61%\nTraded volume:     676221\nTraded price:      4652456\n\nCurr date is 20170113\nLast traded price: 2076.79\nFluctuation ratio: -0.50%\nTraded volume:     512708\nTraded price:      4647376\n\nCurr date is 20170112\nLast traded price: 2087.14\nFluctuation ratio: +0.58%\nTraded volume:     546476\nTraded price:      4646647\n\nCurr date is 20170111\nLast traded price: 2075.17\nFluctuation ratio: +1.47%\nTraded volume:     331101\nTraded price:      4420141\n"
     ]
    },
    {
     "name": "stdout",
     "output_type": "stream",
     "text": [
      "\nCurr date is 20170110\nLast traded price: 2045.12\nFluctuation ratio: -0.18%\nTraded volume:     506197\nTraded price:      3789370\n\nCurr date is 20170109\nLast traded price: 2048.78\nFluctuation ratio: -0.02%\nTraded volume:     394578\nTraded price:      3788135\n\nCurr date is 20170106\nLast traded price: 2049.12\nFluctuation ratio: +0.35%\nTraded volume:     447985\nTraded price:      3362874\n\nCurr date is 20170105\nLast traded price: 2041.95\nFluctuation ratio: -0.18%\nTraded volume:     525273\nTraded price:      3995652\n\nCurr date is 20170104\nLast traded price: 2045.64\nFluctuation ratio: +0.08%\nTraded volume:     368593\nTraded price:      4009071\n\nCurr date is 20170103\nLast traded price: 2043.97\nFluctuation ratio: +0.88%\nTraded volume:     265555\nTraded price:      3696146\n"
     ]
    },
    {
     "name": "stdout",
     "output_type": "stream",
     "text": [
      "\nCurr date is 20170102\nLast traded price: 2026.16\nFluctuation ratio: -0.01%\nTraded volume:     227408\nTraded price:      2597539\n\nCurr date is 20161229\nLast traded price: 2026.46\nFluctuation ratio: +0.10%\nTraded volume:     261241\nTraded price:      2947684\n\nCurr date is 20161228\nLast traded price: 2024.49\nFluctuation ratio: -0.87%\nTraded volume:     352646\nTraded price:      3017913\n\nCurr date is 20161227\nLast traded price: 2042.17\nFluctuation ratio: +0.22%\nTraded volume:     376778\nTraded price:      3008047\n\nCurr date is 20161226\nLast traded price: 2037.75\nFluctuation ratio: +0.09%\nTraded volume:     357140\nTraded price:      2980429\n\nCurr date is 20161223\nLast traded price: 2035.90\nFluctuation ratio: +0.01%\nTraded volume:     300032\nTraded price:      3091301\n"
     ]
    },
    {
     "name": "stdout",
     "output_type": "stream",
     "text": [
      "\nCurr date is 20161222\nLast traded price: 2035.73\nFluctuation ratio: -0.11%\nTraded volume:     269575\nTraded price:      3140021\n\nCurr date is 20161221\nLast traded price: 2037.96\nFluctuation ratio: -0.19%\nTraded volume:     277953\nTraded price:      3334326\n\nCurr date is 20161220\nLast traded price: 2041.94\nFluctuation ratio: +0.17%\nTraded volume:     309417\nTraded price:      3044718\n\nCurr date is 20161219\nLast traded price: 2038.39\nFluctuation ratio: -0.19%\nTraded volume:     246904\nTraded price:      2932568\n\nCurr date is 20161216\nLast traded price: 2042.24\nFluctuation ratio: +0.27%\nTraded volume:     266986\nTraded price:      3771592\n\nCurr date is 20161215\nLast traded price: 2036.65\nFluctuation ratio: -0.01%\nTraded volume:     293941\nTraded price:      3223638\n"
     ]
    },
    {
     "name": "stdout",
     "output_type": "stream",
     "text": [
      "\nCurr date is 20161214\nLast traded price: 2036.87\nFluctuation ratio: +0.04%\nTraded volume:     372222\nTraded price:      3275418\n\nCurr date is 20161213\nLast traded price: 2035.98\nFluctuation ratio: +0.43%\nTraded volume:     377722\nTraded price:      4126128\n\nCurr date is 20161212\nLast traded price: 2027.24\nFluctuation ratio: +0.13%\nTraded volume:     286906\nTraded price:      3640195\n\nCurr date is 20161209\nLast traded price: 2024.69\nFluctuation ratio: -0.31%\nTraded volume:     219616\nTraded price:      3683203\n\nCurr date is 20161208\nLast traded price: 2031.07\nFluctuation ratio: +1.97%\nTraded volume:     232345\nTraded price:      4895904\n\nCurr date is 20161207\nLast traded price: 1991.89\nFluctuation ratio: +0.10%\nTraded volume:     201916\nTraded price:      3614784\n"
     ]
    },
    {
     "name": "stdout",
     "output_type": "stream",
     "text": [
      "\nCurr date is 20161206\nLast traded price: 1989.86\nFluctuation ratio: +1.35%\nTraded volume:     209806\nTraded price:      3694643\n\nCurr date is 20161205\nLast traded price: 1963.36\nFluctuation ratio: -0.37%\nTraded volume:     234506\nTraded price:      3006753\n\nCurr date is 20161202\nLast traded price: 1970.61\nFluctuation ratio: -0.66%\nTraded volume:     238410\nTraded price:      3539974\n\nCurr date is 20161201\nLast traded price: 1983.75\nFluctuation ratio: +0.01%\nTraded volume:     214227\nTraded price:      3888106\n\nCurr date is 20161130\nLast traded price: 1983.48\nFluctuation ratio: +0.26%\nTraded volume:     229291\nTraded price:      5339840\n\nCurr date is 20161129\nLast traded price: 1978.39\nFluctuation ratio: +0.01%\nTraded volume:     210141\nTraded price:      4037406\n"
     ]
    },
    {
     "name": "stdout",
     "output_type": "stream",
     "text": [
      "\nCurr date is 20161128\nLast traded price: 1978.13\nFluctuation ratio: +0.19%\nTraded volume:     210883\nTraded price:      3034895\n\nCurr date is 20161125\nLast traded price: 1974.46\nFluctuation ratio: +0.16%\nTraded volume:     198199\nTraded price:      2753507\n\nCurr date is 20161124\nLast traded price: 1971.26\nFluctuation ratio: -0.84%\nTraded volume:     232408\nTraded price:      3447490\n\nCurr date is 20161123\nLast traded price: 1987.95\nFluctuation ratio: +0.23%\nTraded volume:     298705\nTraded price:      4196236\n\nCurr date is 20161122\nLast traded price: 1983.47\nFluctuation ratio: +0.89%\nTraded volume:     220553\nTraded price:      3497323\n\nCurr date is 20161121\nLast traded price: 1966.05\nFluctuation ratio: -0.43%\nTraded volume:     220986\nTraded price:      3401638\n"
     ]
    },
    {
     "name": "stdout",
     "output_type": "stream",
     "text": [
      "\nCurr date is 20161118\nLast traded price: 1974.58\nFluctuation ratio: -0.30%\nTraded volume:     294840\nTraded price:      4577252\n\nCurr date is 20161117\nLast traded price: 1980.55\nFluctuation ratio: +0.05%\nTraded volume:     267152\nTraded price:      3483176\n\nCurr date is 20161116\nLast traded price: 1979.65\nFluctuation ratio: +0.62%\nTraded volume:     299030\nTraded price:      4486550\n\nCurr date is 20161115\nLast traded price: 1967.53\nFluctuation ratio: -0.35%\nTraded volume:     371334\nTraded price:      5015239\n\nCurr date is 20161114\nLast traded price: 1974.40\nFluctuation ratio: -0.51%\nTraded volume:     344780\nTraded price:      4985505\n\nCurr date is 20161111\nLast traded price: 1984.43\nFluctuation ratio: -0.91%\nTraded volume:     379565\nTraded price:      6645343\n"
     ]
    },
    {
     "name": "stdout",
     "output_type": "stream",
     "text": [
      "\nCurr date is 20161110\nLast traded price: 2002.60\nFluctuation ratio: +2.26%\nTraded volume:     427516\nTraded price:      6952616\n\nCurr date is 20161109\nLast traded price: 1958.38\nFluctuation ratio: -2.25%\nTraded volume:     703003\nTraded price:      7350082\n\nCurr date is 20161108\nLast traded price: 2003.38\nFluctuation ratio: +0.29%\nTraded volume:     235887\nTraded price:      3152891\n\nCurr date is 20161107\nLast traded price: 1997.58\nFluctuation ratio: +0.79%\nTraded volume:     206787\nTraded price:      3042184\n\nCurr date is 20161104\nLast traded price: 1982.02\nFluctuation ratio: -0.09%\nTraded volume:     224198\nTraded price:      3004205\n\nCurr date is 20161103\nLast traded price: 1983.80\nFluctuation ratio: +0.25%\nTraded volume:     267950\nTraded price:      3673785\n"
     ]
    },
    {
     "name": "stdout",
     "output_type": "stream",
     "text": [
      "\nCurr date is 20161102\nLast traded price: 1978.94\nFluctuation ratio: -1.42%\nTraded volume:     328774\nTraded price:      4303689\n\nCurr date is 20161101\nLast traded price: 2007.39\nFluctuation ratio: -0.04%\nTraded volume:     317929\nTraded price:      4205084\n\nCurr date is 20161031\nLast traded price: 2008.19\nFluctuation ratio: -0.56%\nTraded volume:     395671\nTraded price:      4273912\n\nCurr date is 20161028\nLast traded price: 2019.42\nFluctuation ratio: -0.23%\nTraded volume:     263669\nTraded price:      3879857\n\nCurr date is 20161027\nLast traded price: 2024.12\nFluctuation ratio: +0.51%\nTraded volume:     280449\nTraded price:      4492186\n\nCurr date is 20161026\nLast traded price: 2013.89\nFluctuation ratio: -1.14%\nTraded volume:     388265\nTraded price:      4563523\n"
     ]
    },
    {
     "name": "stdout",
     "output_type": "stream",
     "text": [
      "\nCurr date is 20161025\nLast traded price: 2037.17\nFluctuation ratio: -0.52%\nTraded volume:     294187\nTraded price:      4828146\n\nCurr date is 20161024\nLast traded price: 2047.74\nFluctuation ratio: +0.73%\nTraded volume:     247963\nTraded price:      3441704\n\nCurr date is 20161021\nLast traded price: 2033.00\nFluctuation ratio: -0.37%\nTraded volume:     257354\nTraded price:      3424245\n\nCurr date is 20161020\nLast traded price: 2040.60\nFluctuation ratio: -0.02%\nTraded volume:     265559\nTraded price:      3587673\n\nCurr date is 20161019\nLast traded price: 2040.94\nFluctuation ratio: +0.02%\nTraded volume:     317776\nTraded price:      4017360\n\nCurr date is 20161018\nLast traded price: 2040.43\nFluctuation ratio: +0.63%\nTraded volume:     300936\nTraded price:      3805655\n"
     ]
    },
    {
     "name": "stdout",
     "output_type": "stream",
     "text": [
      "\nCurr date is 20161017\nLast traded price: 2027.61\nFluctuation ratio: +0.24%\nTraded volume:     330453\nTraded price:      3687680\n\nCurr date is 20161014\nLast traded price: 2022.66\nFluctuation ratio: +0.36%\nTraded volume:     453061\nTraded price:      4103564\n\nCurr date is 20161013\nLast traded price: 2015.44\nFluctuation ratio: -0.90%\nTraded volume:     430243\nTraded price:      4333287\n\nCurr date is 20161012\nLast traded price: 2033.73\nFluctuation ratio: +0.09%\nTraded volume:     292454\nTraded price:      4683797\n\nCurr date is 20161011\nLast traded price: 2031.93\nFluctuation ratio: -1.21%\nTraded volume:     338817\nTraded price:      5117734\n\nCurr date is 20161010\nLast traded price: 2056.82\nFluctuation ratio: +0.15%\nTraded volume:     309318\nTraded price:      4563231\n"
     ]
    },
    {
     "name": "stdout",
     "output_type": "stream",
     "text": [
      "\nCurr date is 20161007\nLast traded price: 2053.80\nFluctuation ratio: -0.56%\nTraded volume:     417855\nTraded price:      5143106\n\nCurr date is 20161006\nLast traded price: 2065.30\nFluctuation ratio: +0.60%\nTraded volume:     332833\nTraded price:      5235955\n\nCurr date is 20161005\nLast traded price: 2053.00\nFluctuation ratio: -0.09%\nTraded volume:     288992\nTraded price:      4220613\n\nCurr date is 20161004\nLast traded price: 2054.86\nFluctuation ratio: +0.55%\nTraded volume:     314797\nTraded price:      4835443\n\nCurr date is 20160930\nLast traded price: 2043.63\nFluctuation ratio: -1.21%\nTraded volume:     317203\nTraded price:      5602833\n\nCurr date is 20160929\nLast traded price: 2068.72\nFluctuation ratio: +0.76%\nTraded volume:     411446\nTraded price:      4433978\n"
     ]
    },
    {
     "name": "stdout",
     "output_type": "stream",
     "text": [
      "\nCurr date is 20160928\nLast traded price: 2053.06\nFluctuation ratio: -0.47%\nTraded volume:     539365\nTraded price:      3949322\n\nCurr date is 20160927\nLast traded price: 2062.82\nFluctuation ratio: +0.77%\nTraded volume:     656663\nTraded price:      4621212\n\nCurr date is 20160926\nLast traded price: 2047.11\nFluctuation ratio: -0.34%\nTraded volume:     355523\nTraded price:      3602528\n\nCurr date is 20160923\nLast traded price: 2054.07\nFluctuation ratio: +0.21%\nTraded volume:     488200\nTraded price:      4428252\n\nCurr date is 20160922\nLast traded price: 2049.70\nFluctuation ratio: +0.67%\nTraded volume:     437636\nTraded price:      4161116\n\nCurr date is 20160921\nLast traded price: 2035.99\nFluctuation ratio: +0.51%\nTraded volume:     519245\nTraded price:      4065099\n"
     ]
    },
    {
     "name": "stdout",
     "output_type": "stream",
     "text": [
      "\nCurr date is 20160920\nLast traded price: 2025.71\nFluctuation ratio: +0.49%\nTraded volume:     358206\nTraded price:      4117094\n\nCurr date is 20160919\nLast traded price: 2015.78\nFluctuation ratio: +0.82%\nTraded volume:     427973\nTraded price:      4820774\n\nCurr date is 20160913\nLast traded price: 1999.36\nFluctuation ratio: +0.40%\nTraded volume:     432413\nTraded price:      5076199\n\nCurr date is 20160912\nLast traded price: 1991.48\nFluctuation ratio: -2.28%\nTraded volume:     418699\nTraded price:      4758376\n\nCurr date is 20160909\nLast traded price: 2037.87\nFluctuation ratio: -1.25%\nTraded volume:     386716\nTraded price:      4160473\n\nCurr date is 20160908\nLast traded price: 2063.73\nFluctuation ratio: +0.09%\nTraded volume:     650592\nTraded price:      5576497\n"
     ]
    },
    {
     "name": "stdout",
     "output_type": "stream",
     "text": [
      "\nCurr date is 20160907\nLast traded price: 2061.88\nFluctuation ratio: -0.23%\nTraded volume:     678000\nTraded price:      4985771\n\nCurr date is 20160906\nLast traded price: 2066.53\nFluctuation ratio: +0.31%\nTraded volume:     456482\nTraded price:      4033218\n\nCurr date is 20160905\nLast traded price: 2060.08\nFluctuation ratio: +1.07%\nTraded volume:     567825\nTraded price:      4086252\n\nCurr date is 20160902\nLast traded price: 2038.31\nFluctuation ratio: +0.28%\nTraded volume:     340277\nTraded price:      3883320\n\nCurr date is 20160901\nLast traded price: 2032.72\nFluctuation ratio: -0.09%\nTraded volume:     297416\nTraded price:      4310587\n\nCurr date is 20160831\nLast traded price: 2034.65\nFluctuation ratio: -0.25%\nTraded volume:     396124\nTraded price:      5392626\n"
     ]
    },
    {
     "name": "stdout",
     "output_type": "stream",
     "text": [
      "\nCurr date is 20160830\nLast traded price: 2039.74\nFluctuation ratio: +0.36%\nTraded volume:     374882\nTraded price:      3766637\n\nCurr date is 20160829\nLast traded price: 2032.35\nFluctuation ratio: -0.25%\nTraded volume:     314352\nTraded price:      3800430\n\nCurr date is 20160826\nLast traded price: 2037.50\nFluctuation ratio: -0.27%\nTraded volume:     268858\nTraded price:      3693648\n\nCurr date is 20160825\nLast traded price: 2042.92\nFluctuation ratio: -0.04%\nTraded volume:     274621\nTraded price:      4117989\n\nCurr date is 20160824\nLast traded price: 2043.76\nFluctuation ratio: -0.30%\nTraded volume:     280202\nTraded price:      4029703\n\nCurr date is 20160823\nLast traded price: 2049.93\nFluctuation ratio: +0.38%\nTraded volume:     355698\nTraded price:      4351053\n"
     ]
    },
    {
     "name": "stdout",
     "output_type": "stream",
     "text": [
      "\nCurr date is 20160822\nLast traded price: 2042.16\nFluctuation ratio: -0.68%\nTraded volume:     339734\nTraded price:      4029099\n\nCurr date is 20160819\nLast traded price: 2056.24\nFluctuation ratio: +0.04%\nTraded volume:     385321\nTraded price:      4862655\n\nCurr date is 20160818\nLast traded price: 2055.47\nFluctuation ratio: +0.57%\nTraded volume:     348971\nTraded price:      4592124\n\nCurr date is 20160817\nLast traded price: 2043.75\nFluctuation ratio: -0.20%\nTraded volume:     387570\nTraded price:      4305865\n\nCurr date is 20160816\nLast traded price: 2047.76\nFluctuation ratio: -0.13%\nTraded volume:     370711\nTraded price:      4437026\n\nCurr date is 20160812\nLast traded price: 2050.47\nFluctuation ratio: +0.08%\nTraded volume:     372624\nTraded price:      4537319\n"
     ]
    },
    {
     "name": "stdout",
     "output_type": "stream",
     "text": [
      "\nCurr date is 20160811\nLast traded price: 2048.80\nFluctuation ratio: +0.20%\nTraded volume:     342509\nTraded price:      4425839\n\nCurr date is 20160810\nLast traded price: 2044.64\nFluctuation ratio: +0.04%\nTraded volume:     327806\nTraded price:      4536808\n\nCurr date is 20160809\nLast traded price: 2043.78\nFluctuation ratio: +0.62%\nTraded volume:     433443\nTraded price:      4099933\n\nCurr date is 20160808\nLast traded price: 2031.12\nFluctuation ratio: +0.65%\nTraded volume:     266150\nTraded price:      4091338\n\nCurr date is 20160805\nLast traded price: 2017.94\nFluctuation ratio: +0.90%\nTraded volume:     286194\nTraded price:      4111197\n\nCurr date is 20160804\nLast traded price: 2000.03\nFluctuation ratio: +0.26%\nTraded volume:     322826\nTraded price:      3586868\n"
     ]
    },
    {
     "name": "stdout",
     "output_type": "stream",
     "text": [
      "\nCurr date is 20160803\nLast traded price: 1994.79\nFluctuation ratio: -1.20%\nTraded volume:     476052\nTraded price:      4243777\n\nCurr date is 20160802\nLast traded price: 2019.03\nFluctuation ratio: -0.52%\nTraded volume:     406730\nTraded price:      4276282\n\nCurr date is 20160801\nLast traded price: 2029.61\nFluctuation ratio: +0.67%\nTraded volume:     342283\nTraded price:      4659753\n\nCurr date is 20160729\nLast traded price: 2016.19\nFluctuation ratio: -0.24%\nTraded volume:     361381\nTraded price:      4967044\n\nCurr date is 20160728\nLast traded price: 2021.10\nFluctuation ratio: -0.20%\nTraded volume:     347037\nTraded price:      4255323\n\nCurr date is 20160727\nLast traded price: 2025.05\nFluctuation ratio: -0.11%\nTraded volume:     402253\nTraded price:      4433731\n"
     ]
    },
    {
     "name": "stdout",
     "output_type": "stream",
     "text": [
      "\nCurr date is 20160726\nLast traded price: 2027.34\nFluctuation ratio: +0.75%\nTraded volume:     332206\nTraded price:      3926364\n\nCurr date is 20160725\nLast traded price: 2012.32\nFluctuation ratio: +0.10%\nTraded volume:     346734\nTraded price:      4001396\n\nCurr date is 20160722\nLast traded price: 2010.34\nFluctuation ratio: -0.09%\nTraded volume:     316365\nTraded price:      3686869\n\nCurr date is 20160721\nLast traded price: 2012.22\nFluctuation ratio: -0.16%\nTraded volume:     387481\nTraded price:      3847464\n\nCurr date is 20160720\nLast traded price: 2015.46\nFluctuation ratio: -0.07%\nTraded volume:     309989\nTraded price:      3438452\n\nCurr date is 20160719\nLast traded price: 2016.89\nFluctuation ratio: -0.21%\nTraded volume:     377425\nTraded price:      3693836\n"
     ]
    },
    {
     "name": "stdout",
     "output_type": "stream",
     "text": [
      "\nCurr date is 20160718\nLast traded price: 2021.11\nFluctuation ratio: +0.19%\nTraded volume:     376256\nTraded price:      3489650\n\nCurr date is 20160715\nLast traded price: 2017.26\nFluctuation ratio: +0.42%\nTraded volume:     473600\nTraded price:      4557938\n\nCurr date is 20160714\nLast traded price: 2008.77\nFluctuation ratio: +0.16%\nTraded volume:     334351\nTraded price:      4208693\n\nCurr date is 20160713\nLast traded price: 2005.55\nFluctuation ratio: +0.72%\nTraded volume:     353365\nTraded price:      4655778\n\nCurr date is 20160712\nLast traded price: 1991.23\nFluctuation ratio: +0.14%\nTraded volume:     427454\nTraded price:      4404322\n\nCurr date is 20160711\nLast traded price: 1988.54\nFluctuation ratio: +1.30%\nTraded volume:     332552\nTraded price:      4239228\n"
     ]
    },
    {
     "name": "stdout",
     "output_type": "stream",
     "text": [
      "\nCurr date is 20160708\nLast traded price: 1963.10\nFluctuation ratio: -0.56%\nTraded volume:     345926\nTraded price:      4066529\n\nCurr date is 20160707\nLast traded price: 1974.08\nFluctuation ratio: +1.07%\nTraded volume:     374574\nTraded price:      3866686\n\nCurr date is 20160706\nLast traded price: 1953.12\nFluctuation ratio: -1.85%\nTraded volume:     451690\nTraded price:      4683910\n\nCurr date is 20160705\nLast traded price: 1989.85\nFluctuation ratio: -0.27%\nTraded volume:     398730\nTraded price:      3872453\n\nCurr date is 20160704\nLast traded price: 1995.30\nFluctuation ratio: +0.40%\nTraded volume:     462342\nTraded price:      4047771\n\nCurr date is 20160701\nLast traded price: 1987.32\nFluctuation ratio: +0.86%\nTraded volume:     442076\nTraded price:      4280276\n"
     ]
    },
    {
     "name": "stdout",
     "output_type": "stream",
     "text": [
      "\nCurr date is 20160630\nLast traded price: 1970.35\nFluctuation ratio: +0.72%\nTraded volume:     349862\nTraded price:      5326567\n\nCurr date is 20160629\nLast traded price: 1956.36\nFluctuation ratio: +1.04%\nTraded volume:     446686\nTraded price:      4757342\n\nCurr date is 20160628\nLast traded price: 1936.22\nFluctuation ratio: +0.49%\nTraded volume:     368239\nTraded price:      4360447\n\nCurr date is 20160627\nLast traded price: 1926.85\nFluctuation ratio: +0.08%\nTraded volume:     389617\nTraded price:      5095563\n\nCurr date is 20160624\nLast traded price: 1925.24\nFluctuation ratio: -3.09%\nTraded volume:     726661\nTraded price:      8541520\n\nCurr date is 20160623\nLast traded price: 1986.71\nFluctuation ratio: -0.29%\nTraded volume:     449586\nTraded price:      4155747\n"
     ]
    },
    {
     "name": "stdout",
     "output_type": "stream",
     "text": [
      "\nCurr date is 20160622\nLast traded price: 1992.58\nFluctuation ratio: +0.50%\nTraded volume:     401930\nTraded price:      3945907\n\nCurr date is 20160621\nLast traded price: 1982.70\nFluctuation ratio: +0.08%\nTraded volume:     548571\nTraded price:      4426426\n\nCurr date is 20160620\nLast traded price: 1981.12\nFluctuation ratio: +1.42%\nTraded volume:     385489\nTraded price:      3908118\n\nCurr date is 20160617\nLast traded price: 1953.40\nFluctuation ratio: +0.07%\nTraded volume:     478811\nTraded price:      4420744\n\nCurr date is 20160616\nLast traded price: 1951.99\nFluctuation ratio: -0.86%\nTraded volume:     432990\nTraded price:      4386606\n\nCurr date is 20160615\nLast traded price: 1968.83\nFluctuation ratio: -0.16%\nTraded volume:     371503\nTraded price:      4491931\n"
     ]
    },
    {
     "name": "stdout",
     "output_type": "stream",
     "text": [
      "\nCurr date is 20160614\nLast traded price: 1972.03\nFluctuation ratio: -0.36%\nTraded volume:     434390\nTraded price:      4919384\n\nCurr date is 20160613\nLast traded price: 1979.06\nFluctuation ratio: -1.91%\nTraded volume:     437223\nTraded price:      4530726\n\nCurr date is 20160610\nLast traded price: 2017.63\nFluctuation ratio: -0.32%\nTraded volume:     399304\nTraded price:      4711178\n\nCurr date is 20160609\nLast traded price: 2024.17\nFluctuation ratio: -0.14%\nTraded volume:     591484\nTraded price:      7585446\n\nCurr date is 20160608\nLast traded price: 2027.08\nFluctuation ratio: +0.77%\nTraded volume:     490074\nTraded price:      5705455\n\nCurr date is 20160607\nLast traded price: 2011.63\nFluctuation ratio: +1.30%\nTraded volume:     472781\nTraded price:      5459279\n"
     ]
    },
    {
     "name": "stdout",
     "output_type": "stream",
     "text": [
      "\nCurr date is 20160603\nLast traded price: 1985.84\nFluctuation ratio: +0.04%\nTraded volume:     514910\nTraded price:      5150261\n\nCurr date is 20160602\nLast traded price: 1985.11\nFluctuation ratio: +0.12%\nTraded volume:     461076\nTraded price:      5143907\n\nCurr date is 20160601\nLast traded price: 1982.72\nFluctuation ratio: -0.03%\nTraded volume:     496335\nTraded price:      5314023\n\nCurr date is 20160531\nLast traded price: 1983.40\nFluctuation ratio: +0.83%\nTraded volume:     647543\nTraded price:      8425308\n\nCurr date is 20160530\nLast traded price: 1967.13\nFluctuation ratio: -0.10%\nTraded volume:     541202\nTraded price:      4532734\n\nCurr date is 20160527\nLast traded price: 1969.17\nFluctuation ratio: +0.62%\nTraded volume:     517989\nTraded price:      4814077\n"
     ]
    },
    {
     "name": "stdout",
     "output_type": "stream",
     "text": [
      "\nCurr date is 20160526\nLast traded price: 1957.06\nFluctuation ratio: -0.18%\nTraded volume:     551033\nTraded price:      4991688\n\nCurr date is 20160525\nLast traded price: 1960.51\nFluctuation ratio: +1.18%\nTraded volume:     650749\nTraded price:      5410461\n\nCurr date is 20160524\nLast traded price: 1937.68\nFluctuation ratio: -0.90%\nTraded volume:     511809\nTraded price:      4905045\n\nCurr date is 20160523\nLast traded price: 1955.25\nFluctuation ratio: +0.39%\nTraded volume:     393845\nTraded price:      4011176\n\nCurr date is 20160520\nLast traded price: 1947.67\nFluctuation ratio: +0.05%\nTraded volume:     383159\nTraded price:      4399090\n\nCurr date is 20160519\nLast traded price: 1946.78\nFluctuation ratio: -0.51%\nTraded volume:     500755\nTraded price:      5225527\n"
     ]
    },
    {
     "name": "stdout",
     "output_type": "stream",
     "text": [
      "\nCurr date is 20160518\nLast traded price: 1956.73\nFluctuation ratio: -0.58%\nTraded volume:     688631\nTraded price:      6511596\n\nCurr date is 20160517\nLast traded price: 1968.06\nFluctuation ratio: +0.01%\nTraded volume:     590808\nTraded price:      5414916\n\nCurr date is 20160516\nLast traded price: 1967.91\nFluctuation ratio: +0.05%\nTraded volume:     520295\nTraded price:      4797446\n\nCurr date is 20160513\nLast traded price: 1966.99\nFluctuation ratio: -0.53%\nTraded volume:     500776\nTraded price:      4495599\n\nCurr date is 20160512\nLast traded price: 1977.49\nFluctuation ratio: -0.13%\nTraded volume:     445986\nTraded price:      4038195\n\nCurr date is 20160511\nLast traded price: 1980.10\nFluctuation ratio: -0.12%\nTraded volume:     393495\nTraded price:      4363815\n"
     ]
    },
    {
     "name": "stdout",
     "output_type": "stream",
     "text": [
      "\nCurr date is 20160510\nLast traded price: 1982.50\nFluctuation ratio: +0.75%\nTraded volume:     364980\nTraded price:      4773150\n\nCurr date is 20160509\nLast traded price: 1967.81\nFluctuation ratio: -0.45%\nTraded volume:     338214\nTraded price:      5179317\n\nCurr date is 20160504\nLast traded price: 1976.71\nFluctuation ratio: -0.49%\nTraded volume:     348731\nTraded price:      4926327\n\nCurr date is 20160503\nLast traded price: 1986.41\nFluctuation ratio: +0.42%\nTraded volume:     306496\nTraded price:      3729473\n\nCurr date is 20160502\nLast traded price: 1978.15\nFluctuation ratio: -0.80%\nTraded volume:     324975\nTraded price:      3849348\n\nCurr date is 20160429\nLast traded price: 1994.15\nFluctuation ratio: -0.34%\nTraded volume:     393295\nTraded price:      4899464\n"
     ]
    },
    {
     "name": "stdout",
     "output_type": "stream",
     "text": [
      "\nCurr date is 20160428\nLast traded price: 2000.93\nFluctuation ratio: -0.72%\nTraded volume:     336073\nTraded price:      5240945\n\nCurr date is 20160427\nLast traded price: 2015.40\nFluctuation ratio: -0.21%\nTraded volume:     407874\nTraded price:      5312008\n\nCurr date is 20160426\nLast traded price: 2019.63\nFluctuation ratio: +0.25%\nTraded volume:     502391\nTraded price:      5110466\n\nCurr date is 20160425\nLast traded price: 2014.55\nFluctuation ratio: -0.05%\nTraded volume:     392813\nTraded price:      4310191\n\nCurr date is 20160422\nLast traded price: 2015.49\nFluctuation ratio: -0.33%\nTraded volume:     475058\nTraded price:      4149096\n\nCurr date is 20160421\nLast traded price: 2022.10\nFluctuation ratio: +0.81%\nTraded volume:     387844\nTraded price:      4714212\n"
     ]
    },
    {
     "name": "stdout",
     "output_type": "stream",
     "text": [
      "\nCurr date is 20160420\nLast traded price: 2005.83\nFluctuation ratio: -0.27%\nTraded volume:     419041\nTraded price:      4528325\n\nCurr date is 20160419\nLast traded price: 2011.36\nFluctuation ratio: +0.11%\nTraded volume:     397413\nTraded price:      4392297\n\nCurr date is 20160418\nLast traded price: 2009.10\nFluctuation ratio: -0.28%\nTraded volume:     334757\nTraded price:      4247470\n\nCurr date is 20160415\nLast traded price: 2014.71\nFluctuation ratio: -0.06%\nTraded volume:     313110\nTraded price:      4428494\n\nCurr date is 20160414\nLast traded price: 2015.93\nFluctuation ratio: +1.75%\nTraded volume:     456829\nTraded price:      6285943\n\nCurr date is 20160412\nLast traded price: 1981.32\nFluctuation ratio: +0.56%\nTraded volume:     372146\nTraded price:      3861385\n"
     ]
    },
    {
     "name": "stdout",
     "output_type": "stream",
     "text": [
      "\nCurr date is 20160411\nLast traded price: 1970.37\nFluctuation ratio: -0.09%\nTraded volume:     370220\nTraded price:      3801200\n\nCurr date is 20160408\nLast traded price: 1972.05\nFluctuation ratio: -0.09%\nTraded volume:     394571\nTraded price:      4332858\n\nCurr date is 20160407\nLast traded price: 1973.89\nFluctuation ratio: +0.13%\nTraded volume:     427063\nTraded price:      4578002\n\nCurr date is 20160406\nLast traded price: 1971.32\nFluctuation ratio: +0.44%\nTraded volume:     318532\nTraded price:      4299791\n\nCurr date is 20160405\nLast traded price: 1962.74\nFluctuation ratio: -0.82%\nTraded volume:     359996\nTraded price:      3992300\n\nCurr date is 20160404\nLast traded price: 1978.97\nFluctuation ratio: +0.27%\nTraded volume:     359061\nTraded price:      4192246\n"
     ]
    },
    {
     "name": "stdout",
     "output_type": "stream",
     "text": [
      "\nCurr date is 20160401\nLast traded price: 1973.57\nFluctuation ratio: -1.12%\nTraded volume:     378202\nTraded price:      4777024\n\nCurr date is 20160331\nLast traded price: 1995.85\nFluctuation ratio: -0.31%\nTraded volume:     322879\nTraded price:      4840902\n\nCurr date is 20160330\nLast traded price: 2002.14\nFluctuation ratio: +0.36%\nTraded volume:     347263\nTraded price:      4517708\n\nCurr date is 20160329\nLast traded price: 1994.91\nFluctuation ratio: +0.62%\nTraded volume:     377908\nTraded price:      3991750\n\nCurr date is 20160328\nLast traded price: 1982.54\nFluctuation ratio: -0.06%\nTraded volume:     405980\nTraded price:      3365429\n\nCurr date is 20160325\nLast traded price: 1983.81\nFluctuation ratio: -0.11%\nTraded volume:     457306\nTraded price:      3751912\n"
     ]
    },
    {
     "name": "stdout",
     "output_type": "stream",
     "text": [
      "\nCurr date is 20160324\nLast traded price: 1985.97\nFluctuation ratio: -0.46%\nTraded volume:     336185\nTraded price:      3777427\n\nCurr date is 20160323\nLast traded price: 1995.12\nFluctuation ratio: -0.08%\nTraded volume:     363163\nTraded price:      3929377\n\nCurr date is 20160322\nLast traded price: 1996.81\nFluctuation ratio: +0.35%\nTraded volume:     379381\nTraded price:      4416765\n\nCurr date is 20160321\nLast traded price: 1989.76\nFluctuation ratio: -0.12%\nTraded volume:     320666\nTraded price:      4012257\n\nCurr date is 20160318\nLast traded price: 1992.12\nFluctuation ratio: +0.21%\nTraded volume:     380108\nTraded price:      4659018\n\nCurr date is 20160317\nLast traded price: 1987.99\nFluctuation ratio: +0.66%\nTraded volume:     282237\nTraded price:      4668378\n"
     ]
    },
    {
     "name": "stdout",
     "output_type": "stream",
     "text": [
      "\nCurr date is 20160316\nLast traded price: 1974.90\nFluctuation ratio: +0.25%\nTraded volume:     289945\nTraded price:      4055964\n\nCurr date is 20160315\nLast traded price: 1969.97\nFluctuation ratio: -0.12%\nTraded volume:     260916\nTraded price:      3764672\n\nCurr date is 20160314\nLast traded price: 1972.27\nFluctuation ratio: +0.04%\nTraded volume:     353027\nTraded price:      4167785\n\nCurr date is 20160311\nLast traded price: 1971.41\nFluctuation ratio: +0.11%\nTraded volume:     299293\nTraded price:      4116595\n\nCurr date is 20160310\nLast traded price: 1969.33\nFluctuation ratio: +0.84%\nTraded volume:     346406\nTraded price:      5055951\n\nCurr date is 20160309\nLast traded price: 1952.95\nFluctuation ratio: +0.35%\nTraded volume:     345920\nTraded price:      4212533\n"
     ]
    },
    {
     "name": "stdout",
     "output_type": "stream",
     "text": [
      "\nCurr date is 20160308\nLast traded price: 1946.12\nFluctuation ratio: -0.60%\nTraded volume:     354037\nTraded price:      4844001\n\nCurr date is 20160307\nLast traded price: 1957.87\nFluctuation ratio: +0.11%\nTraded volume:     340260\nTraded price:      4611978\n\nCurr date is 20160304\nLast traded price: 1955.63\nFluctuation ratio: -0.13%\nTraded volume:     312175\nTraded price:      4491198\n\nCurr date is 20160303\nLast traded price: 1958.17\nFluctuation ratio: +0.55%\nTraded volume:     417546\nTraded price:      4903735\n\nCurr date is 20160302\nLast traded price: 1947.42\nFluctuation ratio: +1.60%\nTraded volume:     316865\nTraded price:      5110434\n\nCurr date is 20160229\nLast traded price: 1916.66\nFluctuation ratio: -0.18%\nTraded volume:     271547\nTraded price:      4534806\n"
     ]
    },
    {
     "name": "stdout",
     "output_type": "stream",
     "text": [
      "\nCurr date is 20160226\nLast traded price: 1920.16\nFluctuation ratio: +0.08%\nTraded volume:     268811\nTraded price:      3964062\n\nCurr date is 20160225\nLast traded price: 1918.57\nFluctuation ratio: +0.32%\nTraded volume:     297760\nTraded price:      3881831\n\nCurr date is 20160224\nLast traded price: 1912.53\nFluctuation ratio: -0.09%\nTraded volume:     277072\nTraded price:      3516031\n\nCurr date is 20160223\nLast traded price: 1914.22\nFluctuation ratio: -0.11%\nTraded volume:     323952\nTraded price:      3948979\n\nCurr date is 20160222\nLast traded price: 1916.36\nFluctuation ratio: +0.01%\nTraded volume:     261987\nTraded price:      3404998\n\nCurr date is 20160219\nLast traded price: 1916.24\nFluctuation ratio: +0.39%\nTraded volume:     307221\nTraded price:      3825333\n"
     ]
    },
    {
     "name": "stdout",
     "output_type": "stream",
     "text": [
      "\nCurr date is 20160218\nLast traded price: 1908.84\nFluctuation ratio: +1.32%\nTraded volume:     327418\nTraded price:      4646452\n\nCurr date is 20160217\nLast traded price: 1883.94\nFluctuation ratio: -0.23%\nTraded volume:     333899\nTraded price:      5061065\n\nCurr date is 20160216\nLast traded price: 1888.30\nFluctuation ratio: +1.40%\nTraded volume:     381620\nTraded price:      4196969\n\nCurr date is 20160215\nLast traded price: 1862.20\nFluctuation ratio: +1.47%\nTraded volume:     281431\nTraded price:      4413358\n\nCurr date is 20160212\nLast traded price: 1835.28\nFluctuation ratio: -1.41%\nTraded volume:     465667\nTraded price:      6236294\n\nCurr date is 20160211\nLast traded price: 1861.54\nFluctuation ratio: -2.93%\nTraded volume:     381071\nTraded price:      4635376\n"
     ]
    },
    {
     "name": "stdout",
     "output_type": "stream",
     "text": [
      "\nCurr date is 20160205\nLast traded price: 1917.79\nFluctuation ratio: +0.08%\nTraded volume:     290560\nTraded price:      4245650\n\nCurr date is 20160204\nLast traded price: 1916.26\nFluctuation ratio: +1.35%\nTraded volume:     358802\nTraded price:      5131794\n\nCurr date is 20160203\nLast traded price: 1890.67\nFluctuation ratio: -0.84%\nTraded volume:     403016\nTraded price:      4739686\n\nCurr date is 20160202\nLast traded price: 1906.60\nFluctuation ratio: -0.95%\nTraded volume:     407067\nTraded price:      4552972\n\nCurr date is 20160201\nLast traded price: 1924.82\nFluctuation ratio: +0.67%\nTraded volume:     435759\nTraded price:      5062947\n\nCurr date is 20160129\nLast traded price: 1912.06\nFluctuation ratio: +0.27%\nTraded volume:     379159\nTraded price:      5966488\n"
     ]
    },
    {
     "name": "stdout",
     "output_type": "stream",
     "text": [
      "\nCurr date is 20160128\nLast traded price: 1906.94\nFluctuation ratio: +0.48%\nTraded volume:     306801\nTraded price:      4609354\n\nCurr date is 20160127\nLast traded price: 1897.87\nFluctuation ratio: +1.40%\nTraded volume:     345542\nTraded price:      4999182\n\nCurr date is 20160126\nLast traded price: 1871.69\nFluctuation ratio: -1.15%\nTraded volume:     295266\nTraded price:      4409881\n\nCurr date is 20160125\nLast traded price: 1893.43\nFluctuation ratio: +0.74%\nTraded volume:     311413\nTraded price:      4004975\n\nCurr date is 20160122\nLast traded price: 1879.43\nFluctuation ratio: +2.11%\nTraded volume:     400293\nTraded price:      4344515\n\nCurr date is 20160121\nLast traded price: 1840.53\nFluctuation ratio: -0.27%\nTraded volume:     424485\nTraded price:      4729614\n"
     ]
    },
    {
     "name": "stdout",
     "output_type": "stream",
     "text": [
      "\nCurr date is 20160120\nLast traded price: 1845.45\nFluctuation ratio: -2.34%\nTraded volume:     400261\nTraded price:      5240327\n\nCurr date is 20160119\nLast traded price: 1889.64\nFluctuation ratio: +0.60%\nTraded volume:     329977\nTraded price:      4441550\n\nCurr date is 20160118\nLast traded price: 1878.45\nFluctuation ratio: -0.02%\nTraded volume:     273261\nTraded price:      4056222\n\nCurr date is 20160115\nLast traded price: 1878.87\nFluctuation ratio: -1.11%\nTraded volume:     303991\nTraded price:      4391132\n\nCurr date is 20160114\nLast traded price: 1900.01\nFluctuation ratio: -0.85%\nTraded volume:     305931\nTraded price:      4264454\n\nCurr date is 20160113\nLast traded price: 1916.28\nFluctuation ratio: +1.34%\nTraded volume:     261810\nTraded price:      3882822\n"
     ]
    },
    {
     "name": "stdout",
     "output_type": "stream",
     "text": [
      "\nCurr date is 20160112\nLast traded price: 1890.86\nFluctuation ratio: -0.21%\nTraded volume:     290808\nTraded price:      3787415\n\nCurr date is 20160111\nLast traded price: 1894.84\nFluctuation ratio: -1.19%\nTraded volume:     319556\nTraded price:      4145526\n\nCurr date is 20160108\nLast traded price: 1917.62\nFluctuation ratio: +0.70%\nTraded volume:     400556\nTraded price:      4995379\n\nCurr date is 20160107\nLast traded price: 1904.33\nFluctuation ratio: -1.10%\nTraded volume:     388136\nTraded price:      4907247\n\nCurr date is 20160106\nLast traded price: 1925.43\nFluctuation ratio: -0.26%\nTraded volume:     585978\nTraded price:      5917977\n\nCurr date is 20160105\nLast traded price: 1930.53\nFluctuation ratio: +0.61%\nTraded volume:     440914\nTraded price:      4097962\n"
     ]
    },
    {
     "name": "stdout",
     "output_type": "stream",
     "text": [
      "\nCurr date is 20160104\nLast traded price: 1918.76\nFluctuation ratio: -2.17%\nTraded volume:     355001\nTraded price:      3917340\n\nCurr date is 20151230\nLast traded price: 1961.31\nFluctuation ratio: -0.25%\nTraded volume:     300574\nTraded price:      3670486\n\nCurr date is 20151229\nLast traded price: 1966.31\nFluctuation ratio: +0.11%\nTraded volume:     395493\nTraded price:      3757607\n\nCurr date is 20151228\nLast traded price: 1964.06\nFluctuation ratio: -1.34%\nTraded volume:     389692\nTraded price:      3753973\n\nCurr date is 20151224\nLast traded price: 1990.65\nFluctuation ratio: -0.43%\nTraded volume:     497593\nTraded price:      3551535\n\nCurr date is 20151223\nLast traded price: 1999.22\nFluctuation ratio: +0.33%\nTraded volume:     487032\nTraded price:      3918294\n"
     ]
    },
    {
     "name": "stdout",
     "output_type": "stream",
     "text": [
      "\nCurr date is 20151222\nLast traded price: 1992.56\nFluctuation ratio: +0.57%\nTraded volume:     569183\nTraded price:      4119722\n\nCurr date is 20151221\nLast traded price: 1981.19\nFluctuation ratio: +0.30%\nTraded volume:     532535\nTraded price:      3534909\n\nCurr date is 20151218\nLast traded price: 1975.32\nFluctuation ratio: -0.13%\nTraded volume:     665731\nTraded price:      4021859\n\nCurr date is 20151217\nLast traded price: 1977.96\nFluctuation ratio: +0.43%\nTraded volume:     374572\nTraded price:      3850731\n\nCurr date is 20151216\nLast traded price: 1969.40\nFluctuation ratio: +1.88%\nTraded volume:     467637\nTraded price:      4207020\n\nCurr date is 20151215\nLast traded price: 1932.97\nFluctuation ratio: +0.27%\nTraded volume:     427891\nTraded price:      3593520\n"
     ]
    },
    {
     "name": "stdout",
     "output_type": "stream",
     "text": [
      "\nCurr date is 20151214\nLast traded price: 1927.82\nFluctuation ratio: -1.07%\nTraded volume:     425668\nTraded price:      4022027\n\nCurr date is 20151211\nLast traded price: 1948.62\nFluctuation ratio: -0.18%\nTraded volume:     373906\nTraded price:      4020271\n\nCurr date is 20151210\nLast traded price: 1952.07\nFluctuation ratio: +0.20%\nTraded volume:     372100\nTraded price:      4506365\n\nCurr date is 20151209\nLast traded price: 1948.24\nFluctuation ratio: -0.04%\nTraded volume:     373794\nTraded price:      3636724\n\nCurr date is 20151208\nLast traded price: 1949.04\nFluctuation ratio: -0.75%\nTraded volume:     401162\nTraded price:      3574227\n\nCurr date is 20151207\nLast traded price: 1963.67\nFluctuation ratio: -0.54%\nTraded volume:     376919\nTraded price:      3356172\n"
     ]
    },
    {
     "name": "stdout",
     "output_type": "stream",
     "text": [
      "\nCurr date is 20151204\nLast traded price: 1974.40\nFluctuation ratio: -0.99%\nTraded volume:     373376\nTraded price:      3174983\n\nCurr date is 20151203\nLast traded price: 1994.07\nFluctuation ratio: -0.76%\nTraded volume:     360920\nTraded price:      3434293\n\nCurr date is 20151202\nLast traded price: 2009.29\nFluctuation ratio: -0.72%\nTraded volume:     623964\nTraded price:      4341114\n\nCurr date is 20151201\nLast traded price: 2023.93\nFluctuation ratio: +1.60%\nTraded volume:     565138\nTraded price:      4672220\n\nCurr date is 20151130\nLast traded price: 1991.97\nFluctuation ratio: -1.82%\nTraded volume:     446112\nTraded price:      6409955\n\nCurr date is 20151127\nLast traded price: 2028.99\nFluctuation ratio: -0.08%\nTraded volume:     475264\nTraded price:      3898119\n"
     ]
    },
    {
     "name": "stdout",
     "output_type": "stream",
     "text": [
      "\nCurr date is 20151126\nLast traded price: 2030.68\nFluctuation ratio: +1.06%\nTraded volume:     447540\nTraded price:      4361336\n\nCurr date is 20151125\nLast traded price: 2009.42\nFluctuation ratio: -0.34%\nTraded volume:     387046\nTraded price:      4170392\n\nCurr date is 20151124\nLast traded price: 2016.29\nFluctuation ratio: +0.63%\nTraded volume:     409942\nTraded price:      4228723\n\nCurr date is 20151123\nLast traded price: 2003.70\nFluctuation ratio: +0.70%\nTraded volume:     379028\nTraded price:      4422655\n\nCurr date is 20151120\nLast traded price: 1989.86\nFluctuation ratio: +0.05%\nTraded volume:     409589\nTraded price:      3981101\n\nCurr date is 20151119\nLast traded price: 1988.91\nFluctuation ratio: +1.33%\nTraded volume:     402673\nTraded price:      4469284\n"
     ]
    },
    {
     "name": "stdout",
     "output_type": "stream",
     "text": [
      "\nCurr date is 20151118\nLast traded price: 1962.88\nFluctuation ratio: -0.04%\nTraded volume:     533967\nTraded price:      4539628\n\nCurr date is 20151117\nLast traded price: 1963.58\nFluctuation ratio: +1.06%\nTraded volume:     411426\nTraded price:      4414119\n\nCurr date is 20151116\nLast traded price: 1943.02\nFluctuation ratio: -1.53%\nTraded volume:     421007\nTraded price:      4762680\n\nCurr date is 20151113\nLast traded price: 1973.29\nFluctuation ratio: -1.01%\nTraded volume:     337727\nTraded price:      4186209\n\nCurr date is 20151112\nLast traded price: 1993.36\nFluctuation ratio: -0.20%\nTraded volume:     382858\nTraded price:      3402325\n\nCurr date is 20151111\nLast traded price: 1997.27\nFluctuation ratio: +0.03%\nTraded volume:     282596\nTraded price:      3795769\n"
     ]
    },
    {
     "name": "stdout",
     "output_type": "stream",
     "text": [
      "\nCurr date is 20151110\nLast traded price: 1996.59\nFluctuation ratio: -1.44%\nTraded volume:     409528\nTraded price:      5372521\n\nCurr date is 20151109\nLast traded price: 2025.70\nFluctuation ratio: -0.75%\nTraded volume:     430279\nTraded price:      5932869\n\nCurr date is 20151106\nLast traded price: 2041.07\nFluctuation ratio: -0.41%\nTraded volume:     458898\nTraded price:      4513121\n\nCurr date is 20151105\nLast traded price: 2049.41\nFluctuation ratio: -0.16%\nTraded volume:     344157\nTraded price:      3946581\n\nCurr date is 20151104\nLast traded price: 2052.77\nFluctuation ratio: +0.21%\nTraded volume:     531883\nTraded price:      4854033\n\nCurr date is 20151103\nLast traded price: 2048.40\nFluctuation ratio: +0.65%\nTraded volume:     582904\nTraded price:      5731116\n"
     ]
    },
    {
     "name": "stdout",
     "output_type": "stream",
     "text": [
      "\nCurr date is 20151102\nLast traded price: 2035.24\nFluctuation ratio: +0.28%\nTraded volume:     357975\nTraded price:      4670602\n\nCurr date is 20151030\nLast traded price: 2029.47\nFluctuation ratio: -0.23%\nTraded volume:     373689\nTraded price:      5945879\n\nCurr date is 20151029\nLast traded price: 2034.16\nFluctuation ratio: -0.41%\nTraded volume:     409167\nTraded price:      5622179\n\nCurr date is 20151028\nLast traded price: 2042.51\nFluctuation ratio: -0.10%\nTraded volume:     387254\nTraded price:      4877015\n\nCurr date is 20151027\nLast traded price: 2044.65\nFluctuation ratio: -0.17%\nTraded volume:     441782\nTraded price:      4011414\n\nCurr date is 20151026\nLast traded price: 2048.08\nFluctuation ratio: +0.38%\nTraded volume:     455015\nTraded price:      4267516\n"
     ]
    },
    {
     "name": "stdout",
     "output_type": "stream",
     "text": [
      "\nCurr date is 20151023\nLast traded price: 2040.40\nFluctuation ratio: +0.86%\nTraded volume:     641858\nTraded price:      5303923\n\nCurr date is 20151022\nLast traded price: 2023.00\nFluctuation ratio: -0.98%\nTraded volume:     688427\nTraded price:      5877354\n\nCurr date is 20151021\nLast traded price: 2042.98\nFluctuation ratio: +0.18%\nTraded volume:     660815\nTraded price:      5306063\n\nCurr date is 20151020\nLast traded price: 2039.36\nFluctuation ratio: +0.45%\nTraded volume:     945413\nTraded price:      4691672\n\nCurr date is 20151019\nLast traded price: 2030.27\nFluctuation ratio: +0.00%\nTraded volume:     707700\nTraded price:      4210325\n\nCurr date is 20151016\nLast traded price: 2030.26\nFluctuation ratio: -0.15%\nTraded volume:     542027\nTraded price:      4616085\n"
     ]
    },
    {
     "name": "stdout",
     "output_type": "stream",
     "text": [
      "\nCurr date is 20151015\nLast traded price: 2033.27\nFluctuation ratio: +1.18%\nTraded volume:     489792\nTraded price:      4564600\n\nCurr date is 20151014\nLast traded price: 2009.55\nFluctuation ratio: -0.47%\nTraded volume:     634915\nTraded price:      4959508\n\nCurr date is 20151013\nLast traded price: 2019.05\nFluctuation ratio: -0.13%\nTraded volume:     595222\nTraded price:      5112232\n\nCurr date is 20151012\nLast traded price: 2021.63\nFluctuation ratio: +0.10%\nTraded volume:     624399\nTraded price:      5988383\n\nCurr date is 20151008\nLast traded price: 2019.53\nFluctuation ratio: +0.68%\nTraded volume:     693705\nTraded price:      6067223\n\nCurr date is 20151007\nLast traded price: 2005.84\nFluctuation ratio: +0.76%\nTraded volume:     753341\nTraded price:      6090499\n"
     ]
    },
    {
     "name": "stdout",
     "output_type": "stream",
     "text": [
      "\nCurr date is 20151006\nLast traded price: 1990.65\nFluctuation ratio: +0.63%\nTraded volume:     653014\nTraded price:      5457343\n\nCurr date is 20151005\nLast traded price: 1978.25\nFluctuation ratio: +0.44%\nTraded volume:     539542\nTraded price:      4533462\n\nCurr date is 20151002\nLast traded price: 1969.68\nFluctuation ratio: -0.49%\nTraded volume:     1020136\nTraded price:      5192845\n\nCurr date is 20151001\nLast traded price: 1979.32\nFluctuation ratio: +0.84%\nTraded volume:     670916\nTraded price:      5093572\n\nCurr date is 20150930\nLast traded price: 1962.81\nFluctuation ratio: +1.03%\nTraded volume:     539384\nTraded price:      5435749\n\nCurr date is 20150925\nLast traded price: 1942.85\nFluctuation ratio: -0.22%\nTraded volume:     789819\nTraded price:      4176784\n"
     ]
    },
    {
     "name": "stdout",
     "output_type": "stream",
     "text": [
      "\nCurr date is 20150924\nLast traded price: 1947.10\nFluctuation ratio: +0.13%\nTraded volume:     895574\nTraded price:      4373185\n\nCurr date is 20150923\nLast traded price: 1944.64\nFluctuation ratio: -1.89%\nTraded volume:     845584\nTraded price:      4853314\n\nCurr date is 20150922\nLast traded price: 1982.06\nFluctuation ratio: +0.88%\nTraded volume:     683342\nTraded price:      4456248\n\nCurr date is 20150921\nLast traded price: 1964.68\nFluctuation ratio: -1.57%\nTraded volume:     372130\nTraded price:      3755076\n\nCurr date is 20150918\nLast traded price: 1995.95\nFluctuation ratio: +0.98%\nTraded volume:     515916\nTraded price:      6663946\n\nCurr date is 20150917\nLast traded price: 1976.49\nFluctuation ratio: +0.05%\nTraded volume:     502903\nTraded price:      5545797\n"
     ]
    },
    {
     "name": "stdout",
     "output_type": "stream",
     "text": [
      "\nCurr date is 20150916\nLast traded price: 1975.45\nFluctuation ratio: +1.96%\nTraded volume:     577385\nTraded price:      5836409\n\nCurr date is 20150915\nLast traded price: 1937.56\nFluctuation ratio: +0.32%\nTraded volume:     386186\nTraded price:      3928182\n\nCurr date is 20150914\nLast traded price: 1931.46\nFluctuation ratio: -0.51%\nTraded volume:     359481\nTraded price:      4086021\n\nCurr date is 20150911\nLast traded price: 1941.37\nFluctuation ratio: -1.06%\nTraded volume:     497246\nTraded price:      4605410\n\nCurr date is 20150910\nLast traded price: 1962.11\nFluctuation ratio: +1.44%\nTraded volume:     455738\nTraded price:      5396708\n\nCurr date is 20150909\nLast traded price: 1934.20\nFluctuation ratio: +2.96%\nTraded volume:     508956\nTraded price:      5193258\n"
     ]
    },
    {
     "name": "stdout",
     "output_type": "stream",
     "text": [
      "\nCurr date is 20150908\nLast traded price: 1878.68\nFluctuation ratio: -0.24%\nTraded volume:     386234\nTraded price:      4676248\n\nCurr date is 20150907\nLast traded price: 1883.22\nFluctuation ratio: -0.15%\nTraded volume:     285330\nTraded price:      3730988\n\nCurr date is 20150904\nLast traded price: 1886.04\nFluctuation ratio: -1.54%\nTraded volume:     357577\nTraded price:      4642584\n\nCurr date is 20150903\nLast traded price: 1915.53\nFluctuation ratio: +0.02%\nTraded volume:     293126\nTraded price:      4513384\n\nCurr date is 20150902\nLast traded price: 1915.22\nFluctuation ratio: +0.05%\nTraded volume:     338567\nTraded price:      4953189\n\nCurr date is 20150901\nLast traded price: 1914.23\nFluctuation ratio: -1.40%\nTraded volume:     320859\nTraded price:      4782631\n"
     ]
    },
    {
     "name": "stdout",
     "output_type": "stream",
     "text": [
      "\nCurr date is 20150831\nLast traded price: 1941.49\nFluctuation ratio: +0.20%\nTraded volume:     346953\nTraded price:      5950573\n\nCurr date is 20150828\nLast traded price: 1937.67\nFluctuation ratio: +1.56%\nTraded volume:     439192\nTraded price:      6405456\n\nCurr date is 20150827\nLast traded price: 1908.00\nFluctuation ratio: +0.73%\nTraded volume:     477548\nTraded price:      6640239\n\nCurr date is 20150826\nLast traded price: 1894.09\nFluctuation ratio: +2.57%\nTraded volume:     448166\nTraded price:      6763249\n\nCurr date is 20150825\nLast traded price: 1846.63\nFluctuation ratio: +0.92%\nTraded volume:     446401\nTraded price:      6564908\n\nCurr date is 20150824\nLast traded price: 1829.81\nFluctuation ratio: -2.47%\nTraded volume:     410169\nTraded price:      6088766\n"
     ]
    },
    {
     "name": "stdout",
     "output_type": "stream",
     "text": [
      "\nCurr date is 20150821\nLast traded price: 1876.07\nFluctuation ratio: -2.01%\nTraded volume:     506532\nTraded price:      6761186\n\nCurr date is 20150820\nLast traded price: 1914.55\nFluctuation ratio: -1.28%\nTraded volume:     389843\nTraded price:      5077380\n\nCurr date is 20150819\nLast traded price: 1939.38\nFluctuation ratio: -0.86%\nTraded volume:     498925\nTraded price:      7107639\n\nCurr date is 20150818\nLast traded price: 1956.26\nFluctuation ratio: -0.62%\nTraded volume:     468191\nTraded price:      5533960\n\nCurr date is 20150817\nLast traded price: 1968.52\nFluctuation ratio: -0.75%\nTraded volume:     556074\nTraded price:      4561509\n\nCurr date is 20150813\nLast traded price: 1983.46\nFluctuation ratio: +0.40%\nTraded volume:     373204\nTraded price:      5114020\n"
     ]
    },
    {
     "name": "stdout",
     "output_type": "stream",
     "text": [
      "\nCurr date is 20150812\nLast traded price: 1975.47\nFluctuation ratio: -0.56%\nTraded volume:     519701\nTraded price:      6801476\n\nCurr date is 20150811\nLast traded price: 1986.65\nFluctuation ratio: -0.82%\nTraded volume:     362930\nTraded price:      5029071\n\nCurr date is 20150810\nLast traded price: 2003.17\nFluctuation ratio: -0.35%\nTraded volume:     305473\nTraded price:      4450795\n\nCurr date is 20150807\nLast traded price: 2010.23\nFluctuation ratio: -0.15%\nTraded volume:     330275\nTraded price:      4538493\n\nCurr date is 20150806\nLast traded price: 2013.29\nFluctuation ratio: -0.81%\nTraded volume:     335637\nTraded price:      5738406\n\nCurr date is 20150805\nLast traded price: 2029.76\nFluctuation ratio: +0.09%\nTraded volume:     314253\nTraded price:      4977507\n"
     ]
    },
    {
     "name": "stdout",
     "output_type": "stream",
     "text": [
      "\nCurr date is 20150804\nLast traded price: 2027.99\nFluctuation ratio: +0.97%\nTraded volume:     384528\nTraded price:      4864611\n\nCurr date is 20150803\nLast traded price: 2008.49\nFluctuation ratio: -1.07%\nTraded volume:     351899\nTraded price:      4969419\n\nCurr date is 20150731\nLast traded price: 2030.16\nFluctuation ratio: +0.55%\nTraded volume:     444009\nTraded price:      6187274\n\nCurr date is 20150730\nLast traded price: 2019.03\nFluctuation ratio: -0.91%\nTraded volume:     503234\nTraded price:      6690278\n\nCurr date is 20150729\nLast traded price: 2037.62\nFluctuation ratio: -0.07%\nTraded volume:     514386\nTraded price:      6590690\n\nCurr date is 20150728\nLast traded price: 2039.10\nFluctuation ratio: +0.01%\nTraded volume:     490449\nTraded price:      6440757\n"
     ]
    },
    {
     "name": "stdout",
     "output_type": "stream",
     "text": [
      "\nCurr date is 20150727\nLast traded price: 2038.81\nFluctuation ratio: -0.35%\nTraded volume:     535705\nTraded price:      6235263\n\nCurr date is 20150724\nLast traded price: 2045.96\nFluctuation ratio: -0.93%\nTraded volume:     604456\nTraded price:      6021543\n\nCurr date is 20150723\nLast traded price: 2065.07\nFluctuation ratio: +0.02%\nTraded volume:     732798\nTraded price:      6137884\n\nCurr date is 20150722\nLast traded price: 2064.73\nFluctuation ratio: -0.91%\nTraded volume:     1149355\nTraded price:      6766264\n\nCurr date is 20150721\nLast traded price: 2083.62\nFluctuation ratio: +0.50%\nTraded volume:     718786\nTraded price:      6488347\n\nCurr date is 20150720\nLast traded price: 2073.31\nFluctuation ratio: -0.17%\nTraded volume:     862846\nTraded price:      5968491\n"
     ]
    },
    {
     "name": "stdout",
     "output_type": "stream",
     "text": [
      "\nCurr date is 20150717\nLast traded price: 2076.79\nFluctuation ratio: -0.53%\nTraded volume:     806118\nTraded price:      8319283\n\nCurr date is 20150716\nLast traded price: 2087.89\nFluctuation ratio: +0.72%\nTraded volume:     682603\nTraded price:      7059502\n\nCurr date is 20150715\nLast traded price: 2072.91\nFluctuation ratio: +0.66%\nTraded volume:     613189\nTraded price:      7492762\n\nCurr date is 20150714\nLast traded price: 2059.23\nFluctuation ratio: -0.11%\nTraded volume:     496984\nTraded price:      6687802\n\nCurr date is 20150713\nLast traded price: 2061.52\nFluctuation ratio: +1.49%\nTraded volume:     421534\nTraded price:      6183981\n\nCurr date is 20150710\nLast traded price: 2031.17\nFluctuation ratio: +0.17%\nTraded volume:     371847\nTraded price:      6514152\n"
     ]
    },
    {
     "name": "stdout",
     "output_type": "stream",
     "text": [
      "\nCurr date is 20150709\nLast traded price: 2027.81\nFluctuation ratio: +0.58%\nTraded volume:     403722\nTraded price:      6994503\n\nCurr date is 20150708\nLast traded price: 2016.21\nFluctuation ratio: -1.18%\nTraded volume:     447415\nTraded price:      7392498\n\nCurr date is 20150707\nLast traded price: 2040.29\nFluctuation ratio: -0.66%\nTraded volume:     497988\nTraded price:      8200258\n\nCurr date is 20150706\nLast traded price: 2053.93\nFluctuation ratio: -2.40%\nTraded volume:     463773\nTraded price:      6275913\n\nCurr date is 20150703\nLast traded price: 2104.41\nFluctuation ratio: -0.14%\nTraded volume:     414027\nTraded price:      5877241\n\nCurr date is 20150702\nLast traded price: 2107.33\nFluctuation ratio: +0.45%\nTraded volume:     559474\nTraded price:      6954702\n"
     ]
    },
    {
     "name": "stdout",
     "output_type": "stream",
     "text": [
      "\nCurr date is 20150701\nLast traded price: 2097.89\nFluctuation ratio: +1.14%\nTraded volume:     468233\nTraded price:      5804594\n\nCurr date is 20150630\nLast traded price: 2074.20\nFluctuation ratio: +0.67%\nTraded volume:     389704\nTraded price:      5606673\n\nCurr date is 20150629\nLast traded price: 2060.49\nFluctuation ratio: -1.42%\nTraded volume:     499301\nTraded price:      6142787\n\nCurr date is 20150626\nLast traded price: 2090.26\nFluctuation ratio: +0.25%\nTraded volume:     487506\nTraded price:      6232862\n\nCurr date is 20150625\nLast traded price: 2085.06\nFluctuation ratio: -0.02%\nTraded volume:     569595\nTraded price:      5832424\n\nCurr date is 20150624\nLast traded price: 2085.53\nFluctuation ratio: +0.21%\nTraded volume:     394955\nTraded price:      5240680\n"
     ]
    },
    {
     "name": "stdout",
     "output_type": "stream",
     "text": [
      "\nCurr date is 20150623\nLast traded price: 2081.20\nFluctuation ratio: +1.27%\nTraded volume:     325895\nTraded price:      5218253\n\nCurr date is 20150622\nLast traded price: 2055.16\nFluctuation ratio: +0.40%\nTraded volume:     262775\nTraded price:      4248248\n\nCurr date is 20150619\nLast traded price: 2046.96\nFluctuation ratio: +0.25%\nTraded volume:     394065\nTraded price:      5570859\n\nCurr date is 20150618\nLast traded price: 2041.88\nFluctuation ratio: +0.34%\nTraded volume:     386776\nTraded price:      5245838\n\nCurr date is 20150617\nLast traded price: 2034.86\nFluctuation ratio: +0.30%\nTraded volume:     349919\nTraded price:      5064150\n\nCurr date is 20150616\nLast traded price: 2028.72\nFluctuation ratio: -0.67%\nTraded volume:     376207\nTraded price:      6265626\n"
     ]
    },
    {
     "name": "stdout",
     "output_type": "stream",
     "text": [
      "\nCurr date is 20150615\nLast traded price: 2042.32\nFluctuation ratio: -0.48%\nTraded volume:     310139\nTraded price:      4765898\n\nCurr date is 20150612\nLast traded price: 2052.17\nFluctuation ratio: -0.22%\nTraded volume:     384132\nTraded price:      5960234\n\nCurr date is 20150611\nLast traded price: 2056.61\nFluctuation ratio: +0.26%\nTraded volume:     451273\nTraded price:      7495997\n\nCurr date is 20150610\nLast traded price: 2051.32\nFluctuation ratio: -0.62%\nTraded volume:     418420\nTraded price:      6101561\n\nCurr date is 20150609\nLast traded price: 2064.03\nFluctuation ratio: -0.06%\nTraded volume:     418684\nTraded price:      5538722\n\nCurr date is 20150608\nLast traded price: 2065.19\nFluctuation ratio: -0.14%\nTraded volume:     390357\nTraded price:      5508814\n"
     ]
    },
    {
     "name": "stdout",
     "output_type": "stream",
     "text": [
      "\nCurr date is 20150605\nLast traded price: 2068.10\nFluctuation ratio: -0.23%\nTraded volume:     388853\nTraded price:      6086742\n\nCurr date is 20150604\nLast traded price: 2072.86\nFluctuation ratio: +0.47%\nTraded volume:     392034\nTraded price:      7004163\n\nCurr date is 20150603\nLast traded price: 2063.16\nFluctuation ratio: -0.74%\nTraded volume:     532758\nTraded price:      6300056\n\nCurr date is 20150602\nLast traded price: 2078.64\nFluctuation ratio: -1.13%\nTraded volume:     515192\nTraded price:      6940036\n\nCurr date is 20150601\nLast traded price: 2102.37\nFluctuation ratio: -0.59%\nTraded volume:     420716\nTraded price:      5697910\n\nCurr date is 20150529\nLast traded price: 2114.80\nFluctuation ratio: +0.19%\nTraded volume:     448189\nTraded price:      7648634\n"
     ]
    },
    {
     "name": "stdout",
     "output_type": "stream",
     "text": [
      "\nCurr date is 20150528\nLast traded price: 2110.89\nFluctuation ratio: +0.16%\nTraded volume:     410706\nTraded price:      6742808\n\nCurr date is 20150527\nLast traded price: 2107.50\nFluctuation ratio: -1.68%\nTraded volume:     434088\nTraded price:      7887325\n\nCurr date is 20150526\nLast traded price: 2143.50\nFluctuation ratio: -0.12%\nTraded volume:     373921\nTraded price:      6372057\n\nCurr date is 20150522\nLast traded price: 2146.10\nFluctuation ratio: +1.10%\nTraded volume:     436973\nTraded price:      5992137\n\nCurr date is 20150521\nLast traded price: 2122.81\nFluctuation ratio: -0.78%\nTraded volume:     392880\nTraded price:      5596351\n\nCurr date is 20150520\nLast traded price: 2139.54\nFluctuation ratio: +0.88%\nTraded volume:     447646\nTraded price:      5998522\n"
     ]
    },
    {
     "name": "stdout",
     "output_type": "stream",
     "text": [
      "\nCurr date is 20150519\nLast traded price: 2120.85\nFluctuation ratio: +0.34%\nTraded volume:     411965\nTraded price:      5650762\n\nCurr date is 20150518\nLast traded price: 2113.72\nFluctuation ratio: +0.34%\nTraded volume:     441445\nTraded price:      5784617\n\nCurr date is 20150515\nLast traded price: 2106.50\nFluctuation ratio: -0.65%\nTraded volume:     467268\nTraded price:      5365887\n\nCurr date is 20150514\nLast traded price: 2120.33\nFluctuation ratio: +0.29%\nTraded volume:     425176\nTraded price:      5003053\n\nCurr date is 20150513\nLast traded price: 2114.16\nFluctuation ratio: +0.83%\nTraded volume:     373063\nTraded price:      4928946\n\nCurr date is 20150512\nLast traded price: 2096.77\nFluctuation ratio: -0.03%\nTraded volume:     386675\nTraded price:      4899718\n"
     ]
    },
    {
     "name": "stdout",
     "output_type": "stream",
     "text": [
      "\nCurr date is 20150511\nLast traded price: 2097.38\nFluctuation ratio: +0.57%\nTraded volume:     326946\nTraded price:      4962776\n\nCurr date is 20150508\nLast traded price: 2085.52\nFluctuation ratio: -0.26%\nTraded volume:     305314\nTraded price:      4677202\n\nCurr date is 20150507\nLast traded price: 2091.00\nFluctuation ratio: -0.65%\nTraded volume:     418759\nTraded price:      5370714\n\nCurr date is 20150506\nLast traded price: 2104.58\nFluctuation ratio: -1.30%\nTraded volume:     424198\nTraded price:      5600790\n\nCurr date is 20150504\nLast traded price: 2132.23\nFluctuation ratio: +0.24%\nTraded volume:     352069\nTraded price:      4668413\n\nCurr date is 20150430\nLast traded price: 2127.17\nFluctuation ratio: -0.72%\nTraded volume:     497732\nTraded price:      6018805\n"
     ]
    },
    {
     "name": "stdout",
     "output_type": "stream",
     "text": [
      "\nCurr date is 20150429\nLast traded price: 2142.63\nFluctuation ratio: -0.23%\nTraded volume:     453869\nTraded price:      6564697\n\nCurr date is 20150428\nLast traded price: 2147.67\nFluctuation ratio: -0.46%\nTraded volume:     410562\nTraded price:      6068630\n\nCurr date is 20150427\nLast traded price: 2157.54\nFluctuation ratio: -0.10%\nTraded volume:     388660\nTraded price:      6117139\n\nCurr date is 20150424\nLast traded price: 2159.80\nFluctuation ratio: -0.63%\nTraded volume:     503418\nTraded price:      8114606\n\nCurr date is 20150423\nLast traded price: 2173.41\nFluctuation ratio: +1.38%\nTraded volume:     514837\nTraded price:      8076510\n\nCurr date is 20150422\nLast traded price: 2143.89\nFluctuation ratio: -0.04%\nTraded volume:     762349\nTraded price:      8388538\n"
     ]
    },
    {
     "name": "stdout",
     "output_type": "stream",
     "text": [
      "\nCurr date is 20150421\nLast traded price: 2144.79\nFluctuation ratio: -0.09%\nTraded volume:     555234\nTraded price:      6825206\n\nCurr date is 20150420\nLast traded price: 2146.71\nFluctuation ratio: +0.15%\nTraded volume:     503401\nTraded price:      6973925\n\nCurr date is 20150417\nLast traded price: 2143.50\nFluctuation ratio: +0.17%\nTraded volume:     457908\nTraded price:      6249221\n\nCurr date is 20150416\nLast traded price: 2139.90\nFluctuation ratio: +0.94%\nTraded volume:     471230\nTraded price:      7187304\n\nCurr date is 20150415\nLast traded price: 2119.96\nFluctuation ratio: +0.39%\nTraded volume:     445868\nTraded price:      7283611\n\nCurr date is 20150414\nLast traded price: 2111.72\nFluctuation ratio: +0.61%\nTraded volume:     636475\nTraded price:      7954023\n"
     ]
    },
    {
     "name": "stdout",
     "output_type": "stream",
     "text": [
      "\nCurr date is 20150413\nLast traded price: 2098.92\nFluctuation ratio: +0.53%\nTraded volume:     550382\nTraded price:      6949775\n\nCurr date is 20150410\nLast traded price: 2087.76\nFluctuation ratio: +1.40%\nTraded volume:     647107\nTraded price:      6275483\n\nCurr date is 20150409\nLast traded price: 2058.87\nFluctuation ratio: -0.02%\nTraded volume:     519429\nTraded price:      5805350\n\nCurr date is 20150408\nLast traded price: 2059.26\nFluctuation ratio: +0.60%\nTraded volume:     546028\nTraded price:      6416068\n\nCurr date is 20150407\nLast traded price: 2047.03\nFluctuation ratio: +0.03%\nTraded volume:     426271\nTraded price:      4760116\n\nCurr date is 20150406\nLast traded price: 2046.43\nFluctuation ratio: +0.05%\nTraded volume:     454031\nTraded price:      4726562\n"
     ]
    },
    {
     "name": "stdout",
     "output_type": "stream",
     "text": [
      "\nCurr date is 20150403\nLast traded price: 2045.42\nFluctuation ratio: +0.81%\nTraded volume:     493143\nTraded price:      4452256\n\nCurr date is 20150402\nLast traded price: 2029.07\nFluctuation ratio: +0.03%\nTraded volume:     646302\nTraded price:      5904789\n\nCurr date is 20150401\nLast traded price: 2028.45\nFluctuation ratio: -0.62%\nTraded volume:     538580\nTraded price:      5316792\n\nCurr date is 20150331\nLast traded price: 2041.03\nFluctuation ratio: +0.54%\nTraded volume:     547252\nTraded price:      5291411\n\nCurr date is 20150330\nLast traded price: 2030.04\nFluctuation ratio: +0.51%\nTraded volume:     435179\nTraded price:      4347308\n\nCurr date is 20150327\nLast traded price: 2019.80\nFluctuation ratio: -0.14%\nTraded volume:     442814\nTraded price:      5035104\n"
     ]
    },
    {
     "name": "stdout",
     "output_type": "stream",
     "text": [
      "\nCurr date is 20150326\nLast traded price: 2022.56\nFluctuation ratio: -0.99%\nTraded volume:     338831\nTraded price:      5100235\n\nCurr date is 20150325\nLast traded price: 2042.81\nFluctuation ratio: +0.07%\nTraded volume:     418100\nTraded price:      4983230\n\nCurr date is 20150324\nLast traded price: 2041.37\nFluctuation ratio: +0.23%\nTraded volume:     324351\nTraded price:      4561843\n\nCurr date is 20150323\nLast traded price: 2036.59\nFluctuation ratio: -0.03%\nTraded volume:     310208\nTraded price:      4575023\n\nCurr date is 20150320\nLast traded price: 2037.24\nFluctuation ratio: -0.03%\nTraded volume:     347283\nTraded price:      5060596\n\nCurr date is 20150319\nLast traded price: 2037.89\nFluctuation ratio: +0.47%\nTraded volume:     445165\nTraded price:      5557805\n"
     ]
    },
    {
     "name": "stdout",
     "output_type": "stream",
     "text": [
      "\nCurr date is 20150318\nLast traded price: 2028.45\nFluctuation ratio: -0.07%\nTraded volume:     358261\nTraded price:      5306022\n\nCurr date is 20150317\nLast traded price: 2029.91\nFluctuation ratio: +2.14%\nTraded volume:     353014\nTraded price:      5331677\n\nCurr date is 20150316\nLast traded price: 1987.33\nFluctuation ratio: +0.08%\nTraded volume:     315596\nTraded price:      4562851\n\nCurr date is 20150313\nLast traded price: 1985.79\nFluctuation ratio: +0.77%\nTraded volume:     322560\nTraded price:      4249807\n\nCurr date is 20150312\nLast traded price: 1970.59\nFluctuation ratio: -0.52%\nTraded volume:     379584\nTraded price:      6277284\n\nCurr date is 20150311\nLast traded price: 1980.83\nFluctuation ratio: -0.20%\nTraded volume:     395371\nTraded price:      5795408\n"
     ]
    },
    {
     "name": "stdout",
     "output_type": "stream",
     "text": [
      "\nCurr date is 20150310\nLast traded price: 1984.77\nFluctuation ratio: -0.40%\nTraded volume:     430271\nTraded price:      4677577\n\nCurr date is 20150309\nLast traded price: 1992.82\nFluctuation ratio: -1.00%\nTraded volume:     292973\nTraded price:      3941996\n\nCurr date is 20150306\nLast traded price: 2012.94\nFluctuation ratio: +0.73%\nTraded volume:     389914\nTraded price:      4749043\n\nCurr date is 20150305\nLast traded price: 1998.38\nFluctuation ratio: +0.00%\nTraded volume:     362427\nTraded price:      3939052\n\nCurr date is 20150304\nLast traded price: 1998.29\nFluctuation ratio: -0.15%\nTraded volume:     369997\nTraded price:      4595754\n\nCurr date is 20150303\nLast traded price: 2001.38\nFluctuation ratio: +0.23%\nTraded volume:     440885\nTraded price:      5301006\n"
     ]
    },
    {
     "name": "stdout",
     "output_type": "stream",
     "text": [
      "\nCurr date is 20150302\nLast traded price: 1996.81\nFluctuation ratio: +0.55%\nTraded volume:     365957\nTraded price:      5493257\n\nCurr date is 20150227\nLast traded price: 1985.80\nFluctuation ratio: -0.37%\nTraded volume:     417184\nTraded price:      5527749\n\nCurr date is 20150226\nLast traded price: 1993.08\nFluctuation ratio: +0.13%\nTraded volume:     379351\nTraded price:      5019255\n\nCurr date is 20150225\nLast traded price: 1990.47\nFluctuation ratio: +0.73%\nTraded volume:     360343\nTraded price:      4827387\n\nCurr date is 20150224\nLast traded price: 1976.12\nFluctuation ratio: +0.39%\nTraded volume:     304394\nTraded price:      4112593\n\nCurr date is 20150223\nLast traded price: 1968.39\nFluctuation ratio: +0.35%\nTraded volume:     334135\nTraded price:      4038723\n"
     ]
    },
    {
     "name": "stdout",
     "output_type": "stream",
     "text": [
      "\nCurr date is 20150217\nLast traded price: 1961.45\nFluctuation ratio: +0.16%\nTraded volume:     298178\nTraded price:      3461146\n\nCurr date is 20150216\nLast traded price: 1958.23\nFluctuation ratio: +0.04%\nTraded volume:     344836\nTraded price:      3637341\n\nCurr date is 20150213\nLast traded price: 1957.50\nFluctuation ratio: +0.82%\nTraded volume:     342798\nTraded price:      4011442\n\nCurr date is 20150212\nLast traded price: 1941.63\nFluctuation ratio: -0.21%\nTraded volume:     327123\nTraded price:      4263274\n\nCurr date is 20150211\nLast traded price: 1945.70\nFluctuation ratio: +0.51%\nTraded volume:     300352\nTraded price:      4157788\n\nCurr date is 20150210\nLast traded price: 1935.86\nFluctuation ratio: -0.57%\nTraded volume:     322839\nTraded price:      4084514\n"
     ]
    },
    {
     "name": "stdout",
     "output_type": "stream",
     "text": [
      "\nCurr date is 20150209\nLast traded price: 1947.00\nFluctuation ratio: -0.44%\nTraded volume:     306825\nTraded price:      4285816\n\nCurr date is 20150206\nLast traded price: 1955.52\nFluctuation ratio: +0.14%\nTraded volume:     299872\nTraded price:      4690502\n\nCurr date is 20150205\nLast traded price: 1952.84\nFluctuation ratio: -0.51%\nTraded volume:     390988\nTraded price:      4229113\n\nCurr date is 20150204\nLast traded price: 1962.79\nFluctuation ratio: +0.55%\nTraded volume:     343298\nTraded price:      4938163\n\nCurr date is 20150203\nLast traded price: 1951.96\nFluctuation ratio: -0.04%\nTraded volume:     366309\nTraded price:      4593470\n\nCurr date is 20150202\nLast traded price: 1952.68\nFluctuation ratio: +0.18%\nTraded volume:     361376\nTraded price:      4306479\n"
     ]
    },
    {
     "name": "stdout",
     "output_type": "stream",
     "text": [
      "\nCurr date is 20150130\nLast traded price: 1949.26\nFluctuation ratio: -0.09%\nTraded volume:     435570\nTraded price:      5755876\n\nCurr date is 20150129\nLast traded price: 1951.02\nFluctuation ratio: -0.54%\nTraded volume:     385492\nTraded price:      5172438\n\nCurr date is 20150128\nLast traded price: 1961.58\nFluctuation ratio: +0.47%\nTraded volume:     395675\nTraded price:      5188422\n\nCurr date is 20150127\nLast traded price: 1952.40\nFluctuation ratio: +0.86%\nTraded volume:     458801\nTraded price:      4493085\n\nCurr date is 20150126\nLast traded price: 1935.68\nFluctuation ratio: -0.02%\nTraded volume:     327120\nTraded price:      3900274\n\nCurr date is 20150123\nLast traded price: 1936.09\nFluctuation ratio: +0.79%\nTraded volume:     363083\nTraded price:      4595883\n"
     ]
    },
    {
     "name": "stdout",
     "output_type": "stream",
     "text": [
      "\nCurr date is 20150122\nLast traded price: 1920.82\nFluctuation ratio: -0.02%\nTraded volume:     339567\nTraded price:      4477173\n\nCurr date is 20150121\nLast traded price: 1921.23\nFluctuation ratio: +0.15%\nTraded volume:     296305\nTraded price:      4251709\n\nCurr date is 20150120\nLast traded price: 1918.31\nFluctuation ratio: +0.82%\nTraded volume:     277640\nTraded price:      3573038\n\nCurr date is 20150119\nLast traded price: 1902.62\nFluctuation ratio: +0.77%\nTraded volume:     278181\nTraded price:      3506180\n\nCurr date is 20150116\nLast traded price: 1888.13\nFluctuation ratio: -1.36%\nTraded volume:     294638\nTraded price:      3920572\n\nCurr date is 20150115\nLast traded price: 1914.14\nFluctuation ratio: +0.03%\nTraded volume:     263294\nTraded price:      3766993\n"
     ]
    },
    {
     "name": "stdout",
     "output_type": "stream",
     "text": [
      "\nCurr date is 20150114\nLast traded price: 1913.66\nFluctuation ratio: -0.18%\nTraded volume:     280976\nTraded price:      4341094\n\nCurr date is 20150113\nLast traded price: 1917.14\nFluctuation ratio: -0.20%\nTraded volume:     335782\nTraded price:      4791776\n\nCurr date is 20150112\nLast traded price: 1920.95\nFluctuation ratio: -0.19%\nTraded volume:     308845\nTraded price:      3498577\n\nCurr date is 20150109\nLast traded price: 1924.70\nFluctuation ratio: +1.05%\nTraded volume:     305074\nTraded price:      4246382\n\nCurr date is 20150108\nLast traded price: 1904.65\nFluctuation ratio: +1.11%\nTraded volume:     258491\nTraded price:      4170345\n\nCurr date is 20150107\nLast traded price: 1883.83\nFluctuation ratio: +0.07%\nTraded volume:     277346\nTraded price:      3697278\n"
     ]
    },
    {
     "name": "stdout",
     "output_type": "stream",
     "text": [
      "\nCurr date is 20150106\nLast traded price: 1882.45\nFluctuation ratio: -1.74%\nTraded volume:     299342\nTraded price:      4655218\n\nCurr date is 20150105\nLast traded price: 1915.75\nFluctuation ratio: -0.55%\nTraded volume:     310548\nTraded price:      4663122\n\nCurr date is 20150102\nLast traded price: 1926.44\nFluctuation ratio: +0.57%\nTraded volume:     255350\nTraded price:      3620080\n\nCurr date is 20141230\nLast traded price: 1915.59\nFluctuation ratio: -0.64%\nTraded volume:     253023\nTraded price:      3643011\n\nCurr date is 20141229\nLast traded price: 1927.86\nFluctuation ratio: -1.04%\nTraded volume:     263159\nTraded price:      3395917\n\nCurr date is 20141226\nLast traded price: 1948.16\nFluctuation ratio: +0.08%\nTraded volume:     292444\nTraded price:      3356911\n"
     ]
    },
    {
     "name": "stdout",
     "output_type": "stream",
     "text": [
      "\nCurr date is 20141224\nLast traded price: 1946.61\nFluctuation ratio: +0.39%\nTraded volume:     279433\nTraded price:      2936851\n\nCurr date is 20141223\nLast traded price: 1939.02\nFluctuation ratio: -0.21%\nTraded volume:     295296\nTraded price:      3595299\n\nCurr date is 20141222\nLast traded price: 1943.12\nFluctuation ratio: +0.68%\nTraded volume:     316460\nTraded price:      4034983\n\nCurr date is 20141219\nLast traded price: 1929.98\nFluctuation ratio: +1.71%\nTraded volume:     286590\nTraded price:      4309175\n\nCurr date is 20141218\nLast traded price: 1897.50\nFluctuation ratio: -0.14%\nTraded volume:     332349\nTraded price:      5242642\n\nCurr date is 20141217\nLast traded price: 1900.16\nFluctuation ratio: -0.21%\nTraded volume:     301895\nTraded price:      4011260\n"
     ]
    },
    {
     "name": "stdout",
     "output_type": "stream",
     "text": [
      "\nCurr date is 20141216\nLast traded price: 1904.13\nFluctuation ratio: -0.85%\nTraded volume:     363279\nTraded price:      4218492\n\nCurr date is 20141215\nLast traded price: 1920.36\nFluctuation ratio: -0.07%\nTraded volume:     289701\nTraded price:      3695248\n\nCurr date is 20141212\nLast traded price: 1921.71\nFluctuation ratio: +0.27%\nTraded volume:     358699\nTraded price:      3738551\n\nCurr date is 20141211\nLast traded price: 1916.59\nFluctuation ratio: -1.49%\nTraded volume:     335985\nTraded price:      4311388\n\nCurr date is 20141210\nLast traded price: 1945.56\nFluctuation ratio: -1.29%\nTraded volume:     360982\nTraded price:      3748832\n\nCurr date is 20141209\nLast traded price: 1970.95\nFluctuation ratio: -0.40%\nTraded volume:     517079\nTraded price:      3631508\n"
     ]
    },
    {
     "name": "stdout",
     "output_type": "stream",
     "text": [
      "\nCurr date is 20141208\nLast traded price: 1978.95\nFluctuation ratio: -0.39%\nTraded volume:     289019\nTraded price:      3056601\n\nCurr date is 20141205\nLast traded price: 1986.62\nFluctuation ratio: +0.00%\nTraded volume:     280448\nTraded price:      3017469\n\nCurr date is 20141204\nLast traded price: 1986.61\nFluctuation ratio: +0.85%\nTraded volume:     241669\nTraded price:      3464610\n\nCurr date is 20141203\nLast traded price: 1969.91\nFluctuation ratio: +0.21%\nTraded volume:     264661\nTraded price:      3136377\n\nCurr date is 20141202\nLast traded price: 1965.83\nFluctuation ratio: +0.03%\nTraded volume:     310614\nTraded price:      3708872\n\nCurr date is 20141201\nLast traded price: 1965.22\nFluctuation ratio: -0.79%\nTraded volume:     328955\nTraded price:      4605221\n"
     ]
    },
    {
     "name": "stdout",
     "output_type": "stream",
     "text": [
      "\nCurr date is 20141128\nLast traded price: 1980.78\nFluctuation ratio: -0.07%\nTraded volume:     335862\nTraded price:      4220597\n\nCurr date is 20141127\nLast traded price: 1982.09\nFluctuation ratio: +0.06%\nTraded volume:     278397\nTraded price:      5176725\n\nCurr date is 20141126\nLast traded price: 1980.84\nFluctuation ratio: +0.03%\nTraded volume:     245777\nTraded price:      3949993\n\nCurr date is 20141125\nLast traded price: 1980.21\nFluctuation ratio: +0.08%\nTraded volume:     279206\nTraded price:      6024583\n\nCurr date is 20141124\nLast traded price: 1978.54\nFluctuation ratio: +0.70%\nTraded volume:     322592\nTraded price:      5477263\n\nCurr date is 20141121\nLast traded price: 1964.84\nFluctuation ratio: +0.35%\nTraded volume:     341882\nTraded price:      4175043\n"
     ]
    },
    {
     "name": "stdout",
     "output_type": "stream",
     "text": [
      "\nCurr date is 20141120\nLast traded price: 1958.04\nFluctuation ratio: -0.45%\nTraded volume:     331852\nTraded price:      4194488\n\nCurr date is 20141119\nLast traded price: 1966.87\nFluctuation ratio: -0.01%\nTraded volume:     274000\nTraded price:      4396794\n\nCurr date is 20141118\nLast traded price: 1967.01\nFluctuation ratio: +1.20%\nTraded volume:     243905\nTraded price:      4086229\n\nCurr date is 20141117\nLast traded price: 1943.63\nFluctuation ratio: -0.08%\nTraded volume:     274525\nTraded price:      4255101\n\nCurr date is 20141114\nLast traded price: 1945.14\nFluctuation ratio: -0.78%\nTraded volume:     307503\nTraded price:      4950405\n\nCurr date is 20141113\nLast traded price: 1960.51\nFluctuation ratio: -0.34%\nTraded volume:     327648\nTraded price:      3902488\n"
     ]
    },
    {
     "name": "stdout",
     "output_type": "stream",
     "text": [
      "\nCurr date is 20141112\nLast traded price: 1967.27\nFluctuation ratio: +0.22%\nTraded volume:     344719\nTraded price:      4401132\n\nCurr date is 20141111\nLast traded price: 1963.00\nFluctuation ratio: +0.24%\nTraded volume:     308287\nTraded price:      4408109\n\nCurr date is 20141110\nLast traded price: 1958.23\nFluctuation ratio: +0.95%\nTraded volume:     308267\nTraded price:      4422050\n\nCurr date is 20141107\nLast traded price: 1939.87\nFluctuation ratio: +0.18%\nTraded volume:     250598\nTraded price:      3574807\n\nCurr date is 20141106\nLast traded price: 1936.48\nFluctuation ratio: +0.26%\nTraded volume:     344538\nTraded price:      4368937\n\nCurr date is 20141105\nLast traded price: 1931.43\nFluctuation ratio: -0.19%\nTraded volume:     327924\nTraded price:      4001394\n"
     ]
    },
    {
     "name": "stdout",
     "output_type": "stream",
     "text": [
      "\nCurr date is 20141104\nLast traded price: 1935.19\nFluctuation ratio: -0.91%\nTraded volume:     387726\nTraded price:      4868365\n\nCurr date is 20141103\nLast traded price: 1952.97\nFluctuation ratio: -0.58%\nTraded volume:     340854\nTraded price:      4397324\n\nCurr date is 20141031\nLast traded price: 1964.43\nFluctuation ratio: +0.28%\nTraded volume:     334087\nTraded price:      5245338\n\nCurr date is 20141030\nLast traded price: 1958.93\nFluctuation ratio: -0.11%\nTraded volume:     307569\nTraded price:      4923400\n\nCurr date is 20141029\nLast traded price: 1961.17\nFluctuation ratio: +1.84%\nTraded volume:     391852\nTraded price:      5341254\n\nCurr date is 20141028\nLast traded price: 1925.68\nFluctuation ratio: -0.33%\nTraded volume:     404793\nTraded price:      3713021\n"
     ]
    },
    {
     "name": "stdout",
     "output_type": "stream",
     "text": [
      "\nCurr date is 20141027\nLast traded price: 1931.97\nFluctuation ratio: +0.33%\nTraded volume:     403265\nTraded price:      3995164\n\nCurr date is 20141024\nLast traded price: 1925.69\nFluctuation ratio: -0.31%\nTraded volume:     391879\nTraded price:      4255770\n\nCurr date is 20141023\nLast traded price: 1931.65\nFluctuation ratio: -0.27%\nTraded volume:     365647\nTraded price:      4279797\n\nCurr date is 20141022\nLast traded price: 1936.97\nFluctuation ratio: +1.13%\nTraded volume:     391362\nTraded price:      4359710\n\nCurr date is 20141021\nLast traded price: 1915.28\nFluctuation ratio: -0.77%\nTraded volume:     397515\nTraded price:      4274846\n\nCurr date is 20141020\nLast traded price: 1930.06\nFluctuation ratio: +1.55%\nTraded volume:     339378\nTraded price:      3518148\n"
     ]
    },
    {
     "name": "stdout",
     "output_type": "stream",
     "text": [
      "\nCurr date is 20141017\nLast traded price: 1900.66\nFluctuation ratio: -0.95%\nTraded volume:     355535\nTraded price:      4454047\n\nCurr date is 20141016\nLast traded price: 1918.83\nFluctuation ratio: -0.37%\nTraded volume:     302100\nTraded price:      4423301\n\nCurr date is 20141015\nLast traded price: 1925.91\nFluctuation ratio: -0.17%\nTraded volume:     306734\nTraded price:      4022416\n\nCurr date is 20141014\nLast traded price: 1929.25\nFluctuation ratio: +0.11%\nTraded volume:     332476\nTraded price:      4117644\n\nCurr date is 20141013\nLast traded price: 1927.21\nFluctuation ratio: -0.71%\nTraded volume:     305428\nTraded price:      3945695\n\nCurr date is 20141010\nLast traded price: 1940.92\nFluctuation ratio: -1.24%\nTraded volume:     338162\nTraded price:      4350972\n"
     ]
    },
    {
     "name": "stdout",
     "output_type": "stream",
     "text": [
      "\nCurr date is 20141008\nLast traded price: 1965.25\nFluctuation ratio: -0.39%\nTraded volume:     262800\nTraded price:      3690748\n\nCurr date is 20141007\nLast traded price: 1972.91\nFluctuation ratio: +0.23%\nTraded volume:     324339\nTraded price:      3777823\n\nCurr date is 20141006\nLast traded price: 1968.39\nFluctuation ratio: -0.39%\nTraded volume:     315350\nTraded price:      4196895\n\nCurr date is 20141002\nLast traded price: 1976.16\nFluctuation ratio: -0.77%\nTraded volume:     319353\nTraded price:      4637472\n\nCurr date is 20141001\nLast traded price: 1991.54\nFluctuation ratio: -1.41%\nTraded volume:     347820\nTraded price:      4293502\n\nCurr date is 20140930\nLast traded price: 2020.09\nFluctuation ratio: -0.32%\nTraded volume:     315333\nTraded price:      4160112\n"
     ]
    },
    {
     "name": "stdout",
     "output_type": "stream",
     "text": [
      "\nCurr date is 20140929\nLast traded price: 2026.60\nFluctuation ratio: -0.25%\nTraded volume:     334737\nTraded price:      4377072\n\nCurr date is 20140926\nLast traded price: 2031.64\nFluctuation ratio: -0.12%\nTraded volume:     305575\nTraded price:      3770029\n\nCurr date is 20140925\nLast traded price: 2034.11\nFluctuation ratio: -0.08%\nTraded volume:     316799\nTraded price:      4275060\n\nCurr date is 20140924\nLast traded price: 2035.64\nFluctuation ratio: +0.33%\nTraded volume:     328759\nTraded price:      4342212\n\nCurr date is 20140923\nLast traded price: 2028.91\nFluctuation ratio: -0.51%\nTraded volume:     422689\nTraded price:      4572823\n\nCurr date is 20140922\nLast traded price: 2039.27\nFluctuation ratio: -0.71%\nTraded volume:     319494\nTraded price:      3483751\n"
     ]
    },
    {
     "name": "stdout",
     "output_type": "stream",
     "text": [
      "\nCurr date is 20140919\nLast traded price: 2053.82\nFluctuation ratio: +0.30%\nTraded volume:     375520\nTraded price:      4812315\n\nCurr date is 20140918\nLast traded price: 2047.74\nFluctuation ratio: -0.72%\nTraded volume:     390545\nTraded price:      5215264\n\nCurr date is 20140917\nLast traded price: 2062.61\nFluctuation ratio: +0.96%\nTraded volume:     346442\nTraded price:      3429398\n\nCurr date is 20140916\nLast traded price: 2042.92\nFluctuation ratio: +0.35%\nTraded volume:     362555\nTraded price:      3071310\n\nCurr date is 20140915\nLast traded price: 2035.82\nFluctuation ratio: -0.30%\nTraded volume:     294911\nTraded price:      3122884\n\nCurr date is 20140912\nLast traded price: 2041.86\nFluctuation ratio: +0.38%\nTraded volume:     358471\nTraded price:      3779245\n"
     ]
    },
    {
     "name": "stdout",
     "output_type": "stream",
     "text": [
      "\nCurr date is 20140911\nLast traded price: 2034.16\nFluctuation ratio: -0.74%\nTraded volume:     328302\nTraded price:      4910270\n\nCurr date is 20140905\nLast traded price: 2049.41\nFluctuation ratio: -0.33%\nTraded volume:     338882\nTraded price:      3857244\n\nCurr date is 20140904\nLast traded price: 2056.26\nFluctuation ratio: +0.25%\nTraded volume:     372306\nTraded price:      4448018\n\nCurr date is 20140903\nLast traded price: 2051.20\nFluctuation ratio: -0.02%\nTraded volume:     333233\nTraded price:      4625007\n\nCurr date is 20140902\nLast traded price: 2051.58\nFluctuation ratio: -0.79%\nTraded volume:     319591\nTraded price:      3981623\n\nCurr date is 20140901\nLast traded price: 2067.86\nFluctuation ratio: -0.03%\nTraded volume:     269659\nTraded price:      3181819\n"
     ]
    },
    {
     "name": "stdout",
     "output_type": "stream",
     "text": [
      "\nCurr date is 20140829\nLast traded price: 2068.54\nFluctuation ratio: -0.35%\nTraded volume:     296756\nTraded price:      3990195\n\nCurr date is 20140828\nLast traded price: 2075.76\nFluctuation ratio: +0.04%\nTraded volume:     301700\nTraded price:      3720860\n\nCurr date is 20140827\nLast traded price: 2074.93\nFluctuation ratio: +0.33%\nTraded volume:     333998\nTraded price:      4316348\n\nCurr date is 20140826\nLast traded price: 2068.05\nFluctuation ratio: +0.35%\nTraded volume:     284881\nTraded price:      3620635\n\nCurr date is 20140825\nLast traded price: 2060.89\nFluctuation ratio: +0.20%\nTraded volume:     268890\nTraded price:      3442655\n\nCurr date is 20140822\nLast traded price: 2056.70\nFluctuation ratio: +0.61%\nTraded volume:     274117\nTraded price:      3455265\n"
     ]
    },
    {
     "name": "stdout",
     "output_type": "stream",
     "text": [
      "\nCurr date is 20140821\nLast traded price: 2044.21\nFluctuation ratio: -1.38%\nTraded volume:     300227\nTraded price:      4476954\n\nCurr date is 20140820\nLast traded price: 2072.78\nFluctuation ratio: +0.08%\nTraded volume:     311042\nTraded price:      4389712\n\nCurr date is 20140819\nLast traded price: 2071.14\nFluctuation ratio: +0.88%\nTraded volume:     323722\nTraded price:      4253648\n\nCurr date is 20140818\nLast traded price: 2053.13\nFluctuation ratio: -0.49%\nTraded volume:     295528\nTraded price:      3565288\n\nCurr date is 20140814\nLast traded price: 2063.22\nFluctuation ratio: +0.04%\nTraded volume:     267368\nTraded price:      3786580\n\nCurr date is 20140813\nLast traded price: 2062.36\nFluctuation ratio: +1.02%\nTraded volume:     275928\nTraded price:      4160760\n"
     ]
    },
    {
     "name": "stdout",
     "output_type": "stream",
     "text": [
      "\nCurr date is 20140812\nLast traded price: 2041.47\nFluctuation ratio: +0.10%\nTraded volume:     308125\nTraded price:      3694877\n\nCurr date is 20140811\nLast traded price: 2039.37\nFluctuation ratio: +0.41%\nTraded volume:     281859\nTraded price:      3435591\n\nCurr date is 20140808\nLast traded price: 2031.10\nFluctuation ratio: -1.14%\nTraded volume:     347908\nTraded price:      4407248\n\nCurr date is 20140807\nLast traded price: 2054.51\nFluctuation ratio: -0.30%\nTraded volume:     285474\nTraded price:      3683729\n\nCurr date is 20140806\nLast traded price: 2060.73\nFluctuation ratio: -0.27%\nTraded volume:     357521\nTraded price:      4416907\n\nCurr date is 20140805\nLast traded price: 2066.26\nFluctuation ratio: -0.68%\nTraded volume:     322533\nTraded price:      3784559\n"
     ]
    },
    {
     "name": "stdout",
     "output_type": "stream",
     "text": [
      "\nCurr date is 20140804\nLast traded price: 2080.42\nFluctuation ratio: +0.35%\nTraded volume:     250575\nTraded price:      3862235\n\nCurr date is 20140801\nLast traded price: 2073.10\nFluctuation ratio: -0.15%\nTraded volume:     268669\nTraded price:      4928825\n\nCurr date is 20140731\nLast traded price: 2076.12\nFluctuation ratio: -0.31%\nTraded volume:     379557\nTraded price:      5997945\n\nCurr date is 20140730\nLast traded price: 2082.61\nFluctuation ratio: +1.00%\nTraded volume:     338279\nTraded price:      6426401\n\nCurr date is 20140729\nLast traded price: 2061.97\nFluctuation ratio: +0.64%\nTraded volume:     401105\nTraded price:      5872696\n\nCurr date is 20140728\nLast traded price: 2048.81\nFluctuation ratio: +0.74%\nTraded volume:     343240\nTraded price:      4544045\n"
     ]
    },
    {
     "name": "stdout",
     "output_type": "stream",
     "text": [
      "\nCurr date is 20140725\nLast traded price: 2033.85\nFluctuation ratio: +0.36%\nTraded volume:     267408\nTraded price:      3826722\n\nCurr date is 20140724\nLast traded price: 2026.62\nFluctuation ratio: -0.08%\nTraded volume:     320206\nTraded price:      4542263\n\nCurr date is 20140723\nLast traded price: 2028.32\nFluctuation ratio: -0.03%\nTraded volume:     345338\nTraded price:      4049538\n\nCurr date is 20140722\nLast traded price: 2028.93\nFluctuation ratio: +0.52%\nTraded volume:     261685\nTraded price:      3006868\n\nCurr date is 20140721\nLast traded price: 2018.50\nFluctuation ratio: -0.05%\nTraded volume:     271415\nTraded price:      3193026\n\nCurr date is 20140718\nLast traded price: 2019.42\nFluctuation ratio: -0.07%\nTraded volume:     273439\nTraded price:      3238917\n"
     ]
    },
    {
     "name": "stdout",
     "output_type": "stream",
     "text": [
      "\nCurr date is 20140717\nLast traded price: 2020.90\nFluctuation ratio: +0.37%\nTraded volume:     318949\nTraded price:      3854078\n\nCurr date is 20140716\nLast traded price: 2013.48\nFluctuation ratio: +0.04%\nTraded volume:     311120\nTraded price:      3893282\n\nCurr date is 20140715\nLast traded price: 2012.72\nFluctuation ratio: +0.94%\nTraded volume:     356640\nTraded price:      4040552\n\nCurr date is 20140714\nLast traded price: 1993.88\nFluctuation ratio: +0.26%\nTraded volume:     267608\nTraded price:      3071958\n\nCurr date is 20140711\nLast traded price: 1988.74\nFluctuation ratio: -0.70%\nTraded volume:     272598\nTraded price:      3467808\n\nCurr date is 20140710\nLast traded price: 2002.84\nFluctuation ratio: +0.12%\nTraded volume:     323818\nTraded price:      3580097\n"
     ]
    },
    {
     "name": "stdout",
     "output_type": "stream",
     "text": [
      "\nCurr date is 20140709\nLast traded price: 2000.50\nFluctuation ratio: -0.31%\nTraded volume:     269156\nTraded price:      3677136\n\nCurr date is 20140708\nLast traded price: 2006.66\nFluctuation ratio: +0.08%\nTraded volume:     256431\nTraded price:      3369937\n\nCurr date is 20140707\nLast traded price: 2005.12\nFluctuation ratio: -0.23%\nTraded volume:     225549\nTraded price:      2974367\n\nCurr date is 20140704\nLast traded price: 2009.66\nFluctuation ratio: -0.07%\nTraded volume:     238714\nTraded price:      3036642\n\nCurr date is 20140703\nLast traded price: 2010.97\nFluctuation ratio: -0.21%\nTraded volume:     256694\nTraded price:      3415320\n\nCurr date is 20140702\nLast traded price: 2015.28\nFluctuation ratio: +0.81%\nTraded volume:     311426\nTraded price:      3713358\n"
     ]
    },
    {
     "name": "stdout",
     "output_type": "stream",
     "text": [
      "\nCurr date is 20140701\nLast traded price: 1999.00\nFluctuation ratio: -0.16%\nTraded volume:     235523\nTraded price:      2936667\n\nCurr date is 20140630\nLast traded price: 2002.21\nFluctuation ratio: +0.69%\nTraded volume:     198147\nTraded price:      2870175\n\nCurr date is 20140627\nLast traded price: 1988.51\nFluctuation ratio: -0.33%\nTraded volume:     213631\nTraded price:      2962209\n\nCurr date is 20140626\nLast traded price: 1995.05\nFluctuation ratio: +0.67%\nTraded volume:     266464\nTraded price:      3793358\n\nCurr date is 20140625\nLast traded price: 1981.77\nFluctuation ratio: -0.63%\nTraded volume:     329627\nTraded price:      3306330\n\nCurr date is 20140624\nLast traded price: 1994.35\nFluctuation ratio: +0.98%\nTraded volume:     241511\nTraded price:      3552323\n"
     ]
    },
    {
     "name": "stdout",
     "output_type": "stream",
     "text": [
      "\nCurr date is 20140623\nLast traded price: 1974.92\nFluctuation ratio: +0.35%\nTraded volume:     221379\nTraded price:      3284703\n\nCurr date is 20140620\nLast traded price: 1968.07\nFluctuation ratio: -1.20%\nTraded volume:     219913\nTraded price:      3977340\n\nCurr date is 20140619\nLast traded price: 1992.03\nFluctuation ratio: +0.13%\nTraded volume:     251781\nTraded price:      3873682\n\nCurr date is 20140618\nLast traded price: 1989.49\nFluctuation ratio: -0.60%\nTraded volume:     210022\nTraded price:      3187212\n\nCurr date is 20140617\nLast traded price: 2001.55\nFluctuation ratio: +0.40%\nTraded volume:     232786\nTraded price:      3448945\n\nCurr date is 20140616\nLast traded price: 1993.59\nFluctuation ratio: +0.14%\nTraded volume:     213930\nTraded price:      3309603\n"
     ]
    },
    {
     "name": "stdout",
     "output_type": "stream",
     "text": [
      "\nCurr date is 20140613\nLast traded price: 1990.85\nFluctuation ratio: -1.03%\nTraded volume:     220593\nTraded price:      3505363\n\nCurr date is 20140612\nLast traded price: 2011.65\nFluctuation ratio: -0.15%\nTraded volume:     246887\nTraded price:      4146952\n\nCurr date is 20140611\nLast traded price: 2014.67\nFluctuation ratio: +0.14%\nTraded volume:     234720\nTraded price:      3810084\n\nCurr date is 20140610\nLast traded price: 2011.80\nFluctuation ratio: +1.09%\nTraded volume:     232247\nTraded price:      3837230\n\nCurr date is 20140609\nLast traded price: 1990.04\nFluctuation ratio: -0.27%\nTraded volume:     207205\nTraded price:      4514168\n\nCurr date is 20140605\nLast traded price: 1995.48\nFluctuation ratio: -0.65%\nTraded volume:     211467\nTraded price:      4404876\n"
     ]
    },
    {
     "name": "stdout",
     "output_type": "stream",
     "text": [
      "\nCurr date is 20140603\nLast traded price: 2008.56\nFluctuation ratio: +0.33%\nTraded volume:     261739\nTraded price:      4757931\n\nCurr date is 20140602\nLast traded price: 2002.00\nFluctuation ratio: +0.35%\nTraded volume:     262699\nTraded price:      3104545\n\nCurr date is 20140530\nLast traded price: 1994.96\nFluctuation ratio: -0.86%\nTraded volume:     242647\nTraded price:      4998367\n\nCurr date is 20140529\nLast traded price: 2012.26\nFluctuation ratio: -0.24%\nTraded volume:     226077\nTraded price:      3628824\n\nCurr date is 20140528\nLast traded price: 2017.06\nFluctuation ratio: +0.97%\nTraded volume:     207463\nTraded price:      3218728\n\nCurr date is 20140527\nLast traded price: 1997.63\nFluctuation ratio: -0.63%\nTraded volume:     219073\nTraded price:      2704692\n"
     ]
    },
    {
     "name": "stdout",
     "output_type": "stream",
     "text": [
      "\nCurr date is 20140526\nLast traded price: 2010.35\nFluctuation ratio: -0.34%\nTraded volume:     194315\nTraded price:      2651957\n\nCurr date is 20140523\nLast traded price: 2017.17\nFluctuation ratio: +0.08%\nTraded volume:     239157\nTraded price:      3133989\n\nCurr date is 20140522\nLast traded price: 2015.59\nFluctuation ratio: +0.36%\nTraded volume:     227074\nTraded price:      3574341\n\nCurr date is 20140521\nLast traded price: 2008.33\nFluctuation ratio: -0.15%\nTraded volume:     218888\nTraded price:      3217907\n\nCurr date is 20140520\nLast traded price: 2011.26\nFluctuation ratio: -0.19%\nTraded volume:     242307\nTraded price:      3661335\n\nCurr date is 20140519\nLast traded price: 2015.14\nFluctuation ratio: +0.08%\nTraded volume:     258600\nTraded price:      4136234\n"
     ]
    },
    {
     "name": "stdout",
     "output_type": "stream",
     "text": [
      "\nCurr date is 20140516\nLast traded price: 2013.44\nFluctuation ratio: +0.16%\nTraded volume:     229481\nTraded price:      3966285\n\nCurr date is 20140515\nLast traded price: 2010.20\nFluctuation ratio: -0.03%\nTraded volume:     253428\nTraded price:      3301753\n\nCurr date is 20140514\nLast traded price: 2010.83\nFluctuation ratio: +1.41%\nTraded volume:     229158\nTraded price:      3636543\n\nCurr date is 20140513\nLast traded price: 1982.93\nFluctuation ratio: +0.92%\nTraded volume:     238319\nTraded price:      3698504\n\nCurr date is 20140512\nLast traded price: 1964.94\nFluctuation ratio: +0.43%\nTraded volume:     197864\nTraded price:      3718159\n\nCurr date is 20140509\nLast traded price: 1956.55\nFluctuation ratio: +0.31%\nTraded volume:     201103\nTraded price:      3414683\n"
     ]
    },
    {
     "name": "stdout",
     "output_type": "stream",
     "text": [
      "\nCurr date is 20140508\nLast traded price: 1950.60\nFluctuation ratio: +0.55%\nTraded volume:     218940\nTraded price:      3818329\n\nCurr date is 20140507\nLast traded price: 1939.88\nFluctuation ratio: -1.00%\nTraded volume:     189638\nTraded price:      3539128\n\nCurr date is 20140502\nLast traded price: 1959.44\nFluctuation ratio: -0.12%\nTraded volume:     170004\nTraded price:      3205069\n\nCurr date is 20140430\nLast traded price: 1961.79\nFluctuation ratio: -0.15%\nTraded volume:     224144\nTraded price:      3844149\n\nCurr date is 20140429\nLast traded price: 1964.77\nFluctuation ratio: -0.23%\nTraded volume:     171640\nTraded price:      2935333\n\nCurr date is 20140428\nLast traded price: 1969.26\nFluctuation ratio: -0.12%\nTraded volume:     165150\nTraded price:      2791504\n"
     ]
    },
    {
     "name": "stdout",
     "output_type": "stream",
     "text": [
      "\nCurr date is 20140425\nLast traded price: 1971.66\nFluctuation ratio: -1.34%\nTraded volume:     201771\nTraded price:      3600000\n\nCurr date is 20140424\nLast traded price: 1998.34\nFluctuation ratio: -0.10%\nTraded volume:     227923\nTraded price:      3513555\n\nCurr date is 20140423\nLast traded price: 2000.37\nFluctuation ratio: -0.19%\nTraded volume:     231735\nTraded price:      3822075\n\nCurr date is 20140422\nLast traded price: 2004.22\nFluctuation ratio: +0.25%\nTraded volume:     202451\nTraded price:      3020345\n\nCurr date is 20140421\nLast traded price: 1999.22\nFluctuation ratio: -0.25%\nTraded volume:     201221\nTraded price:      2197825\n\nCurr date is 20140418\nLast traded price: 2004.28\nFluctuation ratio: +0.61%\nTraded volume:     201862\nTraded price:      2722967\n"
     ]
    },
    {
     "name": "stdout",
     "output_type": "stream",
     "text": [
      "\nCurr date is 20140417\nLast traded price: 1992.05\nFluctuation ratio: -0.01%\nTraded volume:     195693\nTraded price:      2857523\n\nCurr date is 20140416\nLast traded price: 1992.21\nFluctuation ratio: -0.00%\nTraded volume:     224325\nTraded price:      3227487\n\nCurr date is 20140415\nLast traded price: 1992.27\nFluctuation ratio: -0.24%\nTraded volume:     191446\nTraded price:      3409027\n\nCurr date is 20140414\nLast traded price: 1997.02\nFluctuation ratio: -0.02%\nTraded volume:     201425\nTraded price:      2821669\n\nCurr date is 20140411\nLast traded price: 1997.44\nFluctuation ratio: -0.56%\nTraded volume:     204566\nTraded price:      3428399\n\nCurr date is 20140410\nLast traded price: 2008.61\nFluctuation ratio: +0.48%\nTraded volume:     218950\nTraded price:      4101410\n"
     ]
    },
    {
     "name": "stdout",
     "output_type": "stream",
     "text": [
      "\nCurr date is 20140409\nLast traded price: 1998.95\nFluctuation ratio: +0.30%\nTraded volume:     230827\nTraded price:      4695200\n\nCurr date is 20140408\nLast traded price: 1993.03\nFluctuation ratio: +0.17%\nTraded volume:     214842\nTraded price:      3702218\n\nCurr date is 20140407\nLast traded price: 1989.70\nFluctuation ratio: +0.08%\nTraded volume:     182372\nTraded price:      3590499\n\nCurr date is 20140404\nLast traded price: 1988.09\nFluctuation ratio: -0.28%\nTraded volume:     212662\nTraded price:      3215389\n\nCurr date is 20140403\nLast traded price: 1993.70\nFluctuation ratio: -0.18%\nTraded volume:     222076\nTraded price:      4122174\n\nCurr date is 20140402\nLast traded price: 1997.25\nFluctuation ratio: +0.26%\nTraded volume:     217813\nTraded price:      3905603\n"
     ]
    },
    {
     "name": "stdout",
     "output_type": "stream",
     "text": [
      "\nCurr date is 20140401\nLast traded price: 1991.98\nFluctuation ratio: +0.32%\nTraded volume:     208181\nTraded price:      3708410\n\nCurr date is 20140331\nLast traded price: 1985.61\nFluctuation ratio: +0.23%\nTraded volume:     237572\nTraded price:      4391688\n\nCurr date is 20140328\nLast traded price: 1981.00\nFluctuation ratio: +0.15%\nTraded volume:     241713\nTraded price:      3392042\n\nCurr date is 20140327\nLast traded price: 1977.97\nFluctuation ratio: +0.70%\nTraded volume:     212688\nTraded price:      3867323\n\nCurr date is 20140326\nLast traded price: 1964.31\nFluctuation ratio: +1.19%\nTraded volume:     243349\nTraded price:      3972279\n\nCurr date is 20140325\nLast traded price: 1941.25\nFluctuation ratio: -0.22%\nTraded volume:     222621\nTraded price:      3728658\n"
     ]
    },
    {
     "name": "stdout",
     "output_type": "stream",
     "text": [
      "\nCurr date is 20140324\nLast traded price: 1945.55\nFluctuation ratio: +0.55%\nTraded volume:     225732\nTraded price:      3264262\n\nCurr date is 20140321\nLast traded price: 1934.94\nFluctuation ratio: +0.80%\nTraded volume:     245724\nTraded price:      3373507\n\nCurr date is 20140320\nLast traded price: 1919.52\nFluctuation ratio: -0.94%\nTraded volume:     216319\nTraded price:      3275680\n\nCurr date is 20140319\nLast traded price: 1937.68\nFluctuation ratio: -0.13%\nTraded volume:     246298\nTraded price:      3363229\n\nCurr date is 20140318\nLast traded price: 1940.21\nFluctuation ratio: +0.66%\nTraded volume:     270588\nTraded price:      3560038\n\nCurr date is 20140317\nLast traded price: 1927.53\nFluctuation ratio: +0.40%\nTraded volume:     212146\nTraded price:      3264799\n"
     ]
    },
    {
     "name": "stdout",
     "output_type": "stream",
     "text": [
      "\nCurr date is 20140314\nLast traded price: 1919.90\nFluctuation ratio: -0.75%\nTraded volume:     251334\nTraded price:      3976822\n\nCurr date is 20140313\nLast traded price: 1934.38\nFluctuation ratio: +0.10%\nTraded volume:     256319\nTraded price:      4349817\n\nCurr date is 20140312\nLast traded price: 1932.54\nFluctuation ratio: -1.60%\nTraded volume:     316494\nTraded price:      4125029\n\nCurr date is 20140311\nLast traded price: 1963.87\nFluctuation ratio: +0.48%\nTraded volume:     244704\nTraded price:      3387413\n\nCurr date is 20140310\nLast traded price: 1954.42\nFluctuation ratio: -1.03%\nTraded volume:     207689\nTraded price:      3351209\n\nCurr date is 20140307\nLast traded price: 1974.68\nFluctuation ratio: -0.05%\nTraded volume:     224665\nTraded price:      3208114\n"
     ]
    },
    {
     "name": "stdout",
     "output_type": "stream",
     "text": [
      "\nCurr date is 20140306\nLast traded price: 1975.62\nFluctuation ratio: +0.22%\nTraded volume:     188961\nTraded price:      3301684\n\nCurr date is 20140305\nLast traded price: 1971.24\nFluctuation ratio: +0.88%\nTraded volume:     194812\nTraded price:      3567045\n\nCurr date is 20140304\nLast traded price: 1954.11\nFluctuation ratio: -0.54%\nTraded volume:     197609\nTraded price:      3036204\n\nCurr date is 20140303\nLast traded price: 1964.69\nFluctuation ratio: -0.77%\nTraded volume:     220309\nTraded price:      3334422\n\nCurr date is 20140228\nLast traded price: 1979.99\nFluctuation ratio: +0.08%\nTraded volume:     245561\nTraded price:      4724885\n\nCurr date is 20140227\nLast traded price: 1978.43\nFluctuation ratio: +0.39%\nTraded volume:     198142\nTraded price:      3763740\n"
     ]
    },
    {
     "name": "stdout",
     "output_type": "stream",
     "text": [
      "\nCurr date is 20140226\nLast traded price: 1970.77\nFluctuation ratio: +0.30%\nTraded volume:     204839\nTraded price:      3785678\n\nCurr date is 20140225\nLast traded price: 1964.86\nFluctuation ratio: +0.81%\nTraded volume:     222865\nTraded price:      3864116\n\nCurr date is 20140224\nLast traded price: 1949.05\nFluctuation ratio: -0.45%\nTraded volume:     191774\nTraded price:      2830628\n\nCurr date is 20140221\nLast traded price: 1957.83\nFluctuation ratio: +1.41%\nTraded volume:     209495\nTraded price:      3455116\n\nCurr date is 20140220\nLast traded price: 1930.57\nFluctuation ratio: -0.64%\nTraded volume:     228428\nTraded price:      3787085\n\nCurr date is 20140219\nLast traded price: 1942.93\nFluctuation ratio: -0.20%\nTraded volume:     208354\nTraded price:      2991546\n"
     ]
    },
    {
     "name": "stdout",
     "output_type": "stream",
     "text": [
      "\nCurr date is 20140218\nLast traded price: 1946.91\nFluctuation ratio: +0.03%\nTraded volume:     198390\nTraded price:      2689169\n\nCurr date is 20140217\nLast traded price: 1946.36\nFluctuation ratio: +0.31%\nTraded volume:     211950\nTraded price:      3353405\n\nCurr date is 20140214\nLast traded price: 1940.28\nFluctuation ratio: +0.69%\nTraded volume:     212453\nTraded price:      3158472\n\nCurr date is 20140213\nLast traded price: 1926.96\nFluctuation ratio: -0.46%\nTraded volume:     183349\nTraded price:      2865046\n\nCurr date is 20140212\nLast traded price: 1935.84\nFluctuation ratio: +0.20%\nTraded volume:     222257\nTraded price:      3569015\n\nCurr date is 20140211\nLast traded price: 1932.06\nFluctuation ratio: +0.46%\nTraded volume:     217817\nTraded price:      3187798\n"
     ]
    }
   ],
   "source": [
    "dates = []\n",
    "date_strs = []\n",
    "last_trade_prices = []\n",
    "for nrpage in range(200):\n",
    "    rawurl = \"http://finance.naver.com/sise/sise_index_day.nhn?code=KOSPI&page=\"\n",
    "    url = rawurl + str(nrpage+1)\n",
    "    # Get data (parse)\n",
    "    soup = BeautifulSoup(urllib.request.urlopen(url).read())\n",
    "    dateinfo  = soup.find_all('td', {'class': 'date'})\n",
    "    valueinfo = soup.find_all('td', {'class': 'number_1'})\n",
    "    nrdata    = len(valueinfo)\n",
    "    for i in range(nrdata):\n",
    "        # Date\n",
    "        currdate = str(dateinfo[int(i/4)])\n",
    "        currdate = currdate.replace('<td class=\"date\">', '')\n",
    "        currdate = currdate.replace('</td>', '')\n",
    "        currdate = currdate.replace('.', \"\")\n",
    "\n",
    "        # Values\n",
    "        currdata = str(valueinfo[i])\n",
    "        currdata = currdata.replace('<td class=\"number_1\">', \"\")\n",
    "        currdata = currdata.replace('</td>', \"\")\n",
    "        currdata = currdata.replace('<span class=\"tah p11 red01\">', '')\n",
    "        currdata = currdata.replace('</span>', \"\")\n",
    "        currdata = currdata.replace('<td class=\"number_1\" style=\"padding-right:40px;\">', \"\")\n",
    "        currdata = currdata.replace('<td class=\"number_1\" style=\"padding-right:30px;\">', \"\")\n",
    "        currdata = currdata.replace('<span class=\"tah p11 nv01\">', \"\")\n",
    "        currdata = currdata.replace(' ', \"\")\n",
    "        currdata = currdata.replace('\\n', \"\")\n",
    "        currdata = currdata.replace('\\t', \"\")\n",
    "        currdata = currdata.replace(',', \"\")\n",
    "\n",
    "        if i % 4 == 0:\n",
    "            print (\"\\nCurr date is %s\" % (currdate))\n",
    "            date_strs.append(currdate)\n",
    "            dates.append(float(currdate))\n",
    "            print (\"Last traded price: %s\" % (currdata))\n",
    "            last_trade_prices.append(float(currdata))\n",
    "        elif i % 4 == 1:\n",
    "            print (\"Fluctuation ratio: %s\" % (currdata))\n",
    "        elif i % 4 == 2:\n",
    "            print (\"Traded volume:     %s\" % (currdata))\n",
    "        elif i % 4 == 3:\n",
    "            print (\"Traded price:      %s\" % (currdata))\n",
    "# Reverse \n",
    "dates.reverse()\n",
    "date_strs.reverse()\n",
    "last_trade_prices.reverse()"
   ]
  },
  {
   "cell_type": "code",
   "execution_count": 16,
   "metadata": {
    "collapsed": true
   },
   "outputs": [
    {
     "data": {
      "text/plain": [
       "[1932.06,\n 1935.84,\n 1926.96,\n 1940.28,\n 1946.36,\n 1946.91,\n 1942.93,\n 1930.57,\n 1957.83,\n 1949.05,\n 1964.86,\n 1970.77,\n 1978.43,\n 1979.99,\n 1964.69,\n 1954.11,\n 1971.24,\n 1975.62,\n 1974.68,\n 1954.42,\n 1963.87,\n 1932.54,\n 1934.38,\n 1919.9,\n 1927.53,\n 1940.21,\n 1937.68,\n 1919.52,\n 1934.94,\n 1945.55,\n 1941.25,\n 1964.31,\n 1977.97,\n 1981.0,\n 1985.61,\n 1991.98,\n 1997.25,\n 1993.7,\n 1988.09,\n 1989.7,\n 1993.03,\n 1998.95,\n 2008.61,\n 1997.44,\n 1997.02,\n 1992.27,\n 1992.21,\n 1992.05,\n 2004.28,\n 1999.22,\n 2004.22,\n 2000.37,\n 1998.34,\n 1971.66,\n 1969.26,\n 1964.77,\n 1961.79,\n 1959.44,\n 1939.88,\n 1950.6,\n 1956.55,\n 1964.94,\n 1982.93,\n 2010.83,\n 2010.2,\n 2013.44,\n 2015.14,\n 2011.26,\n 2008.33,\n 2015.59,\n 2017.17,\n 2010.35,\n 1997.63,\n 2017.06,\n 2012.26,\n 1994.96,\n 2002.0,\n 2008.56,\n 1995.48,\n 1990.04,\n 2011.8,\n 2014.67,\n 2011.65,\n 1990.85,\n 1993.59,\n 2001.55,\n 1989.49,\n 1992.03,\n 1968.07,\n 1974.92,\n 1994.35,\n 1981.77,\n 1995.05,\n 1988.51,\n 2002.21,\n 1999.0,\n 2015.28,\n 2010.97,\n 2009.66,\n 2005.12,\n 2006.66,\n 2000.5,\n 2002.84,\n 1988.74,\n 1993.88,\n 2012.72,\n 2013.48,\n 2020.9,\n 2019.42,\n 2018.5,\n 2028.93,\n 2028.32,\n 2026.62,\n 2033.85,\n 2048.81,\n 2061.97,\n 2082.61,\n 2076.12,\n 2073.1,\n 2080.42,\n 2066.26,\n 2060.73,\n 2054.51,\n 2031.1,\n 2039.37,\n 2041.47,\n 2062.36,\n 2063.22,\n 2053.13,\n 2071.14,\n 2072.78,\n 2044.21,\n 2056.7,\n 2060.89,\n 2068.05,\n 2074.93,\n 2075.76,\n 2068.54,\n 2067.86,\n 2051.58,\n 2051.2,\n 2056.26,\n 2049.41,\n 2034.16,\n 2041.86,\n 2035.82,\n 2042.92,\n 2062.61,\n 2047.74,\n 2053.82,\n 2039.27,\n 2028.91,\n 2035.64,\n 2034.11,\n 2031.64,\n 2026.6,\n 2020.09,\n 1991.54,\n 1976.16,\n 1968.39,\n 1972.91,\n 1965.25,\n 1940.92,\n 1927.21,\n 1929.25,\n 1925.91,\n 1918.83,\n 1900.66,\n 1930.06,\n 1915.28,\n 1936.97,\n 1931.65,\n 1925.69,\n 1931.97,\n 1925.68,\n 1961.17,\n 1958.93,\n 1964.43,\n 1952.97,\n 1935.19,\n 1931.43,\n 1936.48,\n 1939.87,\n 1958.23,\n 1963.0,\n 1967.27,\n 1960.51,\n 1945.14,\n 1943.63,\n 1967.01,\n 1966.87,\n 1958.04,\n 1964.84,\n 1978.54,\n 1980.21,\n 1980.84,\n 1982.09,\n 1980.78,\n 1965.22,\n 1965.83,\n 1969.91,\n 1986.61,\n 1986.62,\n 1978.95,\n 1970.95,\n 1945.56,\n 1916.59,\n 1921.71,\n 1920.36,\n 1904.13,\n 1900.16,\n 1897.5,\n 1929.98,\n 1943.12,\n 1939.02,\n 1946.61,\n 1948.16,\n 1927.86,\n 1915.59,\n 1926.44,\n 1915.75,\n 1882.45,\n 1883.83,\n 1904.65,\n 1924.7,\n 1920.95,\n 1917.14,\n 1913.66,\n 1914.14,\n 1888.13,\n 1902.62,\n 1918.31,\n 1921.23,\n 1920.82,\n 1936.09,\n 1935.68,\n 1952.4,\n 1961.58,\n 1951.02,\n 1949.26,\n 1952.68,\n 1951.96,\n 1962.79,\n 1952.84,\n 1955.52,\n 1947.0,\n 1935.86,\n 1945.7,\n 1941.63,\n 1957.5,\n 1958.23,\n 1961.45,\n 1968.39,\n 1976.12,\n 1990.47,\n 1993.08,\n 1985.8,\n 1996.81,\n 2001.38,\n 1998.29,\n 1998.38,\n 2012.94,\n 1992.82,\n 1984.77,\n 1980.83,\n 1970.59,\n 1985.79,\n 1987.33,\n 2029.91,\n 2028.45,\n 2037.89,\n 2037.24,\n 2036.59,\n 2041.37,\n 2042.81,\n 2022.56,\n 2019.8,\n 2030.04,\n 2041.03,\n 2028.45,\n 2029.07,\n 2045.42,\n 2046.43,\n 2047.03,\n 2059.26,\n 2058.87,\n 2087.76,\n 2098.92,\n 2111.72,\n 2119.96,\n 2139.9,\n 2143.5,\n 2146.71,\n 2144.79,\n 2143.89,\n 2173.41,\n 2159.8,\n 2157.54,\n 2147.67,\n 2142.63,\n 2127.17,\n 2132.23,\n 2104.58,\n 2091.0,\n 2085.52,\n 2097.38,\n 2096.77,\n 2114.16,\n 2120.33,\n 2106.5,\n 2113.72,\n 2120.85,\n 2139.54,\n 2122.81,\n 2146.1,\n 2143.5,\n 2107.5,\n 2110.89,\n 2114.8,\n 2102.37,\n 2078.64,\n 2063.16,\n 2072.86,\n 2068.1,\n 2065.19,\n 2064.03,\n 2051.32,\n 2056.61,\n 2052.17,\n 2042.32,\n 2028.72,\n 2034.86,\n 2041.88,\n 2046.96,\n 2055.16,\n 2081.2,\n 2085.53,\n 2085.06,\n 2090.26,\n 2060.49,\n 2074.2,\n 2097.89,\n 2107.33,\n 2104.41,\n 2053.93,\n 2040.29,\n 2016.21,\n 2027.81,\n 2031.17,\n 2061.52,\n 2059.23,\n 2072.91,\n 2087.89,\n 2076.79,\n 2073.31,\n 2083.62,\n 2064.73,\n 2065.07,\n 2045.96,\n 2038.81,\n 2039.1,\n 2037.62,\n 2019.03,\n 2030.16,\n 2008.49,\n 2027.99,\n 2029.76,\n 2013.29,\n 2010.23,\n 2003.17,\n 1986.65,\n 1975.47,\n 1983.46,\n 1968.52,\n 1956.26,\n 1939.38,\n 1914.55,\n 1876.07,\n 1829.81,\n 1846.63,\n 1894.09,\n 1908.0,\n 1937.67,\n 1941.49,\n 1914.23,\n 1915.22,\n 1915.53,\n 1886.04,\n 1883.22,\n 1878.68,\n 1934.2,\n 1962.11,\n 1941.37,\n 1931.46,\n 1937.56,\n 1975.45,\n 1976.49,\n 1995.95,\n 1964.68,\n 1982.06,\n 1944.64,\n 1947.1,\n 1942.85,\n 1962.81,\n 1979.32,\n 1969.68,\n 1978.25,\n 1990.65,\n 2005.84,\n 2019.53,\n 2021.63,\n 2019.05,\n 2009.55,\n 2033.27,\n 2030.26,\n 2030.27,\n 2039.36,\n 2042.98,\n 2023.0,\n 2040.4,\n 2048.08,\n 2044.65,\n 2042.51,\n 2034.16,\n 2029.47,\n 2035.24,\n 2048.4,\n 2052.77,\n 2049.41,\n 2041.07,\n 2025.7,\n 1996.59,\n 1997.27,\n 1993.36,\n 1973.29,\n 1943.02,\n 1963.58,\n 1962.88,\n 1988.91,\n 1989.86,\n 2003.7,\n 2016.29,\n 2009.42,\n 2030.68,\n 2028.99,\n 1991.97,\n 2023.93,\n 2009.29,\n 1994.07,\n 1974.4,\n 1963.67,\n 1949.04,\n 1948.24,\n 1952.07,\n 1948.62,\n 1927.82,\n 1932.97,\n 1969.4,\n 1977.96,\n 1975.32,\n 1981.19,\n 1992.56,\n 1999.22,\n 1990.65,\n 1964.06,\n 1966.31,\n 1961.31,\n 1918.76,\n 1930.53,\n 1925.43,\n 1904.33,\n 1917.62,\n 1894.84,\n 1890.86,\n 1916.28,\n 1900.01,\n 1878.87,\n 1878.45,\n 1889.64,\n 1845.45,\n 1840.53,\n 1879.43,\n 1893.43,\n 1871.69,\n 1897.87,\n 1906.94,\n 1912.06,\n 1924.82,\n 1906.6,\n 1890.67,\n 1916.26,\n 1917.79,\n 1861.54,\n 1835.28,\n 1862.2,\n 1888.3,\n 1883.94,\n 1908.84,\n 1916.24,\n 1916.36,\n 1914.22,\n 1912.53,\n 1918.57,\n 1920.16,\n 1916.66,\n 1947.42,\n 1958.17,\n 1955.63,\n 1957.87,\n 1946.12,\n 1952.95,\n 1969.33,\n 1971.41,\n 1972.27,\n 1969.97,\n 1974.9,\n 1987.99,\n 1992.12,\n 1989.76,\n 1996.81,\n 1995.12,\n 1985.97,\n 1983.81,\n 1982.54,\n 1994.91,\n 2002.14,\n 1995.85,\n 1973.57,\n 1978.97,\n 1962.74,\n 1971.32,\n 1973.89,\n 1972.05,\n 1970.37,\n 1981.32,\n 2015.93,\n 2014.71,\n 2009.1,\n 2011.36,\n 2005.83,\n 2022.1,\n 2015.49,\n 2014.55,\n 2019.63,\n 2015.4,\n 2000.93,\n 1994.15,\n 1978.15,\n 1986.41,\n 1976.71,\n 1967.81,\n 1982.5,\n 1980.1,\n 1977.49,\n 1966.99,\n 1967.91,\n 1968.06,\n 1956.73,\n 1946.78,\n 1947.67,\n 1955.25,\n 1937.68,\n 1960.51,\n 1957.06,\n 1969.17,\n 1967.13,\n 1983.4,\n 1982.72,\n 1985.11,\n 1985.84,\n 2011.63,\n 2027.08,\n 2024.17,\n 2017.63,\n 1979.06,\n 1972.03,\n 1968.83,\n 1951.99,\n 1953.4,\n 1981.12,\n 1982.7,\n 1992.58,\n 1986.71,\n 1925.24,\n 1926.85,\n 1936.22,\n 1956.36,\n 1970.35,\n 1987.32,\n 1995.3,\n 1989.85,\n 1953.12,\n 1974.08,\n 1963.1,\n 1988.54,\n 1991.23,\n 2005.55,\n 2008.77,\n 2017.26,\n 2021.11,\n 2016.89,\n 2015.46,\n 2012.22,\n 2010.34,\n 2012.32,\n 2027.34,\n 2025.05,\n 2021.1,\n 2016.19,\n 2029.61,\n 2019.03,\n 1994.79,\n 2000.03,\n 2017.94,\n 2031.12,\n 2043.78,\n 2044.64,\n 2048.8,\n 2050.47,\n 2047.76,\n 2043.75,\n 2055.47,\n 2056.24,\n 2042.16,\n 2049.93,\n 2043.76,\n 2042.92,\n 2037.5,\n 2032.35,\n 2039.74,\n 2034.65,\n 2032.72,\n 2038.31,\n 2060.08,\n 2066.53,\n 2061.88,\n 2063.73,\n 2037.87,\n 1991.48,\n 1999.36,\n 2015.78,\n 2025.71,\n 2035.99,\n 2049.7,\n 2054.07,\n 2047.11,\n 2062.82,\n 2053.06,\n 2068.72,\n 2043.63,\n 2054.86,\n 2053.0,\n 2065.3,\n 2053.8,\n 2056.82,\n 2031.93,\n 2033.73,\n 2015.44,\n 2022.66,\n 2027.61,\n 2040.43,\n 2040.94,\n 2040.6,\n 2033.0,\n 2047.74,\n 2037.17,\n 2013.89,\n 2024.12,\n 2019.42,\n 2008.19,\n 2007.39,\n 1978.94,\n 1983.8,\n 1982.02,\n 1997.58,\n 2003.38,\n 1958.38,\n 2002.6,\n 1984.43,\n 1974.4,\n 1967.53,\n 1979.65,\n 1980.55,\n 1974.58,\n 1966.05,\n 1983.47,\n 1987.95,\n 1971.26,\n 1974.46,\n 1978.13,\n 1978.39,\n 1983.48,\n 1983.75,\n 1970.61,\n 1963.36,\n 1989.86,\n 1991.89,\n 2031.07,\n 2024.69,\n 2027.24,\n 2035.98,\n 2036.87,\n 2036.65,\n 2042.24,\n 2038.39,\n 2041.94,\n 2037.96,\n 2035.73,\n 2035.9,\n 2037.75,\n 2042.17,\n 2024.49,\n 2026.46,\n 2026.16,\n 2043.97,\n 2045.64,\n 2041.95,\n 2049.12,\n 2048.78,\n 2045.12,\n 2075.17,\n 2087.14,\n 2076.79,\n 2064.17,\n 2071.87,\n 2070.54,\n 2072.79,\n 2065.61,\n 2065.99,\n 2065.76,\n 2066.94,\n 2083.59,\n 2067.57,\n 2080.48,\n 2071.01,\n 2073.16,\n 2077.66,\n 2075.21,\n 2065.08,\n 2065.88,\n 2075.08,\n 2078.65,\n 2074.57,\n 2083.86,\n 2081.84,\n 2080.58,\n 2084.39,\n 2102.93,\n 2106.61,\n 2107.63,\n 2094.12,\n 2085.52,\n 2091.64,\n 2102.65,\n 2078.75,\n 2081.36,\n 2094.05,\n 2095.41,\n 2091.06,\n 2097.35,\n 2117.59,\n 2133.78,\n 2133.0,\n 2150.08,\n 2164.58,\n 2157.01,\n 2178.38,\n 2168.3,\n 2172.72,\n 2168.95,\n 2155.66,\n 2163.31,\n 2166.98,\n 2164.64,\n 2160.23,\n 2167.51,\n 2161.1,\n 2160.85,\n 2152.75,\n 2151.73,\n 2133.32,\n 2123.85,\n 2128.91,\n 2148.61,\n 2134.88,\n 2145.76,\n 2148.46,\n 2138.4,\n 2149.15,\n 2165.04,\n 2173.74,\n 2196.85,\n 2207.84,\n 2209.46,\n 2205.44,\n 2219.67,\n 2241.24,\n 2292.76,\n 2270.12,\n 2296.37,\n 2286.02,\n 2290.65,\n 2295.33,\n 2293.08,\n 2286.82,\n 2288.48,\n 2304.03,\n 2311.74,\n 2317.34,\n 2342.93,\n 2355.3,\n 2352.97,\n 2343.68,\n 2347.38,\n 2344.61,\n 2371.72,\n 2368.62,\n 2360.14,\n 2363.57,\n 2381.69,\n 2357.87,\n 2374.7,\n 2372.64,\n 2361.65,\n 2361.83,\n 2370.9,\n 2369.23,\n 2357.53,\n 2370.37,\n 2378.6,\n 2388.66,\n 2391.95,\n 2382.56,\n 2395.66,\n 2391.79,\n 2394.48,\n 2380.52,\n 2388.35,\n 2387.81,\n 2379.87,\n 2382.1,\n 2396.0,\n 2391.77,\n 2409.49,\n 2414.63,\n 2425.1,\n 2426.04,\n 2429.94,\n 2441.84,\n 2450.06,\n 2451.53,\n 2439.9,\n 2434.51,\n 2443.24,\n 2400.99,\n 2402.71,\n 2422.96,\n 2427.63,\n 2386.85,\n 2395.45,\n 2398.75,\n 2394.73,\n 2368.39,\n 2359.47,\n 2319.71,\n 2334.22,\n 2348.26,\n 2361.67,\n 2358.37,\n 2355.0,\n 2365.33,\n 2366.4,\n 2375.84,\n 2378.51,\n 2370.3,\n 2364.74,\n 2372.29,\n 2363.19,\n 2357.69,\n 2329.65,\n 2326.62,\n 2319.82,\n 2346.19,\n 2343.72,\n 2359.08,\n 2365.47,\n 2360.18,\n 2377.66,\n 2386.07,\n 2418.21,\n 2416.05,\n 2412.2,\n 2406.5,\n 2388.71,\n 2380.4,\n 2374.32,\n 2372.57,\n 2373.14,\n 2394.47,\n 2433.81,\n 2458.16,\n 2474.76,\n 2473.62,\n 2480.05,\n 2484.37,\n 2482.91,\n 2473.06,\n 2489.54,\n 2490.05,\n 2490.49,\n 2492.5,\n 2480.63,\n 2496.63,\n 2501.93,\n 2523.43,\n 2556.47,\n 2546.36,\n 2557.97,\n 2549.41,\n 2545.44,\n 2552.4,\n 2550.57,\n 2542.95,\n 2530.35,\n 2526.64,\n 2518.25,\n 2534.79,\n 2533.99,\n 2527.67,\n 2530.7,\n 2540.51,\n 2537.15,\n 2544.33,\n 2507.81,\n 2514.19,\n 2512.9,\n 2476.37,\n 2475.41,\n 2501.67,\n 2510.12,\n 2474.37,\n 2461.98,\n 2464.0,\n 2471.49,\n 2461.0,\n 2480.55,\n 2469.48,\n 2482.07,\n 2481.88,\n 2478.53,\n 2472.37,\n 2429.83,\n 2440.54,\n 2427.34,\n 2436.67,\n 2467.49,\n 2479.65,\n 2486.35,\n 2466.46,\n 2497.52,\n 2513.28,\n 2510.23,\n 2499.75,\n 2487.91,\n 2496.42,\n 2503.73,\n 2521.74,\n 2515.43,\n 2515.81,\n 2520.26,\n 2502.11,\n 2536.6,\n 2538.0,\n 2562.23,\n 2574.76,\n 2598.19,\n 2567.74,\n 2566.46,\n 2568.54,\n 2525.39,\n 2491.75,\n 2453.31,\n 2396.56,\n 2407.62,\n 2363.77,\n 2385.38,\n 2395.19,\n 2421.83,\n 2442.82,\n 2415.12,\n 2429.65,\n 2414.28,\n 2451.52,\n 2457.65,\n 2456.14,\n 2427.36,\n 2402.16,\n 2375.06,\n 2411.41,\n 2401.82,\n ...]"
      ]
     },
     "execution_count": 16,
     "metadata": {},
     "output_type": "execute_result"
    }
   ],
   "source": [
    "dateinfo\n",
    "last_trade_prices"
   ]
  },
  {
   "cell_type": "markdown",
   "metadata": {},
   "source": [
    "# Plot"
   ]
  },
  {
   "cell_type": "code",
   "execution_count": 20,
   "metadata": {},
   "outputs": [
    {
     "name": "stdout",
     "output_type": "stream",
     "text": [
      "[0, 60, 120, 180, 240, 300, 360, 420, 480, 540, 600, 660, 720, 780, 840, 900, 960, 1020, 1080, 1140]\n0\n60\n120\n180\n240\n300\n360\n420\n480\n540\n600\n660\n720\n780\n840\n900\n960\n1020\n1080\n1140\n"
     ]
    },
    {
     "data": {
      "text/plain": [
       "<Figure size 1008x504 with 0 Axes>"
      ]
     },
     "execution_count": 0,
     "metadata": {},
     "output_type": "execute_result"
    }
   ],
   "source": [
    "plt.figure(1, figsize=(14, 7))\n",
    "n = len(last_trade_prices)\n",
    "x = list(range(n))\n",
    "step = int(n/20)\n",
    "xtick_input = list(x[0:n:step])\n",
    "print(xtick_input)\n",
    "for i in xtick_input:\n",
    "    print(i)"
   ]
  },
  {
   "cell_type": "code",
   "execution_count": 21,
   "metadata": {
    "collapsed": false
   },
   "outputs": [
    {
     "data": {
      "text/plain": [
       "Text(0.5, 1.0, 'KOSPI')"
      ]
     },
     "execution_count": 21,
     "metadata": {},
     "output_type": "execute_result"
    },
    {
     "data": {
      "image/png": "[encoded data removed]",
      "text/plain": [
       "<Figure size 1008x504 with 1 Axes>"
      ]
     },
     "metadata": {},
     "output_type": "display_data"
    }
   ],
   "source": [
    "plt.figure(1, figsize=(14, 7))\n",
    "n = len(last_trade_prices)\n",
    "x = list(range(n))\n",
    "step = int(n/20)\n",
    "xtick_input = list(x[0:n:step])\n",
    "xtick_input.append(x[-1])\n",
    "xtick_str = date_strs[0:n:step]\n",
    "xtick_str.append(date_strs[-1])\n",
    "plt.xticks(xtick_input, xtick_str, fontsize=20\n",
    "           , rotation='vertical')\n",
    "plt.plot(x, last_trade_prices, \"-\")\n",
    "plt.title(\"KOSPI\")"
   ]
  },
  {
   "cell_type": "markdown",
   "metadata": {
    "collapsed": false
   },
   "source": [
    "# GPR on this data"
   ]
  },
  {
   "cell_type": "markdown",
   "metadata": {},
   "source": [
    "## Kernel function"
   ]
  },
  {
   "cell_type": "code",
   "execution_count": 22,
   "metadata": {
    "collapsed": false
   },
   "outputs": [],
   "source": [
    "def kernel_se(X1, X2, g2, l2, w2):\n",
    "    n1 = X1.shape[0]\n",
    "    n2 = X2.shape[0]\n",
    "    K  = np.zeros((n1, n2))\n",
    "    for i in range(n1):\n",
    "        for j in range(n2):\n",
    "            x1 = X1[i, :]\n",
    "            x2 = X2[j, :]\n",
    "            d  = x1 - x2\n",
    "            K[i, j] = g2*np.exp(-d*d/(l2))\n",
    "            if n1 > 1 and i == j:\n",
    "                K[i, j] = K[i, j] + w2\n",
    "    return K\n",
    "print (\"Kernel function defined\")"
   ]
  },
  {
   "cell_type": "markdown",
   "metadata": {},
   "source": [
    "## GPR"
   ]
  },
  {
   "cell_type": "code",
   "execution_count": 23,
   "metadata": {
    "collapsed": false
   },
   "outputs": [
    {
     "name": "stdout",
     "output_type": "stream",
     "text": [
      "GPR ready\n"
     ]
    },
    {
     "data": {
      "text/plain": [
       "<matplotlib.legend.Legend at 0x10f2c7f0>"
      ]
     },
     "execution_count": 23,
     "metadata": {},
     "output_type": "execute_result"
    },
    {
     "data": {
      "image/png": "[encoded data removed]",
      "text/plain": [
       "<Figure size 1080x576 with 1 Axes>"
      ]
     },
     "metadata": {},
     "output_type": "display_data"
    }
   ],
   "source": [
    "xdata = np.array(x).reshape(-1, len(x)).T\n",
    "ydata = np.array(last_trade_prices).reshape(-1, len(last_trade_prices)).T\n",
    "ydata_mz = ydata - np.mean(ydata)\n",
    "xtest = xtest = np.array([np.linspace(0, 1200, 3000)]).T\n",
    "g2    = 1\n",
    "l2    = 30\n",
    "w2    = 1e-1\n",
    "Kdata = kernel_se(xdata, xdata, g2, l2, w2)\n",
    "alpha = np.matmul(np.linalg.inv(Kdata), ydata_mz)\n",
    "Ktest = kernel_se(xtest, xdata, g2, l2, w2)\n",
    "ytest = np.matmul(Ktest, alpha) + np.mean(ydata)\n",
    "print (\"GPR ready\")\n",
    "\n",
    "# Plot \n",
    "plt.figure(1, figsize=(15, 8))\n",
    "plt.plot(xdata[:, 0], ydata[:, 0], 'r-', label='Original data')\n",
    "plt.plot(xtest[:, 0], ytest[:, 0], 'b-', label='GPR')\n",
    "plt.legend()"
   ]
  },
  {
   "cell_type": "code",
   "execution_count": 24,
   "metadata": {
    "collapsed": false
   },
   "outputs": [
    {
     "data": {
      "text/plain": [
       "array([[0.00000000e+00],\n       [4.00133378e-01],\n       [8.00266756e-01],\n       ...,\n       [1.19919973e+03],\n       [1.19959987e+03],\n       [1.20000000e+03]])"
      ]
     },
     "execution_count": 24,
     "metadata": {},
     "output_type": "execute_result"
    }
   ],
   "source": [
    "xtest"
   ]
  },
  {
   "cell_type": "code",
   "execution_count": null,
   "metadata": {},
   "outputs": [],
   "source": [
    ""
   ]
  }
 ],
 "metadata": {
  "kernelspec": {
   "display_name": "Python 2",
   "language": "python",
   "name": "python2"
  },
  "language_info": {
   "codemirror_mode": {
    "name": "ipython",
    "version": 2.0
   },
   "file_extension": ".py",
   "mimetype": "text/x-python",
   "name": "python",
   "nbconvert_exporter": "python",
   "pygments_lexer": "ipython2",
   "version": "2.7.6"
  }
 },
 "nbformat": 4,
 "nbformat_minor": 0
}